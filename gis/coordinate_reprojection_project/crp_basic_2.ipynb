{
 "cells": [
  {
   "cell_type": "markdown",
   "metadata": {
    "collapsed": true
   },
   "source": [
    "# COORDINATE REPROJECTION PROJECT\n",
    "\n",
    ">## AIM\n",
    "The main AIM is to reproject projected coordinates (xyz) to a user-defined coordinate system (local xyz) (e.g. for data analysis and data visualisation).\n",
    "\n",
    ">## OVERVIEW\n",
    "\n",
    ">### 1. Basic actions with coordinates\n",
    "This section comprises a series of 'basic' actions to deal with projected coordinates. The main idea is to be able to convert  textfiles that contain xyz coordinates (e.g. GPS data collected during fieldwork) to shapefiles (or GeoJSON). One should be able to convert (a) the entire file, (b) a selection of the data based on attribute data, or (c) a selection of the data based on spatial location. Additionally, we want to switch between EPSG projections.\n",
    "\n",
    ">An overview of the actions:\n",
    "1. read coordinates from textfile (.txt) and convert these to a shapefile (or GeoJSON).\n",
    "2. read coordinates from textfile (.txt), select coordinates by attribute and write these to shapefile (or GeoJSON).\n",
    "3. read coordinates from textfile (.txt), select coordinates by spatial location and write these to shapefile (or GeoJSON).\n",
    "4. switch from one EPSG projected coordinate system to another.\n",
    "\n",
    "\n",
    ">### 2. Main objectives/challenges\n",
    "The main AIM of this project is to reproject projected coordinates (xyz) to a user-defined coordinate system (local xyz). Therefore, three main objectives/challenges are pursued:\n",
    "1. SHIFT from projected coordinates to user-defined coordinates.\n",
    "2. SHIFT and ROTATE from projected coordinates to user-defined coordinates.\n",
    "3. SHIFT, ROTATE and TILT from projected coordinates to user-defined coordinates (e.g. to visualise vertical data; soil profiles).\n",
    "\n",
    ">### 3. Ideas\n",
    "A series possible coordinate manipulations are currently on the ideas/thoughts level, but have potential to be useful.\n",
    "1. SCALE (shrink/enlarge) to user-defined coordinate system (with/out rotation and/or tilt?)"
   ]
  },
  {
   "cell_type": "markdown",
   "metadata": {},
   "source": [
    "___"
   ]
  },
  {
   "cell_type": "markdown",
   "metadata": {},
   "source": [
    "## NOTE\n",
    "This notebook only deals with *basic actions with coordinates 1*:\n",
    "> **Read coordinates from textfile (.txt) and write these to seperate shapefiles based on attributes (or GeoJSON).**"
   ]
  },
  {
   "cell_type": "markdown",
   "metadata": {
    "collapsed": true
   },
   "source": [
    "## CODE"
   ]
  },
  {
   "cell_type": "code",
   "execution_count": 1,
   "metadata": {
    "collapsed": false
   },
   "outputs": [],
   "source": [
    "import os\n",
    "\n",
    "# GUI user interface\n",
    "from tkinter import Tk\n",
    "import tkinter.filedialog as tkfd\n",
    "import tkinter.simpledialog as tksd\n",
    "\n",
    "# to perform conversion\n",
    "import csv\n",
    "from osgeo import ogr, osr\n",
    "import fiona\n",
    "\n",
    "# to visualise example\n",
    "import pandas as pd\n",
    "import geopandas as gpd\n",
    "import matplotlib.pyplot as plt\n",
    "%matplotlib inline"
   ]
  },
  {
   "cell_type": "markdown",
   "metadata": {},
   "source": [
    "## 1. Load data and define coordinate projection with tkinter"
   ]
  },
  {
   "cell_type": "markdown",
   "metadata": {},
   "source": [
    "locate input coordinate textfile"
   ]
  },
  {
   "cell_type": "code",
   "execution_count": 2,
   "metadata": {
    "collapsed": true
   },
   "outputs": [],
   "source": [
    "root = Tk()\n",
    "input_textfile = tkfd.askopenfilename(title = \"Select input textfile\", \n",
    "                                      initialdir = \"C:/\", \n",
    "                                      filetypes = ((\"textfile\", \"*.txt\"),(\"all files\", \"*.*\")))\n",
    "root.destroy()"
   ]
  },
  {
   "cell_type": "code",
   "execution_count": 3,
   "metadata": {
    "collapsed": false
   },
   "outputs": [
    {
     "data": {
      "text/plain": [
       "'C:/WERKMAP/Anaconda/coordinaten_project/DrongengoedCoord.txt'"
      ]
     },
     "execution_count": 3,
     "metadata": {},
     "output_type": "execute_result"
    }
   ],
   "source": [
    "input_textfile"
   ]
  },
  {
   "cell_type": "markdown",
   "metadata": {},
   "source": [
    "set output directory"
   ]
  },
  {
   "cell_type": "code",
   "execution_count": 4,
   "metadata": {
    "collapsed": true
   },
   "outputs": [],
   "source": [
    "root = Tk()\n",
    "output_directory = tkfd.askdirectory(title = \"Select your output folder\", \n",
    "                         initialdir = \"C:/\")\n",
    "root.destroy()"
   ]
  },
  {
   "cell_type": "code",
   "execution_count": 5,
   "metadata": {
    "collapsed": false
   },
   "outputs": [
    {
     "data": {
      "text/plain": [
       "'C:/WERKMAP/Anaconda/coordinaten_project'"
      ]
     },
     "execution_count": 5,
     "metadata": {},
     "output_type": "execute_result"
    }
   ],
   "source": [
    "output_directory"
   ]
  },
  {
   "cell_type": "markdown",
   "metadata": {},
   "source": [
    "define coordinate system"
   ]
  },
  {
   "cell_type": "code",
   "execution_count": 6,
   "metadata": {
    "collapsed": true
   },
   "outputs": [],
   "source": [
    "root = Tk()\n",
    "spatial_reference = tksd.askstring(title= \"define spatial reference\", \n",
    "                                   prompt = \"define spatial reference (EPSG code)\")\n",
    "root.destroy()"
   ]
  },
  {
   "cell_type": "markdown",
   "metadata": {},
   "source": [
    "## 2. Create the shapefiles, based on the attribute field"
   ]
  },
  {
   "cell_type": "markdown",
   "metadata": {},
   "source": [
    "Let's have a look at the example textfile"
   ]
  },
  {
   "cell_type": "code",
   "execution_count": 7,
   "metadata": {
    "collapsed": false
   },
   "outputs": [],
   "source": [
    "example = pd.read_csv(input_textfile, \n",
    "                      delimiter = \",\", \n",
    "                      lineterminator = \"\\n\")"
   ]
  },
  {
   "cell_type": "code",
   "execution_count": 8,
   "metadata": {
    "collapsed": false
   },
   "outputs": [
    {
     "data": {
      "text/html": [
       "<div>\n",
       "<style>\n",
       "    .dataframe thead tr:only-child th {\n",
       "        text-align: right;\n",
       "    }\n",
       "\n",
       "    .dataframe thead th {\n",
       "        text-align: left;\n",
       "    }\n",
       "\n",
       "    .dataframe tbody tr th {\n",
       "        vertical-align: top;\n",
       "    }\n",
       "</style>\n",
       "<table border=\"1\" class=\"dataframe\">\n",
       "  <thead>\n",
       "    <tr style=\"text-align: right;\">\n",
       "      <th></th>\n",
       "      <th>ID</th>\n",
       "      <th>X</th>\n",
       "      <th>Y</th>\n",
       "      <th>Z</th>\n",
       "      <th>CODE</th>\n",
       "    </tr>\n",
       "  </thead>\n",
       "  <tbody>\n",
       "    <tr>\n",
       "      <th>0</th>\n",
       "      <td>1</td>\n",
       "      <td>86837.211</td>\n",
       "      <td>204464.230</td>\n",
       "      <td>25.272</td>\n",
       "      <td>GCP00</td>\n",
       "    </tr>\n",
       "    <tr>\n",
       "      <th>1</th>\n",
       "      <td>2</td>\n",
       "      <td>86840.454</td>\n",
       "      <td>204463.504</td>\n",
       "      <td>25.309</td>\n",
       "      <td>GCP00</td>\n",
       "    </tr>\n",
       "    <tr>\n",
       "      <th>2</th>\n",
       "      <td>3</td>\n",
       "      <td>86821.776</td>\n",
       "      <td>204469.102</td>\n",
       "      <td>25.097</td>\n",
       "      <td>GCP00</td>\n",
       "    </tr>\n",
       "    <tr>\n",
       "      <th>3</th>\n",
       "      <td>4</td>\n",
       "      <td>86815.840</td>\n",
       "      <td>204472.849</td>\n",
       "      <td>24.607</td>\n",
       "      <td>GCP01</td>\n",
       "    </tr>\n",
       "    <tr>\n",
       "      <th>4</th>\n",
       "      <td>5</td>\n",
       "      <td>86814.639</td>\n",
       "      <td>204469.858</td>\n",
       "      <td>24.585</td>\n",
       "      <td>GCP01</td>\n",
       "    </tr>\n",
       "    <tr>\n",
       "      <th>5</th>\n",
       "      <td>6</td>\n",
       "      <td>86822.362</td>\n",
       "      <td>204468.977</td>\n",
       "      <td>24.589</td>\n",
       "      <td>GCP01</td>\n",
       "    </tr>\n",
       "    <tr>\n",
       "      <th>6</th>\n",
       "      <td>7</td>\n",
       "      <td>86830.047</td>\n",
       "      <td>204468.465</td>\n",
       "      <td>24.673</td>\n",
       "      <td>GCP01</td>\n",
       "    </tr>\n",
       "    <tr>\n",
       "      <th>7</th>\n",
       "      <td>8</td>\n",
       "      <td>86828.921</td>\n",
       "      <td>204465.311</td>\n",
       "      <td>24.578</td>\n",
       "      <td>GCP01</td>\n",
       "    </tr>\n",
       "    <tr>\n",
       "      <th>8</th>\n",
       "      <td>9</td>\n",
       "      <td>86837.190</td>\n",
       "      <td>204464.598</td>\n",
       "      <td>25.037</td>\n",
       "      <td>GCP01</td>\n",
       "    </tr>\n",
       "    <tr>\n",
       "      <th>9</th>\n",
       "      <td>10</td>\n",
       "      <td>86845.084</td>\n",
       "      <td>204464.014</td>\n",
       "      <td>25.026</td>\n",
       "      <td>GCP01</td>\n",
       "    </tr>\n",
       "  </tbody>\n",
       "</table>\n",
       "</div>"
      ],
      "text/plain": [
       "   ID          X           Y       Z   CODE\n",
       "0   1  86837.211  204464.230  25.272  GCP00\n",
       "1   2  86840.454  204463.504  25.309  GCP00\n",
       "2   3  86821.776  204469.102  25.097  GCP00\n",
       "3   4  86815.840  204472.849  24.607  GCP01\n",
       "4   5  86814.639  204469.858  24.585  GCP01\n",
       "5   6  86822.362  204468.977  24.589  GCP01\n",
       "6   7  86830.047  204468.465  24.673  GCP01\n",
       "7   8  86828.921  204465.311  24.578  GCP01\n",
       "8   9  86837.190  204464.598  25.037  GCP01\n",
       "9  10  86845.084  204464.014  25.026  GCP01"
      ]
     },
     "execution_count": 8,
     "metadata": {},
     "output_type": "execute_result"
    }
   ],
   "source": [
    "example.head(10)"
   ]
  },
  {
   "cell_type": "markdown",
   "metadata": {},
   "source": [
    "from texfile to shapefiles"
   ]
  },
  {
   "cell_type": "code",
   "execution_count": 9,
   "metadata": {
    "collapsed": false
   },
   "outputs": [],
   "source": [
    "reader = csv.DictReader(open(input_textfile), \n",
    "                        delimiter = \",\", \n",
    "                        lineterminator = \"\\n\", \n",
    "                        quoting = csv.QUOTE_NONE)"
   ]
  },
  {
   "cell_type": "code",
   "execution_count": 10,
   "metadata": {
    "collapsed": false
   },
   "outputs": [
    {
     "data": {
      "text/plain": [
       "<csv.DictReader at 0x9f60780>"
      ]
     },
     "execution_count": 10,
     "metadata": {},
     "output_type": "execute_result"
    }
   ],
   "source": [
    "reader"
   ]
  },
  {
   "cell_type": "markdown",
   "metadata": {},
   "source": [
    "a temporary shapefile with all coordinates is created"
   ]
  },
  {
   "cell_type": "code",
   "execution_count": 11,
   "metadata": {
    "collapsed": false
   },
   "outputs": [],
   "source": [
    "temp_shape = output_directory + \"/temp.shp\""
   ]
  },
  {
   "cell_type": "code",
   "execution_count": 12,
   "metadata": {
    "collapsed": false
   },
   "outputs": [
    {
     "data": {
      "text/plain": [
       "'C:/WERKMAP/Anaconda/coordinaten_project/temp.shp'"
      ]
     },
     "execution_count": 12,
     "metadata": {},
     "output_type": "execute_result"
    }
   ],
   "source": [
    "temp_shape"
   ]
  },
  {
   "cell_type": "code",
   "execution_count": 13,
   "metadata": {
    "collapsed": false
   },
   "outputs": [],
   "source": [
    "driver = ogr.GetDriverByName(\"ESRI Shapefile\")\n",
    "data_source = driver.CreateDataSource(temp_shape)"
   ]
  },
  {
   "cell_type": "code",
   "execution_count": 14,
   "metadata": {
    "collapsed": false
   },
   "outputs": [
    {
     "data": {
      "text/plain": [
       "0"
      ]
     },
     "execution_count": 14,
     "metadata": {},
     "output_type": "execute_result"
    }
   ],
   "source": [
    "spatialRef = osr.SpatialReference()\n",
    "spatialRef.ImportFromUrl(\"http://spatialreference.org/ref/epsg/\" + spatial_reference + \"/\")"
   ]
  },
  {
   "cell_type": "code",
   "execution_count": 15,
   "metadata": {
    "collapsed": false
   },
   "outputs": [
    {
     "name": "stdout",
     "output_type": "stream",
     "text": [
      "PROJCS[\"Belge 1972 / Belgian Lambert 72\",\n",
      "    GEOGCS[\"Belge 1972\",\n",
      "        DATUM[\"Reseau_National_Belge_1972\",\n",
      "            SPHEROID[\"International 1924\",6378388,297,\n",
      "                AUTHORITY[\"EPSG\",\"7022\"]],\n",
      "            TOWGS84[106.869,-52.2978,103.724,-0.33657,0.456955,-1.84218,1],\n",
      "            AUTHORITY[\"EPSG\",\"6313\"]],\n",
      "        PRIMEM[\"Greenwich\",0,\n",
      "            AUTHORITY[\"EPSG\",\"8901\"]],\n",
      "        UNIT[\"degree\",0.01745329251994328,\n",
      "            AUTHORITY[\"EPSG\",\"9122\"]],\n",
      "        AUTHORITY[\"EPSG\",\"4313\"]],\n",
      "    UNIT[\"metre\",1,\n",
      "        AUTHORITY[\"EPSG\",\"9001\"]],\n",
      "    PROJECTION[\"Lambert_Conformal_Conic_2SP\"],\n",
      "    PARAMETER[\"standard_parallel_1\",51.16666723333333],\n",
      "    PARAMETER[\"standard_parallel_2\",49.8333339],\n",
      "    PARAMETER[\"latitude_of_origin\",90],\n",
      "    PARAMETER[\"central_meridian\",4.367486666666666],\n",
      "    PARAMETER[\"false_easting\",150000.013],\n",
      "    PARAMETER[\"false_northing\",5400088.438],\n",
      "    AUTHORITY[\"EPSG\",\"31370\"],\n",
      "    AXIS[\"X\",EAST],\n",
      "    AXIS[\"Y\",NORTH]]\n"
     ]
    }
   ],
   "source": [
    "print(spatialRef)"
   ]
  },
  {
   "cell_type": "code",
   "execution_count": 16,
   "metadata": {
    "collapsed": false
   },
   "outputs": [],
   "source": [
    "layer = data_source.CreateLayer('coordlayer', spatialRef, ogr.wkbPoint)"
   ]
  },
  {
   "cell_type": "code",
   "execution_count": 17,
   "metadata": {
    "collapsed": false
   },
   "outputs": [
    {
     "data": {
      "text/plain": [
       "0"
      ]
     },
     "execution_count": 17,
     "metadata": {},
     "output_type": "execute_result"
    }
   ],
   "source": [
    "field_name = ogr.FieldDefn(\"ID\", ogr.OFTString)\n",
    "field_name.SetWidth(5)\n",
    "layer.CreateField(field_name)\n",
    "field_region = ogr.FieldDefn(\"CODE\", ogr.OFTString)\n",
    "field_region.SetWidth(24)\n",
    "layer.CreateField(field_region)\n",
    "layer.CreateField(ogr.FieldDefn(\"X\", ogr.OFTReal))\n",
    "layer.CreateField(ogr.FieldDefn(\"Y\", ogr.OFTReal))\n",
    "layer.CreateField(ogr.FieldDefn(\"Z\", ogr.OFTReal))"
   ]
  },
  {
   "cell_type": "code",
   "execution_count": 18,
   "metadata": {
    "collapsed": true
   },
   "outputs": [],
   "source": [
    "for row in reader:\n",
    "    feature = ogr.Feature(layer.GetLayerDefn())\n",
    "    feature.SetField(\"ID\", row['ID'])\n",
    "    feature.SetField(\"CODE\", row['CODE'])\n",
    "    feature.SetField(\"X\", row['X'])\n",
    "    feature.SetField(\"Y\", row['Y'])\n",
    "    feature.SetField(\"Z\", row['Z'])\n",
    "    wkt = \"POINT(%f %f)\" %  (float(row['X']) , float(row['Y']))\n",
    "    point = ogr.CreateGeometryFromWkt(wkt)\n",
    "    feature.SetGeometry(point)\n",
    "    layer.CreateFeature(feature)\n",
    "    feature = None"
   ]
  },
  {
   "cell_type": "code",
   "execution_count": 19,
   "metadata": {
    "collapsed": true
   },
   "outputs": [],
   "source": [
    "data_source = None"
   ]
  },
  {
   "cell_type": "markdown",
   "metadata": {},
   "source": [
    "the temporary shapefile is split by the attribute field and deleted"
   ]
  },
  {
   "cell_type": "code",
   "execution_count": 20,
   "metadata": {
    "collapsed": false
   },
   "outputs": [],
   "source": [
    "with fiona.open(temp_shape) as source:\n",
    "    meta = source.meta\n",
    "    for f in source:\n",
    "        outfile = os.path.join(output_directory, \"%s.shp\" % f['properties']['CODE']) #CODE is field to split\n",
    "        try:\n",
    "            with fiona.open(outfile, 'a', **meta) as sink:\n",
    "                sink.write(f)\n",
    "        except:\n",
    "            with fiona.open(outfile, 'w', **meta) as sink:\n",
    "                sink.write(f)"
   ]
  },
  {
   "cell_type": "code",
   "execution_count": 24,
   "metadata": {
    "collapsed": false
   },
   "outputs": [],
   "source": [
    "driver = ogr.GetDriverByName(\"ESRI Shapefile\")\n",
    "if os.path.exists(temp_shape):\n",
    "     driver.DeleteDataSource(temp_shape)"
   ]
  }
 ],
 "metadata": {
  "kernelspec": {
   "display_name": "Python 3",
   "language": "python",
   "name": "python3"
  },
  "language_info": {
   "codemirror_mode": {
    "name": "ipython",
    "version": 3
   },
   "file_extension": ".py",
   "mimetype": "text/x-python",
   "name": "python",
   "nbconvert_exporter": "python",
   "pygments_lexer": "ipython3",
   "version": "3.6.0"
  }
 },
 "nbformat": 4,
 "nbformat_minor": 2
}
