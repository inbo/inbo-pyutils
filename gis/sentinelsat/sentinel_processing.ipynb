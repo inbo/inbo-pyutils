{
 "cells": [
  {
   "cell_type": "markdown",
   "metadata": {},
   "source": [
    "# Processing sentinel-2 data"
   ]
  },
  {
   "cell_type": "markdown",
   "metadata": {},
   "source": [
    "## DATA MANAGMENT and PREPARATION"
   ]
  },
  {
   "cell_type": "code",
   "execution_count": 1,
   "metadata": {
    "collapsed": true
   },
   "outputs": [],
   "source": [
    "import os\n",
    "from glob import glob\n",
    "import zipfile\n",
    "import shutil\n",
    "\n",
    "# import gui tkinter\n",
    "from tkinter import Tk\n",
    "import tkinter.filedialog as tkfd\n",
    "\n",
    "import logging"
   ]
  },
  {
   "cell_type": "code",
   "execution_count": 2,
   "metadata": {
    "collapsed": true
   },
   "outputs": [],
   "source": [
    "logging.basicConfig(format='%(message)s', level='INFO')"
   ]
  },
  {
   "cell_type": "markdown",
   "metadata": {},
   "source": [
    "### Set input and output directories"
   ]
  },
  {
   "cell_type": "markdown",
   "metadata": {},
   "source": [
    "**Set input directory**, storing the downloaded Sentinel zipfiles, and the **output directory**, where the processed imagery will be saved."
   ]
  },
  {
   "cell_type": "code",
   "execution_count": 3,
   "metadata": {
    "collapsed": true
   },
   "outputs": [],
   "source": [
    "root = Tk()\n",
    "input_zip_files = tkfd.askopenfilenames(title = \"Select input dataset (zipfiles)\", \n",
    "                                             initialdir = \"C:/\", \n",
    "                                             filetypes = ((\"zipfile\", \"*.zip\"),(\"all files\", \"*.*\")))\n",
    "output_dir = tkfd.askdirectory(title = \"Select output folder\", initialdir = \"C:/\")\n",
    "bounding_box_flanders = tkfd.askopenfilename(title = \"Select input GeoJSON, defining the bounding box of Flanders\", \n",
    "                                             initialdir = \"C:/\", \n",
    "                                             filetypes = ((\"GeoJSON\", \"*.geojson\"),(\"all files\", \"*.*\")))\n",
    "root.destroy()"
   ]
  },
  {
   "cell_type": "code",
   "execution_count": 4,
   "metadata": {},
   "outputs": [
    {
     "data": {
      "text/plain": [
       "('C:/WERKMAP/Anaconda/sentinelsat/downloaded_datasets/S2A_OPER_PRD_MSIL1C_PDMC_20160811T040836_R051_V20160809T105032_20160809T105030.zip',\n",
       " 'C:/WERKMAP/Anaconda/sentinelsat/downloaded_datasets/S2A_OPER_PRD_MSIL1C_PDMC_20160812T191647_R094_V20160812T105622_20160812T105622.zip',\n",
       " 'C:/WERKMAP/Anaconda/sentinelsat/downloaded_datasets/S2A_OPER_PRD_MSIL1C_PDMC_20160823T181344_R094_V20160822T105652_20160822T110529.zip',\n",
       " 'C:/WERKMAP/Anaconda/sentinelsat/downloaded_datasets/S2A_OPER_PRD_MSIL1C_PDMC_20160827T181148_R008_V20160826T104022_20160826T104023.zip',\n",
       " 'C:/WERKMAP/Anaconda/sentinelsat/downloaded_datasets/S2A_OPER_PRD_MSIL1C_PDMC_20160827T195703_R008_V20160826T104022_20160826T104023.zip',\n",
       " 'C:/WERKMAP/Anaconda/sentinelsat/downloaded_datasets/S2A_OPER_PRD_MSIL1C_PDMC_20160908T001527_R094_V20160812T105622_20160812T105622.zip')"
      ]
     },
     "execution_count": 4,
     "metadata": {},
     "output_type": "execute_result"
    }
   ],
   "source": [
    "input_zip_files"
   ]
  },
  {
   "cell_type": "code",
   "execution_count": 5,
   "metadata": {},
   "outputs": [
    {
     "data": {
      "text/plain": [
       "'C:/SS'"
      ]
     },
     "execution_count": 5,
     "metadata": {},
     "output_type": "execute_result"
    }
   ],
   "source": [
    "output_dir"
   ]
  },
  {
   "cell_type": "code",
   "execution_count": 6,
   "metadata": {},
   "outputs": [
    {
     "data": {
      "text/plain": [
       "'C:/WERKMAP/Anaconda/sentinelsat/geojson/footprint_flanders_geojson.geojson'"
      ]
     },
     "execution_count": 6,
     "metadata": {},
     "output_type": "execute_result"
    }
   ],
   "source": [
    "bounding_box_flanders"
   ]
  },
  {
   "cell_type": "markdown",
   "metadata": {},
   "source": [
    "check output_dir for what has been done in the past"
   ]
  },
  {
   "cell_type": "code",
   "execution_count": 7,
   "metadata": {},
   "outputs": [
    {
     "name": "stdout",
     "output_type": "stream",
     "text": [
      "WARNING: An output folder with date 20160809 already exist. C:/WERKMAP/Anaconda/sentinelsat/downloaded_datasets/S2A_OPER_PRD_MSIL1C_PDMC_20160811T040836_R051_V20160809T105032_20160809T105030.zip is dropped from the selection.\n",
      "C:/WERKMAP/Anaconda/sentinelsat/downloaded_datasets/S2A_OPER_PRD_MSIL1C_PDMC_20160812T191647_R094_V20160812T105622_20160812T105622.zip will be processed.\n",
      "WARNING: An output folder with date 20160822 already exist. C:/WERKMAP/Anaconda/sentinelsat/downloaded_datasets/S2A_OPER_PRD_MSIL1C_PDMC_20160823T181344_R094_V20160822T105652_20160822T110529.zip is dropped from the selection.\n",
      "WARNING: An output folder with date 20160826 already exist. C:/WERKMAP/Anaconda/sentinelsat/downloaded_datasets/S2A_OPER_PRD_MSIL1C_PDMC_20160827T181148_R008_V20160826T104022_20160826T104023.zip is dropped from the selection.\n",
      "WARNING: An output folder with date 20160826 already exist. C:/WERKMAP/Anaconda/sentinelsat/downloaded_datasets/S2A_OPER_PRD_MSIL1C_PDMC_20160827T195703_R008_V20160826T104022_20160826T104023.zip is dropped from the selection.\n",
      "C:/WERKMAP/Anaconda/sentinelsat/downloaded_datasets/S2A_OPER_PRD_MSIL1C_PDMC_20160908T001527_R094_V20160812T105622_20160812T105622.zip will be processed.\n"
     ]
    }
   ],
   "source": [
    "validated_zip_files = []\n",
    "for input_zip_file in input_zip_files:\n",
    "    date = input_zip_file[-19:-11]\n",
    "    if date not in os.listdir(output_dir):\n",
    "        validated_zip_files.append(input_zip_file)\n",
    "        print(input_zip_file, \"will be processed.\")\n",
    "    else:\n",
    "        print(\"WARNING: An output folder with date\", date, \"already exist.\", input_zip_file, \"is dropped from the selection.\")"
   ]
  },
  {
   "cell_type": "code",
   "execution_count": 8,
   "metadata": {},
   "outputs": [
    {
     "data": {
      "text/plain": [
       "['C:/WERKMAP/Anaconda/sentinelsat/downloaded_datasets/S2A_OPER_PRD_MSIL1C_PDMC_20160812T191647_R094_V20160812T105622_20160812T105622.zip',\n",
       " 'C:/WERKMAP/Anaconda/sentinelsat/downloaded_datasets/S2A_OPER_PRD_MSIL1C_PDMC_20160908T001527_R094_V20160812T105622_20160812T105622.zip']"
      ]
     },
     "execution_count": 8,
     "metadata": {},
     "output_type": "execute_result"
    }
   ],
   "source": [
    "validated_zip_files"
   ]
  },
  {
   "cell_type": "markdown",
   "metadata": {},
   "source": [
    "### UNZIP the data"
   ]
  },
  {
   "cell_type": "markdown",
   "metadata": {},
   "source": [
    "NOTE: Problemen met lengte van de paden in de sentinel datastructuur. Unzippen lukt wel indien niet te ver \"verstopt\" in de windows tree..."
   ]
  },
  {
   "cell_type": "code",
   "execution_count": 9,
   "metadata": {
    "collapsed": true
   },
   "outputs": [],
   "source": [
    "# define and create temporary folder where the files will be unzipped.\n",
    "extraction_zip_dir = output_dir + \"/tempUZ/\"\n",
    "if not os.path.isdir(output_dir + \"/tempUZ/\"):\n",
    "    os.mkdir(output_dir + \"/tempUZ/\")"
   ]
  },
  {
   "cell_type": "code",
   "execution_count": 10,
   "metadata": {},
   "outputs": [],
   "source": [
    "# unzip files\n",
    "for validated_zip_file in validated_zip_files:\n",
    "    z = zipfile.ZipFile(validated_zip_file)\n",
    "    z.extractall(extraction_zip_dir)"
   ]
  },
  {
   "cell_type": "markdown",
   "metadata": {},
   "source": [
    "### DELETE useless data"
   ]
  },
  {
   "cell_type": "markdown",
   "metadata": {},
   "source": [
    "Only granules within or partially within the bounding box of Flanders are kept. All other granules are deleted.\n",
    "\n",
    "Eight granules overlap with the Flanders bounding box: \n",
    "* T31UDT - T31UET - T31UFT - T31UGT\n",
    "* T31UDS - T31UES - T31UFS - T31UGS\n",
    "\n",
    "NOTE: Voor de data van juli 2016, +/- 30Gb overbodige data opgekuist op deze manier..."
   ]
  },
  {
   "cell_type": "code",
   "execution_count": 11,
   "metadata": {
    "collapsed": true
   },
   "outputs": [],
   "source": [
    "# Eight granules overlap with the Flanders bounding box\n",
    "selected_granules = [\"T31UDS\", \"T31UES\", \"T31UFS\", \"T31UGS\", \"T31UDT\", \"T31UET\", \"T31UFT\", \"T31UGT\"]\n",
    "# select folders with granules overlapping the bounding box of Flanders...\n",
    "selected_folders =[]\n",
    "for folder in glob(os.path.join(extraction_zip_dir, \"**\", \"*/GRANULE/*\"), recursive=True):\n",
    "    for granule in selected_granules:\n",
    "        if granule in folder:\n",
    "            selected_folders.append(folder)\n",
    "# and delete the other granules.\n",
    "for folder in glob(os.path.join(extraction_zip_dir, \"**\", \"*/GRANULE/*\"), recursive=True):\n",
    "    if folder not in selected_folders:\n",
    "        shutil.rmtree(folder)"
   ]
  },
  {
   "cell_type": "markdown",
   "metadata": {},
   "source": [
    "### GROUP by DATE"
   ]
  },
  {
   "cell_type": "markdown",
   "metadata": {},
   "source": [
    "Rearrange the data and group by date to easily allow mosaicing of imagery."
   ]
  },
  {
   "cell_type": "code",
   "execution_count": 12,
   "metadata": {
    "collapsed": true,
    "scrolled": true
   },
   "outputs": [],
   "source": [
    "processing_dir = output_dir + \"/\" + \"P\"\n",
    "if not os.path.isdir(processing_dir):\n",
    "    os.mkdir(processing_dir)\n",
    "for filename in os.listdir(extraction_zip_dir):\n",
    "    date = filename[-20:-12]\n",
    "    date_folder = processing_dir + \"/\" + date\n",
    "    if not os.path.isdir(date_folder):\n",
    "        os.mkdir(date_folder)\n",
    "    folder = extraction_zip_dir + \"/\" + filename\n",
    "    shutil.move(src = folder, dst = date_folder)"
   ]
  },
  {
   "cell_type": "code",
   "execution_count": 13,
   "metadata": {
    "collapsed": true
   },
   "outputs": [],
   "source": [
    "# delete the now empty temporary zip directory\n",
    "shutil.rmtree(extraction_zip_dir)"
   ]
  },
  {
   "cell_type": "markdown",
   "metadata": {},
   "source": [
    "## DATA PROCESSING"
   ]
  },
  {
   "cell_type": "code",
   "execution_count": 14,
   "metadata": {
    "collapsed": true
   },
   "outputs": [],
   "source": [
    "import rsgislib\n",
    "from rsgislib import imageutils, RSGISPyUtils\n",
    "import osgeo\n",
    "from osgeo import gdal, osr, ogr\n",
    "import subprocess\n",
    "import numpy as np\n",
    "from numpy import *"
   ]
  },
  {
   "cell_type": "code",
   "execution_count": 15,
   "metadata": {
    "collapsed": true
   },
   "outputs": [],
   "source": [
    "# Enable GDAL/OGR exceptions and set GDAL data\n",
    "gdal.UseExceptions()\n",
    "osgeo.gdal.SetConfigOption(\"GDAL_DATA\", \"C:/Users/jeroen.dereu@inbo.be/Software/gdal-2.1.3/data\")"
   ]
  },
  {
   "cell_type": "code",
   "execution_count": 16,
   "metadata": {
    "collapsed": true
   },
   "outputs": [],
   "source": [
    "#listdir checken\n",
    "folders_to_be_processed = []\n",
    "for date_folder in os.listdir(processing_dir): \n",
    "    folders_to_be_processed.append(processing_dir + \"/\" + date_folder + \"/\")"
   ]
  },
  {
   "cell_type": "code",
   "execution_count": 17,
   "metadata": {},
   "outputs": [
    {
     "name": "stdout",
     "output_type": "stream",
     "text": [
      "C:/SS/P/20160812/\n"
     ]
    }
   ],
   "source": [
    "for date_folder in folders_to_be_processed:\n",
    "    print(date_folder)"
   ]
  },
  {
   "cell_type": "markdown",
   "metadata": {},
   "source": [
    "### Convert JP2 to GeoTiff"
   ]
  },
  {
   "cell_type": "markdown",
   "metadata": {},
   "source": [
    "Images are converted one by one. Coordinates are transformed from EPSG:32631 to EPSG:4326."
   ]
  },
  {
   "cell_type": "code",
   "execution_count": 18,
   "metadata": {
    "collapsed": true
   },
   "outputs": [],
   "source": [
    "for date_folder in folders_to_be_processed:\n",
    "    for path in glob(os.path.join(date_folder, \"**\", \"*.jp2\"), recursive=True):\n",
    "        basename = os.path.basename(path)\n",
    "        filename, file_extention = os.path.splitext(basename)\n",
    "        if not os.path.isdir(date_folder + \"/ind_tifs\"):\n",
    "            os.mkdir(date_folder + \"/ind_tifs\")\n",
    "        output_folder = date_folder + \"/ind_tifs/\"\n",
    "        output_file = output_folder + filename + \".tif\"\n",
    "        gdal.Warp(destNameOrDestDS = output_file, \n",
    "                  srcDSOrSrcDSTab = path, \n",
    "                  dstSRS = \"EPSG:4326\", \n",
    "                  srcSRS = \"EPSG:32631\")"
   ]
  },
  {
   "cell_type": "markdown",
   "metadata": {},
   "source": [
    "### MOSAIC individual bands"
   ]
  },
  {
   "cell_type": "markdown",
   "metadata": {},
   "source": [
    "Create a mosaic of the available imagery per day for each of the 13 bands. Also one overview mosaic is produced.\n",
    "\n",
    "                        Detailed overview of the 13 bands.\n",
    "|Band name\t|Resolution (m)\t|Central wavelength (nm)\t|Band width (nm)\t|Purpose\n",
    "|:---:|:---:|:---:|:---:|:---:|\n",
    "|B01\t|60\t|443\t|20\t|Aerosol detection|\n",
    "|B02\t|10\t|490\t|65\t|Blue|\n",
    "|B03\t|10\t|560\t|35\t|Green|\n",
    "|B04\t|10\t|665\t|30\t|Red|\n",
    "|B05\t|20\t|705\t|15\t|Vegetation classification|\n",
    "|B06\t|20\t|740\t|15\t|Vegetation classification|\n",
    "|B07\t|20\t|783\t|20\t|Vegetation classification|\n",
    "|B08\t|10\t|842\t|115\t|Near infrared|\n",
    "|B08A\t|20\t|865\t|20\t|Vegetation classification|\n",
    "|B09\t|60\t|945\t|20\t|Water vapour|\n",
    "|B10\t|60\t|1375\t|30\t|Cirrus|\n",
    "|B11\t|20\t|1610\t|90\t|Snow / ice / cloud discrimination|\n",
    "|B12\t|20\t|2190\t|180\t|Snow / ice / cloud discrimination|\n"
   ]
  },
  {
   "cell_type": "code",
   "execution_count": 19,
   "metadata": {
    "collapsed": true
   },
   "outputs": [],
   "source": [
    "for date_folder in folders_to_be_processed:\n",
    "    date = date_folder[-9:-1]\n",
    "    selected_granules = [\"T31UDS\", \"T31UES\", \"T31UFS\", \"T31UGS\", \"T31UDT\", \"T31UET\", \"T31UFT\", \"T31UGT\"]\n",
    "    selected_images = []\n",
    "    B01 = []\n",
    "    B02 = []\n",
    "    B03 = []\n",
    "    B04 = []\n",
    "    B05 = []\n",
    "    B06 = []\n",
    "    B07 = []\n",
    "    B08 = []\n",
    "    B8A = []\n",
    "    B09 = []\n",
    "    B10 = []\n",
    "    B11 = []\n",
    "    B12 = []\n",
    "    overview = []\n",
    "    for path in glob(os.path.join(date_folder, \"**\", \"*.jp2\"), recursive=True):\n",
    "        for granule in selected_granules:\n",
    "            if granule in path:\n",
    "                selected_images.append(path)\n",
    "    for image in selected_images:\n",
    "        if image.endswith(\"B01.jp2\"):\n",
    "            B01.append(image)\n",
    "        elif image.endswith(\"B02.jp2\"):\n",
    "            B02.append(image)\n",
    "        elif image.endswith(\"B03.jp2\"):\n",
    "            B03.append(image)\n",
    "        elif image.endswith(\"B04.jp2\"):\n",
    "            B04.append(image)\n",
    "        elif image.endswith(\"B05.jp2\"):\n",
    "            B05.append(image)\n",
    "        elif image.endswith(\"B06.jp2\"):\n",
    "            B06.append(image)\n",
    "        elif image.endswith(\"B07.jp2\"):\n",
    "            B07.append(image)\n",
    "        elif image.endswith(\"B08.jp2\"):\n",
    "            B08.append(image)        \n",
    "        elif image.endswith(\"B8A.jp2\"):\n",
    "            B8A.append(image)\n",
    "        elif image.endswith(\"B09.jp2\"):\n",
    "            B09.append(image)\n",
    "        elif image.endswith(\"B10.jp2\"):\n",
    "            B10.append(image)        \n",
    "        elif image.endswith(\"B11.jp2\"):\n",
    "            B11.append(image)      \n",
    "        elif image.endswith(\"B12.jp2\"):\n",
    "            B12.append(image)         \n",
    "        else:\n",
    "            overview.append(image)\n",
    "    if not os.path.isdir(date_folder + \"/merged_bands\"):\n",
    "        os.mkdir(date_folder + \"/merged_bands\")\n",
    "    output_folder = date_folder + \"/merged_bands/\"\n",
    "    output_B01 = output_folder + date + \"_B01\" + \".tif\"\n",
    "    output_B02 = output_folder + date + \"_B02\" + \".tif\"\n",
    "    output_B03 = output_folder + date + \"_B03\" + \".tif\"\n",
    "    output_B04 = output_folder + date + \"_B04\" + \".tif\"\n",
    "    output_B05 = output_folder + date + \"_B05\" + \".tif\"\n",
    "    output_B06 = output_folder + date + \"_B06\" + \".tif\"\n",
    "    output_B07 = output_folder + date + \"_B07\" + \".tif\"\n",
    "    output_B08 = output_folder + date + \"_B08\" + \".tif\"\n",
    "    output_B8A = output_folder + date + \"_B8A\" + \".tif\"\n",
    "    output_B09 = output_folder + date + \"_B09\" + \".tif\"   \n",
    "    output_B10 = output_folder + date + \"_B10\" + \".tif\"\n",
    "    output_B11 = output_folder + date + \"_B11\" + \".tif\"\n",
    "    output_B12 = output_folder + date + \"_B12\" + \".tif\"\n",
    "    output_overview = output_folder + date + \"_overview\" + \".tif\"\n",
    "    gdal.Warp(destNameOrDestDS = output_B01, \n",
    "              srcDSOrSrcDSTab = B01, \n",
    "              dstSRS = \"EPSG:4326\", \n",
    "              srcSRS = \"EPSG:32631\",\n",
    "              cropToCutline = True,\n",
    "              cutlineDSName = bounding_box_flanders)\n",
    "    gdal.Warp(destNameOrDestDS = output_B02, \n",
    "              srcDSOrSrcDSTab = B02, \n",
    "              dstSRS = \"EPSG:4326\", \n",
    "              srcSRS = \"EPSG:32631\",\n",
    "              cropToCutline = True,\n",
    "              cutlineDSName = bounding_box_flanders)\n",
    "    gdal.Warp(destNameOrDestDS = output_B03, \n",
    "              srcDSOrSrcDSTab = B03, \n",
    "              dstSRS = \"EPSG:4326\", \n",
    "              srcSRS = \"EPSG:32631\",\n",
    "              cropToCutline = True,\n",
    "              cutlineDSName = bounding_box_flanders)        \n",
    "    gdal.Warp(destNameOrDestDS = output_B04, \n",
    "              srcDSOrSrcDSTab = B04, \n",
    "              dstSRS = \"EPSG:4326\", \n",
    "              srcSRS = \"EPSG:32631\",\n",
    "              cropToCutline = True,\n",
    "              cutlineDSName = bounding_box_flanders)           \n",
    "    gdal.Warp(destNameOrDestDS = output_B05, \n",
    "              srcDSOrSrcDSTab = B05, \n",
    "              dstSRS = \"EPSG:4326\", \n",
    "              srcSRS = \"EPSG:32631\",\n",
    "              cropToCutline = True,\n",
    "              cutlineDSName = bounding_box_flanders)             \n",
    "    gdal.Warp(destNameOrDestDS = output_B06, \n",
    "              srcDSOrSrcDSTab = B06, \n",
    "              dstSRS = \"EPSG:4326\", \n",
    "              srcSRS = \"EPSG:32631\",\n",
    "              cropToCutline = True,\n",
    "              cutlineDSName = bounding_box_flanders)\n",
    "    gdal.Warp(destNameOrDestDS = output_B07, \n",
    "              srcDSOrSrcDSTab = B07, \n",
    "              dstSRS = \"EPSG:4326\", \n",
    "              srcSRS = \"EPSG:32631\",\n",
    "              cropToCutline = True,\n",
    "              cutlineDSName = bounding_box_flanders)\n",
    "    gdal.Warp(destNameOrDestDS = output_B08, \n",
    "              srcDSOrSrcDSTab = B08, \n",
    "              dstSRS = \"EPSG:4326\", \n",
    "              srcSRS = \"EPSG:32631\",\n",
    "              cropToCutline = True,\n",
    "              cutlineDSName = bounding_box_flanders)\n",
    "    gdal.Warp(destNameOrDestDS = output_B8A, \n",
    "              srcDSOrSrcDSTab = B8A, \n",
    "              dstSRS = \"EPSG:4326\", \n",
    "              srcSRS = \"EPSG:32631\",\n",
    "              cropToCutline = True,\n",
    "              cutlineDSName = bounding_box_flanders)\n",
    "    gdal.Warp(destNameOrDestDS = output_B09, \n",
    "              srcDSOrSrcDSTab = B09, \n",
    "              dstSRS = \"EPSG:4326\", \n",
    "              srcSRS = \"EPSG:32631\",\n",
    "              cropToCutline = True,\n",
    "              cutlineDSName = bounding_box_flanders)\n",
    "    gdal.Warp(destNameOrDestDS = output_B10, \n",
    "              srcDSOrSrcDSTab = B10, \n",
    "              dstSRS = \"EPSG:4326\", \n",
    "              srcSRS = \"EPSG:32631\",\n",
    "              cropToCutline = True,\n",
    "              cutlineDSName = bounding_box_flanders)\n",
    "    gdal.Warp(destNameOrDestDS = output_B11, \n",
    "              srcDSOrSrcDSTab = B11, \n",
    "              dstSRS = \"EPSG:4326\", \n",
    "              srcSRS = \"EPSG:32631\",\n",
    "              cropToCutline = True,\n",
    "              cutlineDSName = bounding_box_flanders)\n",
    "    gdal.Warp(destNameOrDestDS = output_B12, \n",
    "              srcDSOrSrcDSTab = B12, \n",
    "              dstSRS = \"EPSG:4326\", \n",
    "              srcSRS = \"EPSG:32631\",\n",
    "              cropToCutline = True,\n",
    "              cutlineDSName = bounding_box_flanders)\n",
    "    gdal.Warp(destNameOrDestDS = output_overview, \n",
    "              srcDSOrSrcDSTab = overview, \n",
    "              dstSRS = \"EPSG:4326\", \n",
    "              srcSRS = \"EPSG:32631\",\n",
    "              cropToCutline = True,\n",
    "              cutlineDSName = bounding_box_flanders)\n",
    "    \n",
    "# NOTE: bounding_box_flanders ergens via relatief pad opslaan, of een soort temp json aanmaken.... even nakijken en betere oplossing zoeken."
   ]
  },
  {
   "cell_type": "markdown",
   "metadata": {},
   "source": [
    "### STACK bands"
   ]
  },
  {
   "cell_type": "markdown",
   "metadata": {},
   "source": [
    "Stack a series of bands in one GeoTiff, e.g. RGB bands..."
   ]
  },
  {
   "cell_type": "code",
   "execution_count": 20,
   "metadata": {
    "collapsed": true
   },
   "outputs": [],
   "source": [
    "for date_folder in folders_to_be_processed:\n",
    "    RGB = []\n",
    "    for path in glob(os.path.join(date_folder, \"**\", \"merged_bands\", \"*tif\"), recursive=True):\n",
    "        if path.endswith(\"B04.tif\"):\n",
    "            RGB.append(path)\n",
    "        if path.endswith(\"B03.tif\"):\n",
    "            RGB.append(path) \n",
    "        if path.endswith(\"B02.tif\"):\n",
    "            RGB.append(path)\n",
    "    bandNamesList = [\"Red\", \"Green\", \"Blue\"]\n",
    "    if not os.path.isdir(date_folder + \"/stacked/\"):\n",
    "        os.mkdir(date_folder + \"/stacked/\")\n",
    "    date = date_folder[-9:-1]\n",
    "    outputImage = date_folder + \"/stacked/\" + date + \"_RGB.tif\"\n",
    "    gdalFormat = \"GTiff\"\n",
    "    dataType = rsgislib.TYPE_16UINT\n",
    "    imageutils.stackImageBands(RGB, bandNamesList, outputImage, None, 0, gdalFormat, dataType)"
   ]
  },
  {
   "cell_type": "markdown",
   "metadata": {},
   "source": [
    "### NDVI - Normalised Difference Vegetation Index"
   ]
  },
  {
   "cell_type": "markdown",
   "metadata": {},
   "source": [
    "**NDVI = (NIR - R) / (NIR) + R**\n",
    "\n",
    "    NIR: Near Infra Red - Sentinelsat band 8\n",
    "    R: Visible Red - Sentinelsat band 4"
   ]
  },
  {
   "cell_type": "code",
   "execution_count": 21,
   "metadata": {},
   "outputs": [
    {
     "name": "stderr",
     "output_type": "stream",
     "text": [
      "C:\\Users\\jeroen.dereu@inbo.be\\AppData\\Local\\Continuum\\Anaconda3\\envs\\osgeoenv\\lib\\site-packages\\ipykernel_launcher.py:10: RuntimeWarning: invalid value encountered in true_divide\n",
      "  # Remove the CWD from sys.path while we load stuff.\n"
     ]
    }
   ],
   "source": [
    "for date_folder in folders_to_be_processed:\n",
    "    for path in glob(os.path.join(date_folder, \"**\", \"merged_bands\", \"*tif\"), recursive=True):\n",
    "        if path.endswith(\"B04.tif\"):\n",
    "            B04 = gdal.Open(path)\n",
    "        if path.endswith(\"B08.tif\"):\n",
    "            B08 = gdal.Open(path)\n",
    "    red = B04.ReadAsArray()\n",
    "    nir = B08.ReadAsArray()\n",
    "    check = np.logical_and(red > 0, nir > 0)\n",
    "    ndvi = np.where(check, (nir - red) / (nir + red), -999)\n",
    "    geo = B08.GetGeoTransform()\n",
    "    proj = B08.GetProjection()\n",
    "    shape = red.shape\n",
    "    driver = gdal.GetDriverByName(\"GTiff\")\n",
    "    # define output filename and location\n",
    "    if not os.path.isdir(date_folder + \"/ndvi/\"):\n",
    "        os.mkdir(date_folder + \"/ndvi/\")\n",
    "    date = date_folder[-9:-1]\n",
    "    ndvi_file = date_folder + \"/ndvi/\" + date + \"_ndvi.tif\"\n",
    "    # create and write the nvdi-file\n",
    "    dst_ds = driver.Create(ndvi_file, shape[1], shape[0], 1, gdal.GDT_Float32)\n",
    "    dst_ds.SetGeoTransform(geo)\n",
    "    dst_ds.SetProjection(proj)\n",
    "    dst_ds.GetRasterBand(1).WriteArray(ndvi)\n",
    "    dst_ds = None\n",
    "    B04 = None\n",
    "    B08 = None"
   ]
  },
  {
   "cell_type": "markdown",
   "metadata": {
    "collapsed": true
   },
   "source": [
    "### DATA MANAGEMENT"
   ]
  },
  {
   "cell_type": "markdown",
   "metadata": {
    "collapsed": true
   },
   "source": [
    "Delete raw data"
   ]
  },
  {
   "cell_type": "code",
   "execution_count": 22,
   "metadata": {
    "collapsed": true
   },
   "outputs": [],
   "source": [
    "for path in glob(os.path.join(processing_dir, \"**\", \"S2A*.SAFE\"), recursive=True):\n",
    "    shutil.rmtree(path)"
   ]
  },
  {
   "cell_type": "markdown",
   "metadata": {},
   "source": [
    "Move the processed data to the output directory"
   ]
  },
  {
   "cell_type": "code",
   "execution_count": 23,
   "metadata": {},
   "outputs": [],
   "source": [
    "for processed_dataset in os.listdir(processing_dir):\n",
    "    processed_dataset_folder = processing_dir + \"/\" + processed_dataset\n",
    "    shutil.move(src = processed_dataset_folder, dst = output_dir)"
   ]
  },
  {
   "cell_type": "markdown",
   "metadata": {},
   "source": [
    "Delete the now empty temporary processing directory"
   ]
  },
  {
   "cell_type": "code",
   "execution_count": 24,
   "metadata": {
    "collapsed": true
   },
   "outputs": [],
   "source": [
    "shutil.rmtree(processing_dir)"
   ]
  },
  {
   "cell_type": "code",
   "execution_count": null,
   "metadata": {
    "collapsed": true
   },
   "outputs": [],
   "source": []
  }
 ],
 "metadata": {
  "kernelspec": {
   "display_name": "Python 3",
   "language": "python",
   "name": "python3"
  },
  "language_info": {
   "codemirror_mode": {
    "name": "ipython",
    "version": 3
   },
   "file_extension": ".py",
   "mimetype": "text/x-python",
   "name": "python",
   "nbconvert_exporter": "python",
   "pygments_lexer": "ipython3",
   "version": "3.5.3"
  }
 },
 "nbformat": 4,
 "nbformat_minor": 2
}
