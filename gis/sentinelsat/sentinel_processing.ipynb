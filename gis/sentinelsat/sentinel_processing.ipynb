{
 "cells": [
  {
   "cell_type": "markdown",
   "metadata": {},
   "source": [
    "**UNZIPPEN"
   ]
  },
  {
   "cell_type": "markdown",
   "metadata": {},
   "source": [
    "Problemen met lengte van de paden in de sentinel datastructuur\n",
    "Unzippen lukt wel indien niet te ver \"verstopt\" in de windows tree..."
   ]
  },
  {
   "cell_type": "code",
   "execution_count": 1,
   "metadata": {
    "collapsed": true
   },
   "outputs": [],
   "source": [
    "import os\n",
    "from glob import glob\n",
    "import zipfile\n",
    "import shutil"
   ]
  },
  {
   "cell_type": "code",
   "execution_count": 2,
   "metadata": {
    "collapsed": true
   },
   "outputs": [],
   "source": [
    "input_zip_dir = \"C:/WERKMAP/Anaconda/sentinelsat/downloaded_datasets/\""
   ]
  },
  {
   "cell_type": "code",
   "execution_count": 3,
   "metadata": {
    "collapsed": true
   },
   "outputs": [],
   "source": [
    "def extract(zip_filepath, extraction_dir):\n",
    "    z = zipfile.ZipFile(zip_filepath)\n",
    "    z.extractall(extraction_dir)"
   ]
  },
  {
   "cell_type": "code",
   "execution_count": 4,
   "metadata": {
    "collapsed": true
   },
   "outputs": [],
   "source": [
    "extraction_zip_dir = \"C:/SS/UZ/\""
   ]
  },
  {
   "cell_type": "code",
   "execution_count": 6,
   "metadata": {
    "collapsed": true
   },
   "outputs": [],
   "source": [
    "for zip_file in glob(os.path.join(input_zip_dir, \"**\", \"*.zip\"), recursive=True):\n",
    "    extract(zip_file, extraction_zip_dir)"
   ]
  },
  {
   "cell_type": "markdown",
   "metadata": {},
   "source": [
    "groeperen op datum"
   ]
  },
  {
   "cell_type": "code",
   "execution_count": 5,
   "metadata": {
    "collapsed": true
   },
   "outputs": [],
   "source": [
    "if not os.path.isdir(\"C:/SS/DT/\"):\n",
    "    os.mkdir(\"C:/SS/DT/\")"
   ]
  },
  {
   "cell_type": "code",
   "execution_count": 12,
   "metadata": {
    "collapsed": true,
    "scrolled": true
   },
   "outputs": [],
   "source": [
    "for filename in os.listdir(extraction_zip_dir):\n",
    "    date = filename[-20:-12]\n",
    "    date_folders = \"C:/SS/DT/\" + date\n",
    "    if not os.path.isdir(date_folders):\n",
    "        os.mkdir(date_folders)"
   ]
  },
  {
   "cell_type": "markdown",
   "metadata": {},
   "source": [
    "Opnieuw probleem van te lange paden?"
   ]
  },
  {
   "cell_type": "code",
   "execution_count": null,
   "metadata": {
    "collapsed": true
   },
   "outputs": [],
   "source": [
    "# moven lukt niet, te lange paden?\n",
    "for filename in os.listdir(extraction_zip_dir):\n",
    "    date = filename[-20:-12]\n",
    "    shutil.move(src = filename, dst = \"C:/SS/DT/\" + date)"
   ]
  },
  {
   "cell_type": "markdown",
   "metadata": {},
   "source": [
    "Deleten van wat we niet nodig hebben.\n",
    "\n",
    "Filteren van de granules en enkel deze behouden die (deels) binnen de bounding box van Vlaanderen vallen....µ\n",
    "\n",
    "Voor de data van juli 2016, +/- 30Gb overbodige data opgekuist op deze manier..."
   ]
  },
  {
   "cell_type": "code",
   "execution_count": 6,
   "metadata": {
    "collapsed": true
   },
   "outputs": [],
   "source": [
    "# granules die binnen de bounding box van Vlaanderen vallen...\n",
    "selected_granules = [\"T31UDS\", \"T31UES\", \"T31UFS\", \"T31UGS\", \"T31UDT\", \"T31UET\", \"T31UFT\", \"T31UGT\"]\n",
    "selected_folders =[]"
   ]
  },
  {
   "cell_type": "code",
   "execution_count": 7,
   "metadata": {
    "collapsed": true
   },
   "outputs": [],
   "source": [
    "for folder in glob(os.path.join(\"C:/SS/DT/\", \"**\", \"*/GRANULE/*\"), recursive=True):\n",
    "    for granule in selected_granules:\n",
    "        if granule in folder:\n",
    "            selected_folders.append(folder)"
   ]
  },
  {
   "cell_type": "code",
   "execution_count": 8,
   "metadata": {
    "collapsed": true
   },
   "outputs": [],
   "source": [
    "for folder in glob(os.path.join(\"C:/SS/DT/\", \"**\", \"*/GRANULE/*\"), recursive=True):\n",
    "    if folder not in selected_folders:\n",
    "        shutil.rmtree(folder)"
   ]
  },
  {
   "cell_type": "markdown",
   "metadata": {},
   "source": [
    "** jp2 --> Gtiff"
   ]
  },
  {
   "cell_type": "code",
   "execution_count": 9,
   "metadata": {
    "collapsed": true
   },
   "outputs": [],
   "source": [
    "import rasterio\n",
    "import rsgislib\n",
    "from rsgislib import imageutils, RSGISPyUtils\n",
    "import osgeo\n",
    "from osgeo import gdal, osr, ogr\n",
    "import subprocess"
   ]
  },
  {
   "cell_type": "code",
   "execution_count": 10,
   "metadata": {
    "collapsed": true
   },
   "outputs": [],
   "source": [
    "# Enable GDAL/OGR exceptions\n",
    "gdal.UseExceptions()\n",
    "osgeo.gdal.SetConfigOption(\"GDAL_DATA\", \"C:/Users/jeroen.dereu@inbo.be/Software/gdal-2.1.3/data\")"
   ]
  },
  {
   "cell_type": "code",
   "execution_count": 11,
   "metadata": {
    "collapsed": true
   },
   "outputs": [],
   "source": [
    "input_jp2_dir = \"C:/SS/DT/\""
   ]
  },
  {
   "cell_type": "code",
   "execution_count": 12,
   "metadata": {
    "collapsed": true
   },
   "outputs": [],
   "source": [
    "#listdir checken\n",
    "folders = []\n",
    "for folder in os.listdir(input_jp2_dir): \n",
    "    folders.append(\"C:/SS/DT/\"+folder+\"/\")"
   ]
  },
  {
   "cell_type": "code",
   "execution_count": 13,
   "metadata": {},
   "outputs": [
    {
     "name": "stdout",
     "output_type": "stream",
     "text": [
      "C:/SS/DT/20160703/\n",
      "C:/SS/DT/20160707/\n",
      "C:/SS/DT/20160720/\n",
      "C:/SS/DT/20160723/\n"
     ]
    }
   ],
   "source": [
    "for folder in folders:\n",
    "    print(folder)"
   ]
  },
  {
   "cell_type": "code",
   "execution_count": 15,
   "metadata": {},
   "outputs": [],
   "source": [
    "# mosaic individual bands --- WORKING!\n",
    "for folder in folders:\n",
    "    selected_granules = [\"T31UDS\", \"T31UES\", \"T31UFS\", \"T31UGS\", \"T31UDT\", \"T31UET\", \"T31UFT\", \"T31UGT\"]\n",
    "    selected_images = []\n",
    "    B01 = []\n",
    "    B02 = []\n",
    "    B03 = []\n",
    "    B04 = []\n",
    "    B05 = []\n",
    "    B06 = []\n",
    "    B07 = []\n",
    "    B08 = []\n",
    "    B8A = []\n",
    "    B09 = []\n",
    "    B10 = []\n",
    "    B11 = []\n",
    "    B12 = []\n",
    "    overview = []\n",
    "    for path in glob(os.path.join(folder, \"**\", \"*.jp2\"), recursive=True):\n",
    "        for granule in selected_granules:\n",
    "            if granule in path:\n",
    "                selected_images.append(path)\n",
    "    for image in selected_images:\n",
    "        if image.endswith(\"B01.jp2\"):\n",
    "            B01.append(image)\n",
    "        elif image.endswith(\"B02.jp2\"):\n",
    "            B02.append(image)\n",
    "        elif image.endswith(\"B03.jp2\"):\n",
    "            B03.append(image)\n",
    "        elif image.endswith(\"B04.jp2\"):\n",
    "            B04.append(image)\n",
    "        elif image.endswith(\"B05.jp2\"):\n",
    "            B05.append(image)\n",
    "        elif image.endswith(\"B06.jp2\"):\n",
    "            B06.append(image)\n",
    "        elif image.endswith(\"B07.jp2\"):\n",
    "            B07.append(image)\n",
    "        elif image.endswith(\"B08.jp2\"):\n",
    "            B08.append(image)        \n",
    "        elif image.endswith(\"B8A.jp2\"):\n",
    "            B8A.append(image)\n",
    "        elif image.endswith(\"B09.jp2\"):\n",
    "            B09.append(image)\n",
    "        elif image.endswith(\"B10.jp2\"):\n",
    "            B10.append(image)        \n",
    "        elif image.endswith(\"B11.jp2\"):\n",
    "            B11.append(image)      \n",
    "        elif image.endswith(\"B12.jp2\"):\n",
    "            B12.append(image)         \n",
    "        else:\n",
    "            overview.append(image)\n",
    "    if not os.path.isdir(folder + \"/merged_bands\"):\n",
    "        os.mkdir(folder + \"/merged_bands\")\n",
    "    output_folder = folder + \"/merged_bands/\"\n",
    "    output_B01 = output_folder + \"B01\" + \".tif\"\n",
    "    output_B02 = output_folder + \"B02\" + \".tif\"\n",
    "    output_B03 = output_folder + \"B03\" + \".tif\"\n",
    "    output_B04 = output_folder + \"B04\" + \".tif\"\n",
    "    output_B05 = output_folder + \"B05\" + \".tif\"\n",
    "    output_B06 = output_folder + \"B06\" + \".tif\"\n",
    "    output_B07 = output_folder + \"B07\" + \".tif\"\n",
    "    output_B08 = output_folder + \"B08\" + \".tif\"\n",
    "    output_B8A = output_folder + \"B8A\" + \".tif\"\n",
    "    output_B09 = output_folder + \"B09\" + \".tif\"   \n",
    "    output_B10 = output_folder + \"B10\" + \".tif\"\n",
    "    output_B11 = output_folder + \"B11\" + \".tif\"\n",
    "    output_B12 = output_folder + \"B12\" + \".tif\"\n",
    "    output_overview = output_folder + \"overview\" + \".tif\"\n",
    "    gdal.Warp(destNameOrDestDS = output_B01, \n",
    "              srcDSOrSrcDSTab = B01, \n",
    "              dstSRS = \"EPSG:4326\", \n",
    "              srcSRS = \"EPSG:32631\",\n",
    "              cropToCutline = True,\n",
    "              cutlineDSName = \"C:/WERKMAP/Anaconda/sentinelsat/geojson/footprint_flanders_geojson.geojson\")\n",
    "    gdal.Warp(destNameOrDestDS = output_B02, \n",
    "              srcDSOrSrcDSTab = B02, \n",
    "              dstSRS = \"EPSG:4326\", \n",
    "              srcSRS = \"EPSG:32631\",\n",
    "              cropToCutline = True,\n",
    "              cutlineDSName = \"C:/WERKMAP/Anaconda/sentinelsat/geojson/footprint_flanders_geojson.geojson\")\n",
    "    gdal.Warp(destNameOrDestDS = output_B03, \n",
    "              srcDSOrSrcDSTab = B03, \n",
    "              dstSRS = \"EPSG:4326\", \n",
    "              srcSRS = \"EPSG:32631\",\n",
    "              cropToCutline = True,\n",
    "              cutlineDSName = \"C:/WERKMAP/Anaconda/sentinelsat/geojson/footprint_flanders_geojson.geojson\")        \n",
    "    gdal.Warp(destNameOrDestDS = output_B04, \n",
    "              srcDSOrSrcDSTab = B04, \n",
    "              dstSRS = \"EPSG:4326\", \n",
    "              srcSRS = \"EPSG:32631\",\n",
    "              cropToCutline = True,\n",
    "              cutlineDSName = \"C:/WERKMAP/Anaconda/sentinelsat/geojson/footprint_flanders_geojson.geojson\")           \n",
    "    gdal.Warp(destNameOrDestDS = output_B05, \n",
    "              srcDSOrSrcDSTab = B05, \n",
    "              dstSRS = \"EPSG:4326\", \n",
    "              srcSRS = \"EPSG:32631\",\n",
    "              cropToCutline = True,\n",
    "              cutlineDSName = \"C:/WERKMAP/Anaconda/sentinelsat/geojson/footprint_flanders_geojson.geojson\")             \n",
    "    gdal.Warp(destNameOrDestDS = output_B06, \n",
    "              srcDSOrSrcDSTab = B06, \n",
    "              dstSRS = \"EPSG:4326\", \n",
    "              srcSRS = \"EPSG:32631\",\n",
    "              cropToCutline = True,\n",
    "              cutlineDSName = \"C:/WERKMAP/Anaconda/sentinelsat/geojson/footprint_flanders_geojson.geojson\")\n",
    "    gdal.Warp(destNameOrDestDS = output_B07, \n",
    "              srcDSOrSrcDSTab = B07, \n",
    "              dstSRS = \"EPSG:4326\", \n",
    "              srcSRS = \"EPSG:32631\",\n",
    "              cropToCutline = True,\n",
    "              cutlineDSName = \"C:/WERKMAP/Anaconda/sentinelsat/geojson/footprint_flanders_geojson.geojson\")\n",
    "    gdal.Warp(destNameOrDestDS = output_B08, \n",
    "              srcDSOrSrcDSTab = B08, \n",
    "              dstSRS = \"EPSG:4326\", \n",
    "              srcSRS = \"EPSG:32631\",\n",
    "              cropToCutline = True,\n",
    "              cutlineDSName = \"C:/WERKMAP/Anaconda/sentinelsat/geojson/footprint_flanders_geojson.geojson\")\n",
    "    gdal.Warp(destNameOrDestDS = output_B8A, \n",
    "              srcDSOrSrcDSTab = B8A, \n",
    "              dstSRS = \"EPSG:4326\", \n",
    "              srcSRS = \"EPSG:32631\",\n",
    "              cropToCutline = True,\n",
    "              cutlineDSName = \"C:/WERKMAP/Anaconda/sentinelsat/geojson/footprint_flanders_geojson.geojson\")\n",
    "    gdal.Warp(destNameOrDestDS = output_B09, \n",
    "              srcDSOrSrcDSTab = B09, \n",
    "              dstSRS = \"EPSG:4326\", \n",
    "              srcSRS = \"EPSG:32631\",\n",
    "              cropToCutline = True,\n",
    "              cutlineDSName = \"C:/WERKMAP/Anaconda/sentinelsat/geojson/footprint_flanders_geojson.geojson\")\n",
    "    gdal.Warp(destNameOrDestDS = output_B10, \n",
    "              srcDSOrSrcDSTab = B10, \n",
    "              dstSRS = \"EPSG:4326\", \n",
    "              srcSRS = \"EPSG:32631\",\n",
    "              cropToCutline = True,\n",
    "              cutlineDSName = \"C:/WERKMAP/Anaconda/sentinelsat/geojson/footprint_flanders_geojson.geojson\")\n",
    "    gdal.Warp(destNameOrDestDS = output_B11, \n",
    "              srcDSOrSrcDSTab = B11, \n",
    "              dstSRS = \"EPSG:4326\", \n",
    "              srcSRS = \"EPSG:32631\",\n",
    "              cropToCutline = True,\n",
    "              cutlineDSName = \"C:/WERKMAP/Anaconda/sentinelsat/geojson/footprint_flanders_geojson.geojson\")\n",
    "    gdal.Warp(destNameOrDestDS = output_B12, \n",
    "              srcDSOrSrcDSTab = B12, \n",
    "              dstSRS = \"EPSG:4326\", \n",
    "              srcSRS = \"EPSG:32631\",\n",
    "              cropToCutline = True,\n",
    "              cutlineDSName = \"C:/WERKMAP/Anaconda/sentinelsat/geojson/footprint_flanders_geojson.geojson\")\n",
    "    gdal.Warp(destNameOrDestDS = output_overview, \n",
    "              srcDSOrSrcDSTab = overview, \n",
    "              dstSRS = \"EPSG:4326\", \n",
    "              srcSRS = \"EPSG:32631\",\n",
    "              cropToCutline = True,\n",
    "              cutlineDSName = \"C:/WERKMAP/Anaconda/sentinelsat/geojson/footprint_flanders_geojson.geojson\")"
   ]
  },
  {
   "cell_type": "code",
   "execution_count": 17,
   "metadata": {},
   "outputs": [],
   "source": [
    "# converten van jp2 naar Geotiff, voor elk beeld apart --- WORKING!\n",
    "for folder in folders:\n",
    "    for path in glob(os.path.join(folder, \"**\", \"*.jp2\"), recursive=True):\n",
    "        basename = os.path.basename(path)\n",
    "        filename, file_extention = os.path.splitext(basename)\n",
    "        if not os.path.isdir(folder + \"/ind_tifs\"):\n",
    "            os.mkdir(folder + \"/ind_tifs\")\n",
    "        output_folder = folder + \"/ind_tifs/\"\n",
    "        output_file = output_folder + filename + \"tif\"\n",
    "        gdal.Warp(destNameOrDestDS = output_file, \n",
    "                  srcDSOrSrcDSTab = path, \n",
    "                  dstSRS = \"EPSG:4326\", \n",
    "                  srcSRS = \"EPSG:32631\")"
   ]
  },
  {
   "cell_type": "code",
   "execution_count": 43,
   "metadata": {},
   "outputs": [],
   "source": [
    "# stacked bands vb. RGB --- WORKING!\n",
    "for folder in folders:\n",
    "    RGB = []\n",
    "    for path in glob(os.path.join(folder, \"**\", \"Merge\", \"*tif\"), recursive=True):\n",
    "        if path.endswith(\"B02.tif\"):\n",
    "            RGB.append(path)\n",
    "        if path.endswith(\"B03.tif\"):\n",
    "            RGB.append(path) \n",
    "        if path.endswith(\"B04.tif\"):\n",
    "            RGB.append(path)\n",
    "    bandNamesList = [\"Blue\", \"Green\", \"Red\"]\n",
    "    if not os.path.isdir(folder + \"/stacked/\"):\n",
    "        os.mkdir(folder + \"/stacked/\")\n",
    "    outputImage = folder + \"/stacked/\" + \"RGB.tif\"\n",
    "    gdalFormat = \"GTiff\"\n",
    "    dataType = rsgislib.TYPE_16UINT\n",
    "    imageutils.stackImageBands(RGB, bandNamesList, outputImage, None, 0, gdalFormat, dataType)"
   ]
  },
  {
   "cell_type": "code",
   "execution_count": null,
   "metadata": {
    "collapsed": true
   },
   "outputs": [],
   "source": []
  },
  {
   "cell_type": "code",
   "execution_count": null,
   "metadata": {
    "collapsed": true
   },
   "outputs": [],
   "source": []
  },
  {
   "cell_type": "code",
   "execution_count": null,
   "metadata": {
    "collapsed": true
   },
   "outputs": [],
   "source": []
  },
  {
   "cell_type": "code",
   "execution_count": null,
   "metadata": {
    "collapsed": true
   },
   "outputs": [],
   "source": []
  },
  {
   "cell_type": "code",
   "execution_count": null,
   "metadata": {
    "collapsed": true
   },
   "outputs": [],
   "source": []
  },
  {
   "cell_type": "code",
   "execution_count": null,
   "metadata": {
    "collapsed": true
   },
   "outputs": [],
   "source": []
  },
  {
   "cell_type": "code",
   "execution_count": null,
   "metadata": {
    "collapsed": true
   },
   "outputs": [],
   "source": []
  },
  {
   "cell_type": "code",
   "execution_count": null,
   "metadata": {
    "collapsed": true
   },
   "outputs": [],
   "source": []
  },
  {
   "cell_type": "code",
   "execution_count": null,
   "metadata": {
    "collapsed": true
   },
   "outputs": [],
   "source": []
  }
 ],
 "metadata": {
  "kernelspec": {
   "display_name": "Python 3",
   "language": "python",
   "name": "python3"
  },
  "language_info": {
   "codemirror_mode": {
    "name": "ipython",
    "version": 3
   },
   "file_extension": ".py",
   "mimetype": "text/x-python",
   "name": "python",
   "nbconvert_exporter": "python",
   "pygments_lexer": "ipython3",
   "version": "3.5.3"
  }
 },
 "nbformat": 4,
 "nbformat_minor": 2
}
