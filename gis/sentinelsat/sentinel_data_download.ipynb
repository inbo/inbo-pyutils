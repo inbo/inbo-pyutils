{
 "cells": [
  {
   "cell_type": "code",
   "execution_count": 1,
   "metadata": {
    "collapsed": true
   },
   "outputs": [],
   "source": [
    "from sentinelsat.sentinel import SentinelAPI, read_geojson, geojson_to_wkt\n",
    "\n",
    "import geopandas as gpd\n",
    "import matplotlib.pyplot as plt\n",
    "%matplotlib inline"
   ]
  },
  {
   "cell_type": "markdown",
   "metadata": {},
   "source": [
    "**Login"
   ]
  },
  {
   "cell_type": "code",
   "execution_count": 2,
   "metadata": {
    "collapsed": true
   },
   "outputs": [],
   "source": [
    "username = \"jeroendereu\"\n",
    "password = \"***\""
   ]
  },
  {
   "cell_type": "code",
   "execution_count": 3,
   "metadata": {
    "collapsed": true
   },
   "outputs": [],
   "source": [
    "api = SentinelAPI(username, password, \"https://scihub.copernicus.eu/dhus\")"
   ]
  },
  {
   "cell_type": "markdown",
   "metadata": {},
   "source": [
    "**Download Sentinelsat data"
   ]
  },
  {
   "cell_type": "code",
   "execution_count": 4,
   "metadata": {
    "collapsed": true
   },
   "outputs": [],
   "source": [
    "# example\n",
    "# product_id_example = \"36871bc0-b115-4dd8-9830-392619fc9e25\""
   ]
  },
  {
   "cell_type": "code",
   "execution_count": 5,
   "metadata": {
    "collapsed": true
   },
   "outputs": [],
   "source": [
    "# download single scene by known product id\n",
    "# api.download(product_id_example)"
   ]
  },
  {
   "cell_type": "code",
   "execution_count": 6,
   "metadata": {
    "collapsed": true
   },
   "outputs": [],
   "source": [
    "# Get basic information about the product: its title, file size, MD5 sum, date, footprint and its download url\n",
    "# api.get_product_odata(product_id_example)"
   ]
  },
  {
   "cell_type": "code",
   "execution_count": 7,
   "metadata": {
    "collapsed": true
   },
   "outputs": [],
   "source": [
    "# Get the product's full metadata available on the server\n",
    "# api.get_product_odata(product_id_example, full=True)"
   ]
  },
  {
   "cell_type": "markdown",
   "metadata": {},
   "source": [
    "**DOWNLOAD the DATA in BULK"
   ]
  },
  {
   "cell_type": "markdown",
   "metadata": {},
   "source": [
    "define footprint"
   ]
  },
  {
   "cell_type": "code",
   "execution_count": 8,
   "metadata": {
    "collapsed": true
   },
   "outputs": [],
   "source": [
    "# define footprint = search the data by polygon\n",
    "footprint_flanders_geojson = geojson_to_wkt(read_geojson(\"C:/WERKMAP/Anaconda/sentinelsat/geojson/footprint_flanders_geojson.geojson\"))"
   ]
  },
  {
   "cell_type": "code",
   "execution_count": 9,
   "metadata": {},
   "outputs": [
    {
     "data": {
      "text/plain": [
       "'POLYGON ((2.5406630 50.6879597, 2.5406630 51.5056400, 5.9098982 51.5056400, 5.9098982 50.6879597, 2.5406630 50.6879597))'"
      ]
     },
     "execution_count": 9,
     "metadata": {},
     "output_type": "execute_result"
    }
   ],
   "source": [
    "footprint_flanders_geojson"
   ]
  },
  {
   "cell_type": "code",
   "execution_count": 10,
   "metadata": {},
   "outputs": [
    {
     "data": {
      "text/plain": [
       "<matplotlib.axes._subplots.AxesSubplot at 0x9edbda0>"
      ]
     },
     "execution_count": 10,
     "metadata": {},
     "output_type": "execute_result"
    },
    {
     "data": {
      "image/png": "[encoded data removed]",
      "text/plain": [
       "<matplotlib.figure.Figure at 0x38df160>"
      ]
     },
     "metadata": {},
     "output_type": "display_data"
    }
   ],
   "source": [
    "plot_geojson = gpd.read_file(\"C:/WERKMAP/Anaconda/sentinelsat/geojson/footprint_flanders_geojson.geojson\")\n",
    "plot_geojson.plot()"
   ]
  },
  {
   "cell_type": "markdown",
   "metadata": {},
   "source": [
    "set parameters"
   ]
  },
  {
   "cell_type": "code",
   "execution_count": 11,
   "metadata": {
    "collapsed": true
   },
   "outputs": [],
   "source": [
    "# set parameters\n",
    "startdate = '20160701'\n",
    "enddate = '20160731'\n",
    "platform = 'Sentinel-2'\n",
    "min_cloud = '0'\n",
    "max_cloud = '30'"
   ]
  },
  {
   "cell_type": "code",
   "execution_count": 13,
   "metadata": {},
   "outputs": [],
   "source": [
    "# query the data by footprint, time, and keywords\n",
    "products = api.query(footprint_flanders_geojson, \n",
    "                     startdate, \n",
    "                     enddate, \n",
    "                     platformname = platform, \n",
    "                     cloudcoverpercentage = '[' + min_cloud + ' TO ' + max_cloud + ']'\n",
    "                    )"
   ]
  },
  {
   "cell_type": "code",
   "execution_count": 14,
   "metadata": {},
   "outputs": [
    {
     "data": {
      "text/plain": [
       "OrderedDict([('d7a0b997-c292-4d5c-b7ba-5ca8af81de9e',\n",
       "              {'beginposition': datetime.datetime(2016, 7, 20, 10, 55, 47),\n",
       "               'cloudcoverpercentage': 4.0373875,\n",
       "               'endposition': datetime.datetime(2016, 7, 20, 10, 55, 47),\n",
       "               'filename': 'S2A_OPER_PRD_MSIL1C_PDMC_20160805T152827_R051_V20160720T105547_20160720T105547.SAFE',\n",
       "               'footprint': 'POLYGON ((1.468686704722542 54.138365533797554,1.5024787799297383 53.19487890749161,1.532978599279183 52.296322681530654,1.563305120541532 51.354432348394134,3.069950651279659 51.362769188761256,4.506317268777333 51.35310616658424,5.940730468616287 51.325862789277174,7.442095184333064 51.27892518278613,7.449316928500434 51.35153861060136,7.704578464673325 51.35607984388353,7.678476610135315 52.255149533971945,7.678544065009484 52.25515074878083,7.677231805547748 52.29802641358729,7.675924550313965 52.34305438492137,7.675853711339602 52.343053107669625,7.6510762392320775 53.15261144564422,9.145975990507251 53.161084098264766,9.149425629181234 54.14801139115367,7.619287624914551 54.139229841140434,7.619256720590609 54.140186775460364,7.543978007824918 54.13879763491648,7.468686704722542 54.138365533797554,7.468720967882915 54.137408894307676,5.976967437813609 54.10988112139595,4.680298483308809 54.135426175010736,4.680335868325268 54.13637742873316,4.605511655344815 54.13689951446517,4.530701256365736 54.138373318280884,4.530667188151795 54.137421741520896,3.1494223015642717 54.14705937376552,3.149425629181234 54.14801139115367,3.0745593912385707 54.14758172950815,2.999693799364791 54.148104103961266,2.9996938061838057 54.14715207160958,1.468686704722542 54.138365533797554))',\n",
       "               'format': 'SAFE',\n",
       "               'gmlfootprint': '<gml:Polygon srsName=\"http://www.opengis.net/gml/srs/epsg.xml#4326\" xmlns:gml=\"http://www.opengis.net/gml\">\\n   <gml:outerBoundaryIs>\\n      <gml:LinearRing>\\n         <gml:coordinates>54.138365533797554,1.468686704722542 53.19487890749161,1.5024787799297383 52.296322681530654,1.532978599279183 51.354432348394134,1.563305120541532 51.362769188761256,3.069950651279659 51.35310616658424,4.506317268777333 51.325862789277174,5.940730468616287 51.27892518278613,7.442095184333064 51.35153861060136,7.449316928500434 51.35607984388353,7.704578464673325 52.255149533971945,7.678476610135315 52.25515074878083,7.678544065009484 52.29802641358729,7.677231805547748 52.34305438492137,7.675924550313965 52.343053107669625,7.675853711339602 53.15261144564422,7.6510762392320775 53.161084098264766,9.145975990507251 54.14801139115367,9.149425629181234 54.139229841140434,7.619287624914551 54.140186775460364,7.619256720590609 54.13879763491648,7.543978007824918 54.138365533797554,7.468686704722542 54.137408894307676,7.468720967882915 54.10988112139595,5.976967437813609 54.135426175010736,4.680298483308809 54.13637742873316,4.680335868325268 54.13689951446517,4.605511655344815 54.138373318280884,4.530701256365736 54.137421741520896,4.530667188151795 54.14705937376552,3.1494223015642717 54.14801139115367,3.149425629181234 54.14758172950815,3.0745593912385707 54.148104103961266,2.999693799364791 54.14715207160958,2.9996938061838057 54.138365533797554,1.468686704722542</gml:coordinates>\\n      </gml:LinearRing>\\n   </gml:outerBoundaryIs>\\n</gml:Polygon>',\n",
       "               'identifier': 'S2A_OPER_PRD_MSIL1C_PDMC_20160805T152827_R051_V20160720T105547_20160720T105547',\n",
       "               'ingestiondate': datetime.datetime(2016, 8, 5, 15, 49, 50, 879000),\n",
       "               'instrumentname': 'Multi-Spectral Instrument',\n",
       "               'instrumentshortname': 'MSI',\n",
       "               'link': \"https://scihub.copernicus.eu/dhus/odata/v1/Products('d7a0b997-c292-4d5c-b7ba-5ca8af81de9e')/$value\",\n",
       "               'link_alternative': \"https://scihub.copernicus.eu/dhus/odata/v1/Products('d7a0b997-c292-4d5c-b7ba-5ca8af81de9e')/\",\n",
       "               'link_icon': \"https://scihub.copernicus.eu/dhus/odata/v1/Products('d7a0b997-c292-4d5c-b7ba-5ca8af81de9e')/Products('Quicklook')/$value\",\n",
       "               'orbitdirection': 'DESCENDING',\n",
       "               'orbitnumber': 5625,\n",
       "               'platformidentifier': '2015-000A',\n",
       "               'platformname': 'Sentinel-2',\n",
       "               'platformserialidentifier': 'Sentinel-2A',\n",
       "               'processed': 'F',\n",
       "               'processingbaseline': '02.04',\n",
       "               'processinglevel': 'Level-1C',\n",
       "               'producttype': 'S2MSI1C',\n",
       "               'relativeorbitnumber': 51,\n",
       "               's2datatakeid': 'GS2A_20160720T105032_005625_N02.04',\n",
       "               'sensoroperationalmode': 'INS-NOBS',\n",
       "               'size': '6.15 GB',\n",
       "               'summary': 'Date: 2016-07-20T10:55:47Z, Instrument: MSI, Mode: , Satellite: Sentinel-2, Size: 6.15 GB',\n",
       "               'title': 'S2A_OPER_PRD_MSIL1C_PDMC_20160805T152827_R051_V20160720T105547_20160720T105547',\n",
       "               'uuid': 'd7a0b997-c292-4d5c-b7ba-5ca8af81de9e'}),\n",
       "             ('a2c6785d-8c9c-4ef4-9d18-b6f2981295bb',\n",
       "              {'beginposition': datetime.datetime(2016, 7, 20, 10, 55, 47),\n",
       "               'cloudcoverpercentage': 29.742153333333338,\n",
       "               'endposition': datetime.datetime(2016, 7, 20, 10, 55, 47),\n",
       "               'filename': 'S2A_OPER_PRD_MSIL1C_PDMC_20160805T151239_R051_V20160720T105547_20160720T105547.SAFE',\n",
       "               'footprint': 'POLYGON ((-0.231485194959582 49.61961011420237,-0.285913342257581 48.63304460468163,1.200980618578431 48.5883487810417,1.2061385431306075 48.64878448309814,1.708337912131073 48.657376206712975,3.066139888020064 48.66460174366902,4.424290987569203 48.65581480408966,5.847478451946776 48.62982157570405,5.89944068972702 49.527603861244124,7.277370381662825 49.48562029230301,7.361691665835585 50.42521893388835,7.364073857802594 50.45044508487967,7.729300891794365 50.45686117062749,7.702092127176296 51.44399790803582,6.123708231698877 51.415883589517534,6.1241822803694195 51.40812039862533,6.016969519888855 51.411476306262045,6.017025008525815 51.41234265506691,5.946366439251198 51.413686280302684,5.875717288603333 51.41589769639834,5.875664359225905 51.41503073292773,4.579515067442993 51.43967797551486,4.579544021469633 51.44054116582309,4.509207911232941 51.4410149183699,4.438876794404744 51.44235231685392,4.438850408836756 51.441488815004725,3.140455380717382 51.45023422258088,3.140457957691326 51.451098078258774,3.070084949391756 51.45070820629918,2.999712175851301 51.45118220579359,2.999712181132087 51.45031833566943,1.560547850091258 51.44234525292824,1.588043005771612 50.542890299102645,0.178667516417683 50.51810003852152,0.2316232622942571 49.60548153154605,-0.231485194959582 49.61961011420237))',\n",
       "               'format': 'SAFE',\n",
       "               'gmlfootprint': '<gml:Polygon srsName=\"http://www.opengis.net/gml/srs/epsg.xml#4326\" xmlns:gml=\"http://www.opengis.net/gml\">\\n   <gml:outerBoundaryIs>\\n      <gml:LinearRing>\\n         <gml:coordinates>49.61961011420237,-0.231485194959582 48.63304460468163,-0.285913342257581 48.5883487810417,1.200980618578431 48.64878448309814,1.2061385431306075 48.657376206712975,1.708337912131073 48.66460174366902,3.066139888020064 48.65581480408966,4.424290987569203 48.62982157570405,5.847478451946776 49.527603861244124,5.89944068972702 49.48562029230301,7.277370381662825 50.42521893388835,7.361691665835585 50.45044508487967,7.364073857802594 50.45686117062749,7.729300891794365 51.44399790803582,7.702092127176296 51.415883589517534,6.123708231698877 51.40812039862533,6.1241822803694195 51.411476306262045,6.016969519888855 51.41234265506691,6.017025008525815 51.413686280302684,5.946366439251198 51.41589769639834,5.875717288603333 51.41503073292773,5.875664359225905 51.43967797551486,4.579515067442993 51.44054116582309,4.579544021469633 51.4410149183699,4.509207911232941 51.44235231685392,4.438876794404744 51.441488815004725,4.438850408836756 51.45023422258088,3.140455380717382 51.451098078258774,3.140457957691326 51.45070820629918,3.070084949391756 51.45118220579359,2.999712175851301 51.45031833566943,2.999712181132087 51.44234525292824,1.560547850091258 50.542890299102645,1.588043005771612 50.51810003852152,0.178667516417683 49.60548153154605,0.2316232622942571 49.61961011420237,-0.231485194959582</gml:coordinates>\\n      </gml:LinearRing>\\n   </gml:outerBoundaryIs>\\n</gml:Polygon>',\n",
       "               'identifier': 'S2A_OPER_PRD_MSIL1C_PDMC_20160805T151239_R051_V20160720T105547_20160720T105547',\n",
       "               'ingestiondate': datetime.datetime(2016, 8, 5, 15, 30, 18, 943000),\n",
       "               'instrumentname': 'Multi-Spectral Instrument',\n",
       "               'instrumentshortname': 'MSI',\n",
       "               'link': \"https://scihub.copernicus.eu/dhus/odata/v1/Products('a2c6785d-8c9c-4ef4-9d18-b6f2981295bb')/$value\",\n",
       "               'link_alternative': \"https://scihub.copernicus.eu/dhus/odata/v1/Products('a2c6785d-8c9c-4ef4-9d18-b6f2981295bb')/\",\n",
       "               'link_icon': \"https://scihub.copernicus.eu/dhus/odata/v1/Products('a2c6785d-8c9c-4ef4-9d18-b6f2981295bb')/Products('Quicklook')/$value\",\n",
       "               'orbitdirection': 'DESCENDING',\n",
       "               'orbitnumber': 5625,\n",
       "               'platformidentifier': '2015-000A',\n",
       "               'platformname': 'Sentinel-2',\n",
       "               'platformserialidentifier': 'Sentinel-2A',\n",
       "               'processed': 'F',\n",
       "               'processingbaseline': '02.04',\n",
       "               'processinglevel': 'Level-1C',\n",
       "               'producttype': 'S2MSI1C',\n",
       "               'relativeorbitnumber': 51,\n",
       "               's2datatakeid': 'GS2A_20160720T105032_005625_N02.04',\n",
       "               'sensoroperationalmode': 'INS-NOBS',\n",
       "               'size': '5.78 GB',\n",
       "               'summary': 'Date: 2016-07-20T10:55:47Z, Instrument: MSI, Mode: , Satellite: Sentinel-2, Size: 5.78 GB',\n",
       "               'title': 'S2A_OPER_PRD_MSIL1C_PDMC_20160805T151239_R051_V20160720T105547_20160720T105547',\n",
       "               'uuid': 'a2c6785d-8c9c-4ef4-9d18-b6f2981295bb'}),\n",
       "             ('8cc4a001-d0a8-417b-ac3c-4432296d0b53',\n",
       "              {'beginposition': datetime.datetime(2016, 7, 23, 10, 56, 23),\n",
       "               'cloudcoverpercentage': 29.88296875,\n",
       "               'endposition': datetime.datetime(2016, 7, 23, 10, 56, 23),\n",
       "               'filename': 'S2A_OPER_PRD_MSIL1C_PDMC_20160723T165606_R094_V20160723T105623_20160723T105623.SAFE',\n",
       "               'footprint': 'POLYGON ((-0.215479913952853 52.267907893808506,-0.277407747350127 52.122239684668806,-0.338689769835776 51.97651525283962,-0.39944995393895 51.83081172289876,-0.460343220362437 51.68519427466118,-0.521094700354082 51.53957653939116,-0.581477783493724 51.39385322697045,-0.605182264334695 51.33623114517503,-0.0592695313836906 51.32586278927717,1.442095184333063 51.27892518278613,1.449316928500434 51.35153861060136,1.633943954138284 51.35482321981505,3.0699506512796475 51.362769188761256,3.81932862958425 51.35772781844875,3.829339937307502 51.37717628487879,3.904156001340692 51.5212478078356,3.979398315317582 51.66534148033162,4.054839217470661 51.80942692454441,4.13063681447125 51.953444197509455,4.206919035896554 52.09731450664574,4.283686455692807 52.24104343732692,4.290491287603113 52.253756003873285,4.290491287603114 52.253756003873285,4.360593132355588 52.38471799943543,4.43779127185058 52.5282895036187,4.51542135654145 52.67181164118787,4.593716400042884 52.815324617637216,4.63177619127959 52.88466537566435,4.672529574259185 52.958913561903735,4.751794868506768 53.10255788825226,4.803256995874521 53.19501122007884,4.831745417981839 53.24619156720056,4.912285297099634 53.38976457205784,4.993170078743166 53.53327520319171,5.074556484538988 53.676742327656285,5.156411746209446 53.82011465698098,5.238868068006079 53.963333880051245,5.321769109835049 54.10641527069712,5.331168446744208 54.12260369780524,4.680298483308809 54.135426175010736,4.680335868325268 54.13637742873316,4.60551165534482 54.13689951446517,4.530701256365736 54.138373318280884,4.530667188151795 54.137421741520896,3.1494223015642717 54.14705937376552,3.149425629181234 54.14801139115367,3.07455939123858 54.14758172950815,2.999693799364791 54.148104103961266,2.9996938061838057 54.14715207160958,1.619287624914553 54.139229841140434,1.619256720590611 54.140186775460364,1.543978007824905 54.13879763491648,1.468686704722542 54.138365533797554,1.4687209678829163 54.137408894307676,0.60236642361397 54.12142179545056,0.553319221755167 54.01424827924118,0.487275510406973 53.86884789553411,0.421835573774309 53.72347408194968,0.356783679256115 53.578116589175565,0.292105421617853 53.4328094056614,0.227872048252042 53.2873744107636,0.1919026014863508 53.20566779804018,0.19190260148635 53.20566779804018,0.163828134761048 53.141895074620685,0.099926207527676 52.99634138663527,0.036130544934621 52.85073995205542,0.030178178906036 52.837087542554826,0.0301781789060362 52.837087542554826,-0.027374769606156 52.7050834928573,-0.0420132485163091 52.67125644389593,-0.090437535014251 52.55935610777909,-0.153065432891893 52.41361750978548,-0.215479913952853 52.267907893808506))',\n",
       "               'format': 'SAFE',\n",
       "               'gmlfootprint': '<gml:Polygon srsName=\"http://www.opengis.net/gml/srs/epsg.xml#4326\" xmlns:gml=\"http://www.opengis.net/gml\">\\n   <gml:outerBoundaryIs>\\n      <gml:LinearRing>\\n         <gml:coordinates>52.267907893808506,-0.215479913952853 52.122239684668806,-0.277407747350127 51.97651525283962,-0.338689769835776 51.83081172289876,-0.39944995393895 51.68519427466118,-0.460343220362437 51.53957653939116,-0.521094700354082 51.39385322697045,-0.581477783493724 51.33623114517503,-0.605182264334695 51.32586278927717,-0.0592695313836906 51.27892518278613,1.442095184333063 51.35153861060136,1.449316928500434 51.35482321981505,1.633943954138284 51.362769188761256,3.0699506512796475 51.35772781844875,3.81932862958425 51.37717628487879,3.829339937307502 51.5212478078356,3.904156001340692 51.66534148033162,3.979398315317582 51.80942692454441,4.054839217470661 51.953444197509455,4.13063681447125 52.09731450664574,4.206919035896554 52.24104343732692,4.283686455692807 52.253756003873285,4.290491287603113 52.253756003873285,4.290491287603114 52.38471799943543,4.360593132355588 52.5282895036187,4.43779127185058 52.67181164118787,4.51542135654145 52.815324617637216,4.593716400042884 52.88466537566435,4.63177619127959 52.958913561903735,4.672529574259185 53.10255788825226,4.751794868506768 53.19501122007884,4.803256995874521 53.24619156720056,4.831745417981839 53.38976457205784,4.912285297099634 53.53327520319171,4.993170078743166 53.676742327656285,5.074556484538988 53.82011465698098,5.156411746209446 53.963333880051245,5.238868068006079 54.10641527069712,5.321769109835049 54.12260369780524,5.331168446744208 54.135426175010736,4.680298483308809 54.13637742873316,4.680335868325268 54.13689951446517,4.60551165534482 54.138373318280884,4.530701256365736 54.137421741520896,4.530667188151795 54.14705937376552,3.1494223015642717 54.14801139115367,3.149425629181234 54.14758172950815,3.07455939123858 54.148104103961266,2.999693799364791 54.14715207160958,2.9996938061838057 54.139229841140434,1.619287624914553 54.140186775460364,1.619256720590611 54.13879763491648,1.543978007824905 54.138365533797554,1.468686704722542 54.137408894307676,1.4687209678829163 54.12142179545056,0.60236642361397 54.01424827924118,0.553319221755167 53.86884789553411,0.487275510406973 53.72347408194968,0.421835573774309 53.578116589175565,0.356783679256115 53.4328094056614,0.292105421617853 53.2873744107636,0.227872048252042 53.20566779804018,0.1919026014863508 53.20566779804018,0.19190260148635 53.141895074620685,0.163828134761048 52.99634138663527,0.099926207527676 52.85073995205542,0.036130544934621 52.837087542554826,0.030178178906036 52.837087542554826,0.0301781789060362 52.7050834928573,-0.027374769606156 52.67125644389593,-0.0420132485163091 52.55935610777909,-0.090437535014251 52.41361750978548,-0.153065432891893 52.267907893808506,-0.215479913952853</gml:coordinates>\\n      </gml:LinearRing>\\n   </gml:outerBoundaryIs>\\n</gml:Polygon>',\n",
       "               'identifier': 'S2A_OPER_PRD_MSIL1C_PDMC_20160723T165606_R094_V20160723T105623_20160723T105623',\n",
       "               'ingestiondate': datetime.datetime(2016, 7, 23, 17, 10, 59, 789000),\n",
       "               'instrumentname': 'Multi-Spectral Instrument',\n",
       "               'instrumentshortname': 'MSI',\n",
       "               'link': \"https://scihub.copernicus.eu/dhus/odata/v1/Products('8cc4a001-d0a8-417b-ac3c-4432296d0b53')/$value\",\n",
       "               'link_alternative': \"https://scihub.copernicus.eu/dhus/odata/v1/Products('8cc4a001-d0a8-417b-ac3c-4432296d0b53')/\",\n",
       "               'link_icon': \"https://scihub.copernicus.eu/dhus/odata/v1/Products('8cc4a001-d0a8-417b-ac3c-4432296d0b53')/Products('Quicklook')/$value\",\n",
       "               'orbitdirection': 'ASCENDING',\n",
       "               'orbitnumber': 5668,\n",
       "               'platformidentifier': '2015-000A',\n",
       "               'platformname': 'Sentinel-2',\n",
       "               'platformserialidentifier': 'Sentinel-2A',\n",
       "               'processed': 'F',\n",
       "               'processingbaseline': '02.04',\n",
       "               'processinglevel': 'Level-1C',\n",
       "               'producttype': 'S2MSI1C',\n",
       "               'relativeorbitnumber': 94,\n",
       "               's2datatakeid': 'GS2A_20160723T105622_005668_N02.04',\n",
       "               'sensoroperationalmode': 'INS-NOBS',\n",
       "               'size': '6.43 GB',\n",
       "               'summary': 'Date: 2016-07-23T10:56:23Z, Instrument: MSI, Mode: , Satellite: Sentinel-2, Size: 6.43 GB',\n",
       "               'title': 'S2A_OPER_PRD_MSIL1C_PDMC_20160723T165606_R094_V20160723T105623_20160723T105623',\n",
       "               'uuid': '8cc4a001-d0a8-417b-ac3c-4432296d0b53'}),\n",
       "             ('491093da-a5eb-429d-a1ac-623e4e7a5578',\n",
       "              {'beginposition': datetime.datetime(2016, 7, 7, 10, 40, 25),\n",
       "               'cloudcoverpercentage': 26.96540666666667,\n",
       "               'endposition': datetime.datetime(2016, 7, 7, 10, 40, 25),\n",
       "               'filename': 'S2A_OPER_PRD_MSIL1C_PDMC_20160707T174444_R008_V20160707T104025_20160707T104025.SAFE',\n",
       "               'footprint': 'POLYGON ((2.9997231710148244 49.607739920105956,2.999728378048824 48.66503141156509,4.424290987569203 48.65581480408966,5.780784216609892 48.63103968542923,7.200980618578432 48.5883487810417,7.206138543130609 48.64878448309814,7.708337912131073 48.657376206712975,9.132551327123652 48.66495515183609,9.135092346843528 49.60766110298426,9.137641415079765 50.50693396171013,9.140457957691327 51.451098078258774,7.702116061954055 51.44312955187337,7.702092127176296 51.44399790803582,7.631322260372732 51.44273734868615,7.560547850091258 51.44234525292824,7.560574385907079 51.44147718106602,6.123708231698877 51.415883589517534,6.1241822803694195 51.408120398625336,6.016969519888855 51.411476306262045,6.017025008525815 51.41234265506691,5.946366439251231 51.413686280302684,5.875717288603333 51.41589769639834,5.875664359225905 51.41503073292773,4.579515067442993 51.43967797551486,4.579544021469633 51.44054116582309,4.5092079112329495 51.4410149183699,4.438876794404744 51.44235231685392,4.438850408836756 51.441488815004725,2.999712175851301 51.45118220579359,2.9997179474867726 50.507015316500315,2.9997231710148244 49.607739920105956))',\n",
       "               'format': 'SAFE',\n",
       "               'gmlfootprint': '<gml:Polygon srsName=\"http://www.opengis.net/gml/srs/epsg.xml#4326\" xmlns:gml=\"http://www.opengis.net/gml\">\\n   <gml:outerBoundaryIs>\\n      <gml:LinearRing>\\n         <gml:coordinates>49.607739920105956,2.9997231710148244 48.66503141156509,2.999728378048824 48.65581480408966,4.424290987569203 48.63103968542923,5.780784216609892 48.5883487810417,7.200980618578432 48.64878448309814,7.206138543130609 48.657376206712975,7.708337912131073 48.66495515183609,9.132551327123652 49.60766110298426,9.135092346843528 50.50693396171013,9.137641415079765 51.451098078258774,9.140457957691327 51.44312955187337,7.702116061954055 51.44399790803582,7.702092127176296 51.44273734868615,7.631322260372732 51.44234525292824,7.560547850091258 51.44147718106602,7.560574385907079 51.415883589517534,6.123708231698877 51.408120398625336,6.1241822803694195 51.411476306262045,6.016969519888855 51.41234265506691,6.017025008525815 51.413686280302684,5.946366439251231 51.41589769639834,5.875717288603333 51.41503073292773,5.875664359225905 51.43967797551486,4.579515067442993 51.44054116582309,4.579544021469633 51.4410149183699,4.5092079112329495 51.44235231685392,4.438876794404744 51.441488815004725,4.438850408836756 51.45118220579359,2.999712175851301 50.507015316500315,2.9997179474867726 49.607739920105956,2.9997231710148244</gml:coordinates>\\n      </gml:LinearRing>\\n   </gml:outerBoundaryIs>\\n</gml:Polygon>',\n",
       "               'identifier': 'S2A_OPER_PRD_MSIL1C_PDMC_20160707T174444_R008_V20160707T104025_20160707T104025',\n",
       "               'ingestiondate': datetime.datetime(2016, 7, 7, 18, 1, 49, 933000),\n",
       "               'instrumentname': 'Multi-Spectral Instrument',\n",
       "               'instrumentshortname': 'MSI',\n",
       "               'link': \"https://scihub.copernicus.eu/dhus/odata/v1/Products('491093da-a5eb-429d-a1ac-623e4e7a5578')/$value\",\n",
       "               'link_alternative': \"https://scihub.copernicus.eu/dhus/odata/v1/Products('491093da-a5eb-429d-a1ac-623e4e7a5578')/\",\n",
       "               'link_icon': \"https://scihub.copernicus.eu/dhus/odata/v1/Products('491093da-a5eb-429d-a1ac-623e4e7a5578')/Products('Quicklook')/$value\",\n",
       "               'orbitdirection': 'DESCENDING',\n",
       "               'orbitnumber': 5439,\n",
       "               'platformidentifier': '2015-000A',\n",
       "               'platformname': 'Sentinel-2',\n",
       "               'platformserialidentifier': 'Sentinel-2A',\n",
       "               'processed': 'F',\n",
       "               'processingbaseline': '02.04',\n",
       "               'processinglevel': 'Level-1C',\n",
       "               'producttype': 'S2MSI1C',\n",
       "               'relativeorbitnumber': 8,\n",
       "               's2datatakeid': 'GS2A_20160707T104022_005439_N02.04',\n",
       "               'sensoroperationalmode': 'INS-NOBS',\n",
       "               'size': '7.04 GB',\n",
       "               'summary': 'Date: 2016-07-07T10:40:25Z, Instrument: MSI, Mode: , Satellite: Sentinel-2, Size: 7.04 GB',\n",
       "               'title': 'S2A_OPER_PRD_MSIL1C_PDMC_20160707T174444_R008_V20160707T104025_20160707T104025',\n",
       "               'uuid': '491093da-a5eb-429d-a1ac-623e4e7a5578'}),\n",
       "             ('1834bbe8-7a15-41d9-b0b6-8f782c80efb0',\n",
       "              {'beginposition': datetime.datetime(2016, 7, 3, 11, 6, 2),\n",
       "               'cloudcoverpercentage': 26.185074999999998,\n",
       "               'endposition': datetime.datetime(2016, 7, 3, 11, 6, 2),\n",
       "               'filename': 'S2A_OPER_PRD_MSIL1C_PDMC_20160703T182914_R094_V20160703T110602_20160703T110602.SAFE',\n",
       "               'footprint': 'POLYGON ((-1.532115847042169 52.34135509726958,-1.5335649648048502 52.29632996376602,-1.535019632835204 52.25345680664421,-1.5349448682435787 52.25345536920179,-1.56387937487654 51.354439390266904,-0.0592695313837137 51.325862789277174,1.442095184333063 51.27892518278613,1.449316928500434 51.35153861060136,1.6339439541382934 51.35482321981505,3.069950651279647 51.362769188761256,4.576518664211577 51.35263389325745,4.608247652871393 52.25070231458951,6.071678487044593 52.22256603361336,6.138550790618477 53.16293374228423,6.209260084873382 54.10530483528773,4.680298483308809 54.135426175010736,4.680335868325268 54.13637742873316,4.605511655344831 54.13689951446517,4.530701256365736 54.138373318280884,4.530667188151795 54.137421741520896,3.1494223015642717 54.14705937376552,3.149425629181234 54.14801139115367,3.07455939123858 54.14758172950815,2.999693799364791 54.148104103961266,2.9996938061838057 54.14715207160958,1.619287624914553 54.139229841140434,1.619256720590611 54.140186775460364,1.5439780078249117 54.13879763491648,1.468686704722542 54.138365533797554,1.4687209678829163 54.137408894307676,-0.059593683367104 54.109206448119856,-0.0003001188546641 53.28035890131649,-0.0051902554819882 53.21198745872148,-0.005359077151682 53.21199287188401,-0.0054217535200581 53.21106824600125,-1.501539571659072 53.24020834947074,-1.5320373324071974 52.34135358595493,-1.532115847042169 52.34135509726958))',\n",
       "               'format': 'SAFE',\n",
       "               'gmlfootprint': '<gml:Polygon srsName=\"http://www.opengis.net/gml/srs/epsg.xml#4326\" xmlns:gml=\"http://www.opengis.net/gml\">\\n   <gml:outerBoundaryIs>\\n      <gml:LinearRing>\\n         <gml:coordinates>52.34135509726958,-1.532115847042169 52.29632996376602,-1.5335649648048502 52.25345680664421,-1.535019632835204 52.25345536920179,-1.5349448682435787 51.354439390266904,-1.56387937487654 51.325862789277174,-0.0592695313837137 51.27892518278613,1.442095184333063 51.35153861060136,1.449316928500434 51.35482321981505,1.6339439541382934 51.362769188761256,3.069950651279647 51.35263389325745,4.576518664211577 52.25070231458951,4.608247652871393 52.22256603361336,6.071678487044593 53.16293374228423,6.138550790618477 54.10530483528773,6.209260084873382 54.135426175010736,4.680298483308809 54.13637742873316,4.680335868325268 54.13689951446517,4.605511655344831 54.138373318280884,4.530701256365736 54.137421741520896,4.530667188151795 54.14705937376552,3.1494223015642717 54.14801139115367,3.149425629181234 54.14758172950815,3.07455939123858 54.148104103961266,2.999693799364791 54.14715207160958,2.9996938061838057 54.139229841140434,1.619287624914553 54.140186775460364,1.619256720590611 54.13879763491648,1.5439780078249117 54.138365533797554,1.468686704722542 54.137408894307676,1.4687209678829163 54.109206448119856,-0.059593683367104 53.28035890131649,-0.0003001188546641 53.21198745872148,-0.0051902554819882 53.21199287188401,-0.005359077151682 53.21106824600125,-0.0054217535200581 53.24020834947074,-1.501539571659072 52.34135358595493,-1.5320373324071974 52.34135509726958,-1.532115847042169</gml:coordinates>\\n      </gml:LinearRing>\\n   </gml:outerBoundaryIs>\\n</gml:Polygon>',\n",
       "               'identifier': 'S2A_OPER_PRD_MSIL1C_PDMC_20160703T182914_R094_V20160703T110602_20160703T110602',\n",
       "               'ingestiondate': datetime.datetime(2016, 7, 3, 18, 41, 48, 217000),\n",
       "               'instrumentname': 'Multi-Spectral Instrument',\n",
       "               'instrumentshortname': 'MSI',\n",
       "               'link': \"https://scihub.copernicus.eu/dhus/odata/v1/Products('1834bbe8-7a15-41d9-b0b6-8f782c80efb0')/$value\",\n",
       "               'link_alternative': \"https://scihub.copernicus.eu/dhus/odata/v1/Products('1834bbe8-7a15-41d9-b0b6-8f782c80efb0')/\",\n",
       "               'link_icon': \"https://scihub.copernicus.eu/dhus/odata/v1/Products('1834bbe8-7a15-41d9-b0b6-8f782c80efb0')/Products('Quicklook')/$value\",\n",
       "               'orbitdirection': 'DESCENDING',\n",
       "               'orbitnumber': 5382,\n",
       "               'platformidentifier': '2015-000A',\n",
       "               'platformname': 'Sentinel-2',\n",
       "               'platformserialidentifier': 'Sentinel-2A',\n",
       "               'processed': 'F',\n",
       "               'processingbaseline': '02.04',\n",
       "               'processinglevel': 'Level-1C',\n",
       "               'producttype': 'S2MSI1C',\n",
       "               'relativeorbitnumber': 94,\n",
       "               's2datatakeid': 'GS2A_20160703T105622_005382_N02.04',\n",
       "               'sensoroperationalmode': 'INS-NOBS',\n",
       "               'size': '6.94 GB',\n",
       "               'summary': 'Date: 2016-07-03T11:06:02Z, Instrument: MSI, Mode: , Satellite: Sentinel-2, Size: 6.94 GB',\n",
       "               'title': 'S2A_OPER_PRD_MSIL1C_PDMC_20160703T182914_R094_V20160703T110602_20160703T110602',\n",
       "               'uuid': '1834bbe8-7a15-41d9-b0b6-8f782c80efb0'})])"
      ]
     },
     "execution_count": 14,
     "metadata": {},
     "output_type": "execute_result"
    }
   ],
   "source": [
    "# queried data is stored in dictionary\n",
    "products"
   ]
  },
  {
   "cell_type": "code",
   "execution_count": 15,
   "metadata": {
    "scrolled": false
   },
   "outputs": [
    {
     "name": "stderr",
     "output_type": "stream",
     "text": [
      "Downloading: 100%|██████████████████████| 6.56G/6.56G [1:09:17<00:00, 1.80MB/s]\n",
      "Downloading: 100%|█████████████████████████| 6.17G/6.17G [45:08<00:00, 825KB/s]\n",
      "Downloading: 100%|████████████████████████| 6.86G/6.86G [45:18<00:00, 3.29MB/s]\n",
      "Downloading: 100%|████████████████████████| 7.52G/7.52G [51:46<00:00, 2.45MB/s]\n",
      "Downloading: 100%|████████████████████████| 7.40G/7.40G [50:09<00:00, 2.78MB/s]\n"
     ]
    },
    {
     "data": {
      "text/plain": [
       "(OrderedDict([('d7a0b997-c292-4d5c-b7ba-5ca8af81de9e',\n",
       "               {'date': datetime.datetime(2016, 7, 20, 10, 55, 47),\n",
       "                'downloaded_bytes': 6562286061,\n",
       "                'footprint': 'POLYGON((1.468686704722542 54.138365533797554,1.5024787799297383 53.19487890749161,1.532978599279183 52.296322681530654,1.563305120541532 51.354432348394134,3.069950651279659 51.362769188761256,4.506317268777333 51.35310616658424,5.940730468616287 51.325862789277174,7.442095184333064 51.27892518278613,7.449316928500434 51.35153861060136,7.704578464673325 51.35607984388353,7.678476610135315 52.255149533971945,7.678544065009484 52.25515074878083,7.677231805547748 52.29802641358729,7.675924550313965 52.34305438492137,7.675853711339602 52.343053107669625,7.6510762392320775 53.15261144564422,9.145975990507251 53.161084098264766,9.149425629181234 54.14801139115367,7.619287624914551 54.139229841140434,7.619256720590609 54.140186775460364,7.543978007824918 54.13879763491648,7.468686704722542 54.138365533797554,7.468720967882915 54.137408894307676,5.976967437813609 54.10988112139595,4.680298483308809 54.135426175010736,4.680335868325268 54.13637742873316,4.605511655344815 54.13689951446517,4.530701256365736 54.138373318280884,4.530667188151795 54.137421741520896,3.1494223015642717 54.14705937376552,3.149425629181234 54.14801139115367,3.0745593912385707 54.14758172950815,2.999693799364791 54.148104103961266,2.9996938061838057 54.14715207160958,1.468686704722542 54.138365533797554))',\n",
       "                'id': 'd7a0b997-c292-4d5c-b7ba-5ca8af81de9e',\n",
       "                'md5': '1FEAAA033D951A1F71D78786FA4F1B8A',\n",
       "                'path': '.\\\\S2A_OPER_PRD_MSIL1C_PDMC_20160805T152827_R051_V20160720T105547_20160720T105547.zip',\n",
       "                'size': 6562286061,\n",
       "                'title': 'S2A_OPER_PRD_MSIL1C_PDMC_20160805T152827_R051_V20160720T105547_20160720T105547',\n",
       "                'url': \"https://scihub.copernicus.eu/dhus/odata/v1/Products('d7a0b997-c292-4d5c-b7ba-5ca8af81de9e')/$value\"}),\n",
       "              ('a2c6785d-8c9c-4ef4-9d18-b6f2981295bb',\n",
       "               {'date': datetime.datetime(2016, 7, 20, 10, 55, 47),\n",
       "                'downloaded_bytes': 6170451798,\n",
       "                'footprint': 'POLYGON((-0.231485194959582 49.61961011420237,-0.285913342257581 48.63304460468163,1.200980618578431 48.5883487810417,1.2061385431306075 48.64878448309814,1.708337912131073 48.657376206712975,3.066139888020064 48.66460174366902,4.424290987569203 48.65581480408966,5.847478451946776 48.62982157570405,5.89944068972702 49.527603861244124,7.277370381662825 49.48562029230301,7.361691665835585 50.42521893388835,7.364073857802594 50.45044508487967,7.729300891794365 50.45686117062749,7.702092127176296 51.44399790803582,6.123708231698877 51.415883589517534,6.1241822803694195 51.40812039862533,6.016969519888855 51.411476306262045,6.017025008525815 51.41234265506691,5.946366439251198 51.413686280302684,5.875717288603333 51.41589769639834,5.875664359225905 51.41503073292773,4.579515067442993 51.43967797551486,4.579544021469633 51.44054116582309,4.509207911232941 51.4410149183699,4.438876794404744 51.44235231685392,4.438850408836756 51.441488815004725,3.140455380717382 51.45023422258088,3.140457957691326 51.451098078258774,3.070084949391756 51.45070820629918,2.999712175851301 51.45118220579359,2.999712181132087 51.45031833566943,1.560547850091258 51.44234525292824,1.588043005771612 50.542890299102645,0.178667516417683 50.51810003852152,0.2316232622942571 49.60548153154605,-0.231485194959582 49.61961011420237))',\n",
       "                'id': 'a2c6785d-8c9c-4ef4-9d18-b6f2981295bb',\n",
       "                'md5': '9A9DC0C945E4C77F1BCCBE1AC5857F67',\n",
       "                'path': '.\\\\S2A_OPER_PRD_MSIL1C_PDMC_20160805T151239_R051_V20160720T105547_20160720T105547.zip',\n",
       "                'size': 6170451798,\n",
       "                'title': 'S2A_OPER_PRD_MSIL1C_PDMC_20160805T151239_R051_V20160720T105547_20160720T105547',\n",
       "                'url': \"https://scihub.copernicus.eu/dhus/odata/v1/Products('a2c6785d-8c9c-4ef4-9d18-b6f2981295bb')/$value\"}),\n",
       "              ('8cc4a001-d0a8-417b-ac3c-4432296d0b53',\n",
       "               {'date': datetime.datetime(2016, 7, 23, 10, 56, 23),\n",
       "                'downloaded_bytes': 6863366797,\n",
       "                'footprint': 'POLYGON((-0.215479913952853 52.267907893808506,-0.277407747350127 52.122239684668806,-0.338689769835776 51.97651525283962,-0.39944995393895 51.83081172289876,-0.460343220362437 51.68519427466118,-0.521094700354082 51.53957653939116,-0.581477783493724 51.39385322697045,-0.605182264334695 51.33623114517503,-0.0592695313836906 51.32586278927717,1.442095184333063 51.27892518278613,1.449316928500434 51.35153861060136,1.633943954138284 51.35482321981505,3.0699506512796475 51.362769188761256,3.81932862958425 51.35772781844875,3.829339937307502 51.37717628487879,3.904156001340692 51.5212478078356,3.979398315317582 51.66534148033162,4.054839217470661 51.80942692454441,4.13063681447125 51.953444197509455,4.206919035896554 52.09731450664574,4.283686455692807 52.24104343732692,4.290491287603113 52.253756003873285,4.290491287603114 52.253756003873285,4.360593132355588 52.38471799943543,4.43779127185058 52.5282895036187,4.51542135654145 52.67181164118787,4.593716400042884 52.815324617637216,4.63177619127959 52.88466537566435,4.672529574259185 52.958913561903735,4.751794868506768 53.10255788825226,4.803256995874521 53.19501122007884,4.831745417981839 53.24619156720056,4.912285297099634 53.38976457205784,4.993170078743166 53.53327520319171,5.074556484538988 53.676742327656285,5.156411746209446 53.82011465698098,5.238868068006079 53.963333880051245,5.321769109835049 54.10641527069712,5.331168446744208 54.12260369780524,4.680298483308809 54.135426175010736,4.680335868325268 54.13637742873316,4.60551165534482 54.13689951446517,4.530701256365736 54.138373318280884,4.530667188151795 54.137421741520896,3.1494223015642717 54.14705937376552,3.149425629181234 54.14801139115367,3.07455939123858 54.14758172950815,2.999693799364791 54.148104103961266,2.9996938061838057 54.14715207160958,1.619287624914553 54.139229841140434,1.619256720590611 54.140186775460364,1.543978007824905 54.13879763491648,1.468686704722542 54.138365533797554,1.4687209678829163 54.137408894307676,0.60236642361397 54.12142179545056,0.553319221755167 54.01424827924118,0.487275510406973 53.86884789553411,0.421835573774309 53.72347408194968,0.356783679256115 53.578116589175565,0.292105421617853 53.4328094056614,0.227872048252042 53.2873744107636,0.1919026014863508 53.20566779804018,0.19190260148635 53.20566779804018,0.163828134761048 53.141895074620685,0.099926207527676 52.99634138663527,0.036130544934621 52.85073995205542,0.030178178906036 52.837087542554826,0.0301781789060362 52.837087542554826,-0.027374769606156 52.7050834928573,-0.0420132485163091 52.67125644389593,-0.090437535014251 52.55935610777909,-0.153065432891893 52.41361750978548,-0.215479913952853 52.267907893808506))',\n",
       "                'id': '8cc4a001-d0a8-417b-ac3c-4432296d0b53',\n",
       "                'md5': 'FFC5B44E3AA29C0D870F88B258DA33F0',\n",
       "                'path': '.\\\\S2A_OPER_PRD_MSIL1C_PDMC_20160723T165606_R094_V20160723T105623_20160723T105623.zip',\n",
       "                'size': 6863366797,\n",
       "                'title': 'S2A_OPER_PRD_MSIL1C_PDMC_20160723T165606_R094_V20160723T105623_20160723T105623',\n",
       "                'url': \"https://scihub.copernicus.eu/dhus/odata/v1/Products('8cc4a001-d0a8-417b-ac3c-4432296d0b53')/$value\"}),\n",
       "              ('491093da-a5eb-429d-a1ac-623e4e7a5578',\n",
       "               {'date': datetime.datetime(2016, 7, 7, 10, 40, 25),\n",
       "                'downloaded_bytes': 7522420766,\n",
       "                'footprint': 'POLYGON((2.9997231710148244 49.607739920105956,2.999728378048824 48.66503141156509,4.424290987569203 48.65581480408966,5.780784216609892 48.63103968542923,7.200980618578432 48.5883487810417,7.206138543130609 48.64878448309814,7.708337912131073 48.657376206712975,9.132551327123652 48.66495515183609,9.135092346843528 49.60766110298426,9.137641415079765 50.50693396171013,9.140457957691327 51.451098078258774,7.702116061954055 51.44312955187337,7.702092127176296 51.44399790803582,7.631322260372732 51.44273734868615,7.560547850091258 51.44234525292824,7.560574385907079 51.44147718106602,6.123708231698877 51.415883589517534,6.1241822803694195 51.408120398625336,6.016969519888855 51.411476306262045,6.017025008525815 51.41234265506691,5.946366439251231 51.413686280302684,5.875717288603333 51.41589769639834,5.875664359225905 51.41503073292773,4.579515067442993 51.43967797551486,4.579544021469633 51.44054116582309,4.5092079112329495 51.4410149183699,4.438876794404744 51.44235231685392,4.438850408836756 51.441488815004725,2.999712175851301 51.45118220579359,2.9997179474867726 50.507015316500315,2.9997231710148244 49.607739920105956))',\n",
       "                'id': '491093da-a5eb-429d-a1ac-623e4e7a5578',\n",
       "                'md5': '01065396C2C6F0A06ED3D5D389E314C6',\n",
       "                'path': '.\\\\S2A_OPER_PRD_MSIL1C_PDMC_20160707T174444_R008_V20160707T104025_20160707T104025.zip',\n",
       "                'size': 7522420766,\n",
       "                'title': 'S2A_OPER_PRD_MSIL1C_PDMC_20160707T174444_R008_V20160707T104025_20160707T104025',\n",
       "                'url': \"https://scihub.copernicus.eu/dhus/odata/v1/Products('491093da-a5eb-429d-a1ac-623e4e7a5578')/$value\"}),\n",
       "              ('1834bbe8-7a15-41d9-b0b6-8f782c80efb0',\n",
       "               {'date': datetime.datetime(2016, 7, 3, 11, 6, 2),\n",
       "                'downloaded_bytes': 7402941092,\n",
       "                'footprint': 'POLYGON((-1.532115847042169 52.34135509726958,-1.5335649648048502 52.29632996376602,-1.535019632835204 52.25345680664421,-1.5349448682435787 52.25345536920179,-1.56387937487654 51.354439390266904,-0.0592695313837137 51.325862789277174,1.442095184333063 51.27892518278613,1.449316928500434 51.35153861060136,1.6339439541382934 51.35482321981505,3.069950651279647 51.362769188761256,4.576518664211577 51.35263389325745,4.608247652871393 52.25070231458951,6.071678487044593 52.22256603361336,6.138550790618477 53.16293374228423,6.209260084873382 54.10530483528773,4.680298483308809 54.135426175010736,4.680335868325268 54.13637742873316,4.605511655344831 54.13689951446517,4.530701256365736 54.138373318280884,4.530667188151795 54.137421741520896,3.1494223015642717 54.14705937376552,3.149425629181234 54.14801139115367,3.07455939123858 54.14758172950815,2.999693799364791 54.148104103961266,2.9996938061838057 54.14715207160958,1.619287624914553 54.139229841140434,1.619256720590611 54.140186775460364,1.5439780078249117 54.13879763491648,1.468686704722542 54.138365533797554,1.4687209678829163 54.137408894307676,-0.059593683367104 54.109206448119856,-0.0003001188546641 53.28035890131649,-0.0051902554819882 53.21198745872148,-0.005359077151682 53.21199287188401,-0.0054217535200581 53.21106824600125,-1.501539571659072 53.24020834947074,-1.5320373324071974 52.34135358595493,-1.532115847042169 52.34135509726958))',\n",
       "                'id': '1834bbe8-7a15-41d9-b0b6-8f782c80efb0',\n",
       "                'md5': '0FF374FF5DFCF4651DF5B4B25F4237C8',\n",
       "                'path': '.\\\\S2A_OPER_PRD_MSIL1C_PDMC_20160703T182914_R094_V20160703T110602_20160703T110602.zip',\n",
       "                'size': 7402941092,\n",
       "                'title': 'S2A_OPER_PRD_MSIL1C_PDMC_20160703T182914_R094_V20160703T110602_20160703T110602',\n",
       "                'url': \"https://scihub.copernicus.eu/dhus/odata/v1/Products('1834bbe8-7a15-41d9-b0b6-8f782c80efb0')/$value\"})]),\n",
       " set())"
      ]
     },
     "execution_count": 15,
     "metadata": {},
     "output_type": "execute_result"
    }
   ],
   "source": [
    "# download all datasets (from query)\n",
    "api.download_all(products)"
   ]
  },
  {
   "cell_type": "code",
   "execution_count": null,
   "metadata": {
    "collapsed": true
   },
   "outputs": [],
   "source": [
    "# GeoJSON FeatureCollection containing footprints and metadata of the scenes\n",
    "geojson_products = api.to_geojson(products)"
   ]
  },
  {
   "cell_type": "code",
   "execution_count": null,
   "metadata": {
    "collapsed": true
   },
   "outputs": [],
   "source": [
    "geojson_products"
   ]
  },
  {
   "cell_type": "code",
   "execution_count": null,
   "metadata": {
    "collapsed": true
   },
   "outputs": [],
   "source": [
    "# GeoPandas GeoDataFrame with the metadata of the scenes and the footprints as geometries\n",
    "api.to_geodataframe(products)"
   ]
  }
 ],
 "metadata": {
  "kernelspec": {
   "display_name": "Python 3",
   "language": "python",
   "name": "python3"
  },
  "language_info": {
   "codemirror_mode": {
    "name": "ipython",
    "version": 3
   },
   "file_extension": ".py",
   "mimetype": "text/x-python",
   "name": "python",
   "nbconvert_exporter": "python",
   "pygments_lexer": "ipython3",
   "version": "3.5.3"
  }
 },
 "nbformat": 4,
 "nbformat_minor": 2
}
