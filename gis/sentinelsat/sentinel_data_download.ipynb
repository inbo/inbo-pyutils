{
 "cells": [
  {
   "cell_type": "code",
   "execution_count": 2,
   "metadata": {
    "collapsed": true
   },
   "outputs": [],
   "source": [
    "from sentinelsat.sentinel import SentinelAPI, read_geojson, geojson_to_wkt\n",
    "\n",
    "import collections\n",
    "import os\n",
    "import logging\n",
    "\n",
    "import geopandas as gpd\n",
    "import matplotlib.pyplot as plt\n",
    "%matplotlib inline\n",
    "\n",
    "# import gui tkinter\n",
    "from tkinter import Tk\n",
    "import tkinter.filedialog as tkfd\n",
    "import tkinter.simpledialog as tksd"
   ]
  },
  {
   "cell_type": "code",
   "execution_count": 3,
   "metadata": {
    "collapsed": true
   },
   "outputs": [],
   "source": [
    "logging.basicConfig(format='%(message)s', level='INFO')"
   ]
  },
  {
   "cell_type": "markdown",
   "metadata": {},
   "source": [
    "**Login"
   ]
  },
  {
   "cell_type": "code",
   "execution_count": 4,
   "metadata": {
    "collapsed": true
   },
   "outputs": [],
   "source": [
    "#ask username and password"
   ]
  },
  {
   "cell_type": "code",
   "execution_count": 52,
   "metadata": {
    "collapsed": true
   },
   "outputs": [],
   "source": [
    "root = Tk()\n",
    "\n",
    "username = tksd.askstring(title = \"USERNAME\", \n",
    "                          prompt = \"Log in with Copernicus Open Access Hub username ...\")\n",
    "\n",
    "password = tksd.askstring(title = \"PASSWORD\", \n",
    "                          prompt = \"... and password\") \n",
    "\n",
    "root.destroy()"
   ]
  },
  {
   "cell_type": "code",
   "execution_count": 6,
   "metadata": {
    "collapsed": true
   },
   "outputs": [],
   "source": [
    "api = SentinelAPI(username, password, \"https://scihub.copernicus.eu/dhus\")"
   ]
  },
  {
   "cell_type": "code",
   "execution_count": 7,
   "metadata": {
    "collapsed": true
   },
   "outputs": [],
   "source": [
    "root = Tk()\n",
    "download_dir = tkfd.askdirectory(title = \"Select download folder\", initialdir = \"C:/\")\n",
    "bounding_box_flanders = tkfd.askopenfilename(title = \"Select input GeoJSON, defining the bounding box of Flanders\", \n",
    "                                             initialdir = \"C:/\", \n",
    "                                             filetypes = ((\"GeoJSON\", \"*.geojson\"),(\"all files\", \"*.*\")))\n",
    "root.destroy()"
   ]
  },
  {
   "cell_type": "code",
   "execution_count": 8,
   "metadata": {},
   "outputs": [
    {
     "data": {
      "text/plain": [
       "'C:/WERKMAP/Anaconda/sentinelsat/downloaded_datasets'"
      ]
     },
     "execution_count": 8,
     "metadata": {},
     "output_type": "execute_result"
    }
   ],
   "source": [
    "download_dir"
   ]
  },
  {
   "cell_type": "code",
   "execution_count": 9,
   "metadata": {},
   "outputs": [
    {
     "data": {
      "text/plain": [
       "'C:/WERKMAP/Anaconda/sentinelsat/geojson/footprint_flanders_geojson.geojson'"
      ]
     },
     "execution_count": 9,
     "metadata": {},
     "output_type": "execute_result"
    }
   ],
   "source": [
    "bounding_box_flanders"
   ]
  },
  {
   "cell_type": "markdown",
   "metadata": {},
   "source": [
    "**Download Sentinelsat data"
   ]
  },
  {
   "cell_type": "markdown",
   "metadata": {},
   "source": [
    "**DOWNLOAD the DATA in BULK"
   ]
  },
  {
   "cell_type": "markdown",
   "metadata": {},
   "source": [
    "define footprint"
   ]
  },
  {
   "cell_type": "code",
   "execution_count": 10,
   "metadata": {
    "collapsed": true
   },
   "outputs": [],
   "source": [
    "# define footprint = search the data by polygon\n",
    "footprint_flanders_geojson = geojson_to_wkt(read_geojson(bounding_box_flanders))"
   ]
  },
  {
   "cell_type": "code",
   "execution_count": 11,
   "metadata": {},
   "outputs": [
    {
     "data": {
      "text/plain": [
       "'POLYGON ((2.5406630 50.6879597, 2.5406630 51.5056400, 5.9098982 51.5056400, 5.9098982 50.6879597, 2.5406630 50.6879597))'"
      ]
     },
     "execution_count": 11,
     "metadata": {},
     "output_type": "execute_result"
    }
   ],
   "source": [
    "footprint_flanders_geojson"
   ]
  },
  {
   "cell_type": "code",
   "execution_count": 12,
   "metadata": {},
   "outputs": [
    {
     "name": "stderr",
     "output_type": "stream",
     "text": [
      "GDAL data files not located, GDAL_DATA not set\n",
      "PROJ data files not located, PROJ_LIB not set\n"
     ]
    },
    {
     "data": {
      "text/plain": [
       "<matplotlib.axes._subplots.AxesSubplot at 0xd31d550>"
      ]
     },
     "execution_count": 12,
     "metadata": {},
     "output_type": "execute_result"
    },
    {
     "data": {
      "image/png": "[encoded data removed]",
      "text/plain": [
       "<matplotlib.figure.Figure at 0xb819748>"
      ]
     },
     "metadata": {},
     "output_type": "display_data"
    }
   ],
   "source": [
    "plot_geojson = gpd.read_file(bounding_box_flanders)\n",
    "plot_geojson.plot()"
   ]
  },
  {
   "cell_type": "markdown",
   "metadata": {},
   "source": [
    "set parameters"
   ]
  },
  {
   "cell_type": "code",
   "execution_count": 13,
   "metadata": {
    "collapsed": true
   },
   "outputs": [],
   "source": [
    "root = Tk()\n",
    "\n",
    "startdate = tksd.askstring(title = \"STARTDATE\", \n",
    "                           prompt = \"define startdate query (format: yyyymmdd)\")\n",
    "\n",
    "enddate = tksd.askstring(title = \"ENDDATE\", \n",
    "                         prompt = \"define enddate query (format: yyyymmdd)\")\n",
    "\n",
    "min_cloud = tksd.askstring(title = \"minimum cloudcover percentage\", \n",
    "                           prompt = \"define minimum cloudcover percentage (value from 0 to 100)\")\n",
    "\n",
    "max_cloud = tksd.askstring(title = \"maximum cloudcover percentage\", \n",
    "                           prompt = \"define maximum cloudcover percentage (value from 0 to 100)\")\n",
    "\n",
    "root.destroy()"
   ]
  },
  {
   "cell_type": "code",
   "execution_count": 57,
   "metadata": {},
   "outputs": [
    {
     "name": "stdout",
     "output_type": "stream",
     "text": [
      "The following parameters are selected:\n",
      "- startdate = 20160601\n",
      "- enddate = 20160630\n",
      "- minimum cloudcover percentage = 0\n",
      "- maximum cloudcover percentage = 30\n"
     ]
    }
   ],
   "source": [
    "print(\"The following parameters are selected:\")\n",
    "print(\"- startdate =\", startdate)\n",
    "print(\"- enddate =\", enddate)\n",
    "print(\"- minimum cloudcover percentage =\", min_cloud)\n",
    "print(\"- maximum cloudcover percentage =\", max_cloud)"
   ]
  },
  {
   "cell_type": "code",
   "execution_count": 53,
   "metadata": {
    "collapsed": true
   },
   "outputs": [],
   "source": [
    "# query the data by footprint, time, and keywords\n",
    "products = api.query(footprint_flanders_geojson, \n",
    "                     startdate, \n",
    "                     enddate, \n",
    "                     platformname = 'Sentinel-2', \n",
    "                     cloudcoverpercentage = '[' + min_cloud + ' TO ' + max_cloud + ']'\n",
    "                    )"
   ]
  },
  {
   "cell_type": "code",
   "execution_count": 54,
   "metadata": {},
   "outputs": [
    {
     "data": {
      "text/plain": [
       "OrderedDict([('5c847bcf-f57a-4cb2-ae52-064aef8ba6ea',\n",
       "              {'beginposition': datetime.datetime(2016, 6, 4, 10, 30, 26),\n",
       "               'cloudcoverpercentage': 9.846105882352942,\n",
       "               'endposition': datetime.datetime(2016, 6, 4, 10, 30, 26),\n",
       "               'filename': 'S2A_OPER_PRD_MSIL1C_PDMC_20160718T095153_R108_V20160604T103026_20160604T103026.SAFE',\n",
       "               'footprint': 'POLYGON ((5.933615765809156 52.31403780479302,5.9307234852508826 52.26905825882812,5.927820031395214 52.226225391291045,5.927968937642912 52.22622067850045,5.870215764132042 51.32806731121396,7.442095184333064 51.27892518278613,7.449316928500434 51.35153861060136,7.633943954138294 51.35482321981505,9.069950651279648 51.362769188761256,10.506317268777321 51.35310616658424,12.011254122594853 51.32452335478603,12.071774493973688 52.22166932163063,13.531032170485291 52.17548471916956,13.539120711237327 52.25263984456077,13.678544065009483 52.25515074878083,13.651048010503407 53.15353376744384,13.651120770782791 53.153535093377016,13.649728735640895 53.196638647570126,13.648341514492438 53.24196354764364,13.648265006909883 53.24196215182829,13.647204687675522 53.274794316911404,13.733490371633078 54.05491086245391,13.621893824504788 54.058530394772404,13.61925672059061 54.140186775460364,11.976967437813608 54.10988112139595,10.680298483308809 54.135426175010736,10.680335868325267 54.13637742873316,10.605511655344815 54.13689951446517,10.530701256365736 54.138373318280884,10.530667188151796 54.137421741520896,9.149422301564272 54.14705937376552,9.149425629181234 54.14801139115367,9.07455939123857 54.14758172950815,8.99969379936479 54.148104103961266,8.999693806183805 54.14715207160958,7.468686704722542 54.138365533797554,7.500888739414693 53.239273397975865,6.004760925069468 53.21197782662703,6.004781950988075 53.21166770608252,5.994640922848319 53.21199287188401,5.933772117275433 52.31403285052757,5.933615765809156 52.31403780479302))',\n",
       "               'format': 'SAFE',\n",
       "               'gmlfootprint': '<gml:Polygon srsName=\"http://www.opengis.net/gml/srs/epsg.xml#4326\" xmlns:gml=\"http://www.opengis.net/gml\">\\n   <gml:outerBoundaryIs>\\n      <gml:LinearRing>\\n         <gml:coordinates>52.31403780479302,5.933615765809156 52.26905825882812,5.9307234852508826 52.226225391291045,5.927820031395214 52.22622067850045,5.927968937642912 51.32806731121396,5.870215764132042 51.27892518278613,7.442095184333064 51.35153861060136,7.449316928500434 51.35482321981505,7.633943954138294 51.362769188761256,9.069950651279648 51.35310616658424,10.506317268777321 51.32452335478603,12.011254122594853 52.22166932163063,12.071774493973688 52.17548471916956,13.531032170485291 52.25263984456077,13.539120711237327 52.25515074878083,13.678544065009483 53.15353376744384,13.651048010503407 53.153535093377016,13.651120770782791 53.196638647570126,13.649728735640895 53.24196354764364,13.648341514492438 53.24196215182829,13.648265006909883 53.274794316911404,13.647204687675522 54.05491086245391,13.733490371633078 54.058530394772404,13.621893824504788 54.140186775460364,13.61925672059061 54.10988112139595,11.976967437813608 54.135426175010736,10.680298483308809 54.13637742873316,10.680335868325267 54.13689951446517,10.605511655344815 54.138373318280884,10.530701256365736 54.137421741520896,10.530667188151796 54.14705937376552,9.149422301564272 54.14801139115367,9.149425629181234 54.14758172950815,9.07455939123857 54.148104103961266,8.99969379936479 54.14715207160958,8.999693806183805 54.138365533797554,7.468686704722542 53.239273397975865,7.500888739414693 53.21197782662703,6.004760925069468 53.21166770608252,6.004781950988075 53.21199287188401,5.994640922848319 52.31403285052757,5.933772117275433 52.31403780479302,5.933615765809156</gml:coordinates>\\n      </gml:LinearRing>\\n   </gml:outerBoundaryIs>\\n</gml:Polygon>',\n",
       "               'identifier': 'S2A_OPER_PRD_MSIL1C_PDMC_20160718T095153_R108_V20160604T103026_20160604T103026',\n",
       "               'ingestiondate': datetime.datetime(2016, 7, 18, 10, 44, 55, 144000),\n",
       "               'instrumentname': 'Multi-Spectral Instrument',\n",
       "               'instrumentshortname': 'MSI',\n",
       "               'link': \"https://scihub.copernicus.eu/dhus/odata/v1/Products('5c847bcf-f57a-4cb2-ae52-064aef8ba6ea')/$value\",\n",
       "               'link_alternative': \"https://scihub.copernicus.eu/dhus/odata/v1/Products('5c847bcf-f57a-4cb2-ae52-064aef8ba6ea')/\",\n",
       "               'link_icon': \"https://scihub.copernicus.eu/dhus/odata/v1/Products('5c847bcf-f57a-4cb2-ae52-064aef8ba6ea')/Products('Quicklook')/$value\",\n",
       "               'orbitdirection': 'DESCENDING',\n",
       "               'orbitnumber': 4967,\n",
       "               'platformidentifier': '2015-000A',\n",
       "               'platformname': 'Sentinel-2',\n",
       "               'platformserialidentifier': 'Sentinel-2A',\n",
       "               'processed': 'F',\n",
       "               'processingbaseline': '02.02',\n",
       "               'processinglevel': 'Level-1C',\n",
       "               'producttype': 'S2MSI1C',\n",
       "               'relativeorbitnumber': 108,\n",
       "               's2datatakeid': 'GS2A_20160604T103032_004967_N02.02',\n",
       "               'sensoroperationalmode': 'INS-NOBS',\n",
       "               'size': '6.21 GB',\n",
       "               'summary': 'Date: 2016-06-04T10:30:26Z, Instrument: MSI, Mode: , Satellite: Sentinel-2, Size: 6.21 GB',\n",
       "               'title': 'S2A_OPER_PRD_MSIL1C_PDMC_20160718T095153_R108_V20160604T103026_20160604T103026',\n",
       "               'uuid': '5c847bcf-f57a-4cb2-ae52-064aef8ba6ea'}),\n",
       "             ('fecc8b23-334f-432f-b1e8-7d6f5dbcb819',\n",
       "              {'beginposition': datetime.datetime(2016, 6, 24, 10, 30, 23),\n",
       "               'cloudcoverpercentage': 29.470666666666666,\n",
       "               'endposition': datetime.datetime(2016, 6, 24, 10, 30, 23),\n",
       "               'filename': 'S2A_OPER_PRD_MSIL1C_PDMC_20160624T173545_R108_V20160624T103023_20160624T103023.SAFE',\n",
       "               'footprint': 'POLYGON ((5.768514805040419 49.61961011420237,5.76603610582172 49.57468117064941,5.763545147601364 49.53174440621896,5.763667108760206 49.53174069023494,5.71408665774242 48.63304460468163,7.200980618578432 48.5883487810417,7.206138543130609 48.64878448309814,7.708337912131061 48.657376206712975,9.066139888020086 48.66460174366902,10.4242909875692 48.65581480408966,11.847478451946776 48.62982157570405,11.901972660129278 49.57135020997286,11.956634167396428 50.46945531986655,12.017025008525813 51.41234265506691,10.579515067442992 51.43967797551486,10.579544021469632 51.44054116582309,10.50920791123296 51.4410149183699,10.438876794404743 51.44235231685392,10.438850408836755 51.441488815004725,9.140455380717382 51.45023422258088,9.140457957691327 51.451098078258774,9.070084949391758 51.45070820629918,8.9997121758513 51.45118220579359,8.999712181132086 51.45031833566943,7.702116061954055 51.44312955187337,7.702092127176296 51.44399790803582,7.631322260372732 51.44273734868615,7.560547850091258 51.44234525292824,7.560574385907079 51.44147718106602,6.123708231698877 51.415883589517534,6.1241822803694195 51.40812039862533,5.875717288603333 51.41589769639834,5.820906014929664 50.518109466855485,5.82076894501528 50.51811370350305,5.818145504049863 50.472893327742106,5.81551011356698 50.429726614086306,5.815640971071575 50.429722574568395,5.768642413614264 49.61960622110076,5.768514805040419 49.61961011420237))',\n",
       "               'format': 'SAFE',\n",
       "               'gmlfootprint': '<gml:Polygon srsName=\"http://www.opengis.net/gml/srs/epsg.xml#4326\" xmlns:gml=\"http://www.opengis.net/gml\">\\n   <gml:outerBoundaryIs>\\n      <gml:LinearRing>\\n         <gml:coordinates>49.61961011420237,5.768514805040419 49.57468117064941,5.76603610582172 49.53174440621896,5.763545147601364 49.53174069023494,5.763667108760206 48.63304460468163,5.71408665774242 48.5883487810417,7.200980618578432 48.64878448309814,7.206138543130609 48.657376206712975,7.708337912131061 48.66460174366902,9.066139888020086 48.65581480408966,10.4242909875692 48.62982157570405,11.847478451946776 49.57135020997286,11.901972660129278 50.46945531986655,11.956634167396428 51.41234265506691,12.017025008525813 51.43967797551486,10.579515067442992 51.44054116582309,10.579544021469632 51.4410149183699,10.50920791123296 51.44235231685392,10.438876794404743 51.441488815004725,10.438850408836755 51.45023422258088,9.140455380717382 51.451098078258774,9.140457957691327 51.45070820629918,9.070084949391758 51.45118220579359,8.9997121758513 51.45031833566943,8.999712181132086 51.44312955187337,7.702116061954055 51.44399790803582,7.702092127176296 51.44273734868615,7.631322260372732 51.44234525292824,7.560547850091258 51.44147718106602,7.560574385907079 51.415883589517534,6.123708231698877 51.40812039862533,6.1241822803694195 51.41589769639834,5.875717288603333 50.518109466855485,5.820906014929664 50.51811370350305,5.82076894501528 50.472893327742106,5.818145504049863 50.429726614086306,5.81551011356698 50.429722574568395,5.815640971071575 49.61960622110076,5.768642413614264 49.61961011420237,5.768514805040419</gml:coordinates>\\n      </gml:LinearRing>\\n   </gml:outerBoundaryIs>\\n</gml:Polygon>',\n",
       "               'identifier': 'S2A_OPER_PRD_MSIL1C_PDMC_20160624T173545_R108_V20160624T103023_20160624T103023',\n",
       "               'ingestiondate': datetime.datetime(2016, 6, 24, 17, 49, 26, 212000),\n",
       "               'instrumentname': 'Multi-Spectral Instrument',\n",
       "               'instrumentshortname': 'MSI',\n",
       "               'link': \"https://scihub.copernicus.eu/dhus/odata/v1/Products('fecc8b23-334f-432f-b1e8-7d6f5dbcb819')/$value\",\n",
       "               'link_alternative': \"https://scihub.copernicus.eu/dhus/odata/v1/Products('fecc8b23-334f-432f-b1e8-7d6f5dbcb819')/\",\n",
       "               'link_icon': \"https://scihub.copernicus.eu/dhus/odata/v1/Products('fecc8b23-334f-432f-b1e8-7d6f5dbcb819')/Products('Quicklook')/$value\",\n",
       "               'orbitdirection': 'DESCENDING',\n",
       "               'orbitnumber': 5253,\n",
       "               'platformidentifier': '2015-000A',\n",
       "               'platformname': 'Sentinel-2',\n",
       "               'platformserialidentifier': 'Sentinel-2A',\n",
       "               'processed': 'F',\n",
       "               'processingbaseline': '02.04',\n",
       "               'processinglevel': 'Level-1C',\n",
       "               'producttype': 'S2MSI1C',\n",
       "               'relativeorbitnumber': 108,\n",
       "               's2datatakeid': 'GS2A_20160624T103022_005253_N02.04',\n",
       "               'sensoroperationalmode': 'INS-NOBS',\n",
       "               'size': '6.66 GB',\n",
       "               'summary': 'Date: 2016-06-24T10:30:23Z, Instrument: MSI, Mode: , Satellite: Sentinel-2, Size: 6.66 GB',\n",
       "               'title': 'S2A_OPER_PRD_MSIL1C_PDMC_20160624T173545_R108_V20160624T103023_20160624T103023',\n",
       "               'uuid': 'fecc8b23-334f-432f-b1e8-7d6f5dbcb819'}),\n",
       "             ('317db6d1-1653-4947-b067-d77dd1db017d',\n",
       "              {'beginposition': datetime.datetime(2016, 6, 7, 10, 40, 26),\n",
       "               'cloudcoverpercentage': 24.55296666666667,\n",
       "               'endposition': datetime.datetime(2016, 6, 7, 10, 40, 26),\n",
       "               'filename': 'S2A_OPER_PRD_MSIL1C_PDMC_20160608T024107_R008_V20160607T104026_20160607T104026.SAFE',\n",
       "               'footprint': 'POLYGON ((2.9997231710148244 49.607739920105956,2.999728378048824 48.66503141156509,4.424290987569203 48.65581480408966,5.780784216609892 48.63103968542923,7.200980618578432 48.5883487810417,7.206138543130609 48.64878448309814,7.708337912131073 48.657376206712975,9.132551327123652 48.66495515183609,9.135092346843528 49.60766110298426,9.137641415079765 50.50693396171013,9.140457957691327 51.451098078258774,7.702116061954055 51.44312955187337,7.702092127176296 51.44399790803582,7.631322260372732 51.44273734868615,7.560547850091258 51.44234525292824,7.560574385907079 51.44147718106602,6.123708231698877 51.415883589517534,6.1241822803694195 51.408120398625336,6.016969519888855 51.411476306262045,6.017025008525815 51.41234265506691,5.946366439251231 51.413686280302684,5.875717288603333 51.41589769639834,5.875664359225905 51.41503073292773,4.579515067442993 51.43967797551486,4.579544021469633 51.44054116582309,4.5092079112329495 51.4410149183699,4.438876794404744 51.44235231685392,4.438850408836756 51.441488815004725,2.999712175851301 51.45118220579359,2.9997179474867726 50.507015316500315,2.9997231710148244 49.607739920105956))',\n",
       "               'format': 'SAFE',\n",
       "               'gmlfootprint': '<gml:Polygon srsName=\"http://www.opengis.net/gml/srs/epsg.xml#4326\" xmlns:gml=\"http://www.opengis.net/gml\">\\n   <gml:outerBoundaryIs>\\n      <gml:LinearRing>\\n         <gml:coordinates>49.607739920105956,2.9997231710148244 48.66503141156509,2.999728378048824 48.65581480408966,4.424290987569203 48.63103968542923,5.780784216609892 48.5883487810417,7.200980618578432 48.64878448309814,7.206138543130609 48.657376206712975,7.708337912131073 48.66495515183609,9.132551327123652 49.60766110298426,9.135092346843528 50.50693396171013,9.137641415079765 51.451098078258774,9.140457957691327 51.44312955187337,7.702116061954055 51.44399790803582,7.702092127176296 51.44273734868615,7.631322260372732 51.44234525292824,7.560547850091258 51.44147718106602,7.560574385907079 51.415883589517534,6.123708231698877 51.408120398625336,6.1241822803694195 51.411476306262045,6.016969519888855 51.41234265506691,6.017025008525815 51.413686280302684,5.946366439251231 51.41589769639834,5.875717288603333 51.41503073292773,5.875664359225905 51.43967797551486,4.579515067442993 51.44054116582309,4.579544021469633 51.4410149183699,4.5092079112329495 51.44235231685392,4.438876794404744 51.441488815004725,4.438850408836756 51.45118220579359,2.999712175851301 50.507015316500315,2.9997179474867726 49.607739920105956,2.9997231710148244</gml:coordinates>\\n      </gml:LinearRing>\\n   </gml:outerBoundaryIs>\\n</gml:Polygon>',\n",
       "               'identifier': 'S2A_OPER_PRD_MSIL1C_PDMC_20160608T024107_R008_V20160607T104026_20160607T104026',\n",
       "               'ingestiondate': datetime.datetime(2016, 6, 8, 3, 3, 29, 130000),\n",
       "               'instrumentname': 'Multi-Spectral Instrument',\n",
       "               'instrumentshortname': 'MSI',\n",
       "               'link': \"https://scihub.copernicus.eu/dhus/odata/v1/Products('317db6d1-1653-4947-b067-d77dd1db017d')/$value\",\n",
       "               'link_alternative': \"https://scihub.copernicus.eu/dhus/odata/v1/Products('317db6d1-1653-4947-b067-d77dd1db017d')/\",\n",
       "               'link_icon': \"https://scihub.copernicus.eu/dhus/odata/v1/Products('317db6d1-1653-4947-b067-d77dd1db017d')/Products('Quicklook')/$value\",\n",
       "               'orbitdirection': 'DESCENDING',\n",
       "               'orbitnumber': 5010,\n",
       "               'platformidentifier': '2015-000A',\n",
       "               'platformname': 'Sentinel-2',\n",
       "               'platformserialidentifier': 'Sentinel-2A',\n",
       "               'processed': 'F',\n",
       "               'processingbaseline': '02.02',\n",
       "               'processinglevel': 'Level-1C',\n",
       "               'producttype': 'S2MSI1C',\n",
       "               'relativeorbitnumber': 8,\n",
       "               's2datatakeid': 'GS2A_20160607T104032_005010_N02.02',\n",
       "               'sensoroperationalmode': 'INS-NOBS',\n",
       "               'size': '7.00 GB',\n",
       "               'summary': 'Date: 2016-06-07T10:40:26Z, Instrument: MSI, Mode: , Satellite: Sentinel-2, Size: 7.00 GB',\n",
       "               'title': 'S2A_OPER_PRD_MSIL1C_PDMC_20160608T024107_R008_V20160607T104026_20160607T104026',\n",
       "               'uuid': '317db6d1-1653-4947-b067-d77dd1db017d'}),\n",
       "             ('b6b89998-39d8-4786-ba1d-e31d4405b9fc',\n",
       "              {'beginposition': datetime.datetime(2016, 6, 7, 10, 40, 26),\n",
       "               'cloudcoverpercentage': 11.668766666666667,\n",
       "               'endposition': datetime.datetime(2016, 6, 7, 10, 40, 26),\n",
       "               'filename': 'S2A_OPER_PRD_MSIL1C_PDMC_20160608T023812_R008_V20160607T104026_20160607T104026.SAFE',\n",
       "               'footprint': 'POLYGON ((4.467884152957832 52.34135509726958,4.466435035195151 52.296329963766034,4.464980367164797 52.25345680664421,4.465055131756422 52.25345536920179,4.436120625123461 51.354439390266904,5.940730468616289 51.325862789277174,7.442095184333064 51.27892518278613,7.449316928500434 51.35153861060136,7.633943954138284 51.35482321981505,9.069950651279658 51.362769188761256,10.576518664211576 51.35263389325745,10.609793723566598 52.29446284170239,10.643258743109978 53.19295793294807,10.680335868325267 54.13637742873316,9.149422301564272 54.14705937376552,9.149425629181234 54.14801139115367,9.074559391238568 54.14758172950815,8.99969379936479 54.148104103961266,8.999693806183805 54.14715207160958,7.619287624914551 54.139229841140434,7.619256720590609 54.140186775460364,7.543978007824918 54.13879763491648,7.468686704722542 54.138365533797554,7.468720967882915 54.137408894307676,5.976967437813609 54.10988112139595,4.530701256365736 54.138373318280884,4.498545224540177 53.24020669788288,4.498460428340929 53.24020834947074,4.496922674812918 53.194886429111364,4.495379581512258 53.15178549855093,4.495460225293768 53.15178392963458,4.467962667592803 52.34135358595493,4.467884152957832 52.34135509726958))',\n",
       "               'format': 'SAFE',\n",
       "               'gmlfootprint': '<gml:Polygon srsName=\"http://www.opengis.net/gml/srs/epsg.xml#4326\" xmlns:gml=\"http://www.opengis.net/gml\">\\n   <gml:outerBoundaryIs>\\n      <gml:LinearRing>\\n         <gml:coordinates>52.34135509726958,4.467884152957832 52.296329963766034,4.466435035195151 52.25345680664421,4.464980367164797 52.25345536920179,4.465055131756422 51.354439390266904,4.436120625123461 51.325862789277174,5.940730468616289 51.27892518278613,7.442095184333064 51.35153861060136,7.449316928500434 51.35482321981505,7.633943954138284 51.362769188761256,9.069950651279658 51.35263389325745,10.576518664211576 52.29446284170239,10.609793723566598 53.19295793294807,10.643258743109978 54.13637742873316,10.680335868325267 54.14705937376552,9.149422301564272 54.14801139115367,9.149425629181234 54.14758172950815,9.074559391238568 54.148104103961266,8.99969379936479 54.14715207160958,8.999693806183805 54.139229841140434,7.619287624914551 54.140186775460364,7.619256720590609 54.13879763491648,7.543978007824918 54.138365533797554,7.468686704722542 54.137408894307676,7.468720967882915 54.10988112139595,5.976967437813609 54.138373318280884,4.530701256365736 53.24020669788288,4.498545224540177 53.24020834947074,4.498460428340929 53.194886429111364,4.496922674812918 53.15178549855093,4.495379581512258 53.15178392963458,4.495460225293768 52.34135358595493,4.467962667592803 52.34135509726958,4.467884152957832</gml:coordinates>\\n      </gml:LinearRing>\\n   </gml:outerBoundaryIs>\\n</gml:Polygon>',\n",
       "               'identifier': 'S2A_OPER_PRD_MSIL1C_PDMC_20160608T023812_R008_V20160607T104026_20160607T104026',\n",
       "               'ingestiondate': datetime.datetime(2016, 6, 8, 2, 53, 28, 788000),\n",
       "               'instrumentname': 'Multi-Spectral Instrument',\n",
       "               'instrumentshortname': 'MSI',\n",
       "               'link': \"https://scihub.copernicus.eu/dhus/odata/v1/Products('b6b89998-39d8-4786-ba1d-e31d4405b9fc')/$value\",\n",
       "               'link_alternative': \"https://scihub.copernicus.eu/dhus/odata/v1/Products('b6b89998-39d8-4786-ba1d-e31d4405b9fc')/\",\n",
       "               'link_icon': \"https://scihub.copernicus.eu/dhus/odata/v1/Products('b6b89998-39d8-4786-ba1d-e31d4405b9fc')/Products('Quicklook')/$value\",\n",
       "               'orbitdirection': 'DESCENDING',\n",
       "               'orbitnumber': 5010,\n",
       "               'platformidentifier': '2015-000A',\n",
       "               'platformname': 'Sentinel-2',\n",
       "               'platformserialidentifier': 'Sentinel-2A',\n",
       "               'processed': 'F',\n",
       "               'processingbaseline': '02.02',\n",
       "               'processinglevel': 'Level-1C',\n",
       "               'producttype': 'S2MSI1C',\n",
       "               'relativeorbitnumber': 8,\n",
       "               's2datatakeid': 'GS2A_20160607T104032_005010_N02.02',\n",
       "               'sensoroperationalmode': 'INS-NOBS',\n",
       "               'size': '7.30 GB',\n",
       "               'summary': 'Date: 2016-06-07T10:40:26Z, Instrument: MSI, Mode: , Satellite: Sentinel-2, Size: 7.30 GB',\n",
       "               'title': 'S2A_OPER_PRD_MSIL1C_PDMC_20160608T023812_R008_V20160607T104026_20160607T104026',\n",
       "               'uuid': 'b6b89998-39d8-4786-ba1d-e31d4405b9fc'}),\n",
       "             ('12884691-b14c-44d1-bada-3f2c51ab06f7',\n",
       "              {'beginposition': datetime.datetime(2016, 6, 6, 11, 6, 24),\n",
       "               'cloudcoverpercentage': 7.186512500000001,\n",
       "               'endposition': datetime.datetime(2016, 6, 6, 11, 6, 24),\n",
       "               'filename': 'S2A_OPER_PRD_MSIL1C_PDMC_20160606T223859_R137_V20160606T110624_20160606T110624.SAFE',\n",
       "               'footprint': 'POLYGON ((-4.468471097411705 52.34134780285317,-4.436694879458469 51.354432348394134,-2.930049348720341 51.362769188761256,-1.4936827312226686 51.35310616658424,-0.0592695313837159 51.325862789277174,1.442095184333063 51.27892518278613,1.449316928500434 51.35153861060136,1.6339439541382934 51.35482321981505,3.140188798644377 51.36315784303349,3.143149245994093 52.30534606530531,3.146126691320574 53.2041989748602,3.149425629181234 54.14801139115367,1.619287624914553 54.139229841140434,1.619256720590611 54.140186775460364,1.54397800782492 54.13879763491648,1.468686704722542 54.138365533797554,1.4687209678829163 54.137408894307676,-0.023032562186391 54.10988112139595,-1.3197015166911914 54.135426175010736,-1.319664131674732 54.13637742873316,-1.394488344655179 54.13689951446517,-1.469298743634264 54.138373318280884,-1.4693328118482054 54.137421741520896,-3.00030620063521 54.148104103961266,-3.000299440474268 53.204288554000854,-3.000293638790356 52.3495810873001,-4.468471097411705 52.34134780285317))',\n",
       "               'format': 'SAFE',\n",
       "               'gmlfootprint': '<gml:Polygon srsName=\"http://www.opengis.net/gml/srs/epsg.xml#4326\" xmlns:gml=\"http://www.opengis.net/gml\">\\n   <gml:outerBoundaryIs>\\n      <gml:LinearRing>\\n         <gml:coordinates>52.34134780285317,-4.468471097411705 51.354432348394134,-4.436694879458469 51.362769188761256,-2.930049348720341 51.35310616658424,-1.4936827312226686 51.325862789277174,-0.0592695313837159 51.27892518278613,1.442095184333063 51.35153861060136,1.449316928500434 51.35482321981505,1.6339439541382934 51.36315784303349,3.140188798644377 52.30534606530531,3.143149245994093 53.2041989748602,3.146126691320574 54.14801139115367,3.149425629181234 54.139229841140434,1.619287624914553 54.140186775460364,1.619256720590611 54.13879763491648,1.54397800782492 54.138365533797554,1.468686704722542 54.137408894307676,1.4687209678829163 54.10988112139595,-0.023032562186391 54.135426175010736,-1.3197015166911914 54.13637742873316,-1.319664131674732 54.13689951446517,-1.394488344655179 54.138373318280884,-1.469298743634264 54.137421741520896,-1.4693328118482054 54.148104103961266,-3.00030620063521 53.204288554000854,-3.000299440474268 52.3495810873001,-3.000293638790356 52.34134780285317,-4.468471097411705</gml:coordinates>\\n      </gml:LinearRing>\\n   </gml:outerBoundaryIs>\\n</gml:Polygon>',\n",
       "               'identifier': 'S2A_OPER_PRD_MSIL1C_PDMC_20160606T223859_R137_V20160606T110624_20160606T110624',\n",
       "               'ingestiondate': datetime.datetime(2016, 6, 6, 22, 57, 37, 386000),\n",
       "               'instrumentname': 'Multi-Spectral Instrument',\n",
       "               'instrumentshortname': 'MSI',\n",
       "               'link': \"https://scihub.copernicus.eu/dhus/odata/v1/Products('12884691-b14c-44d1-bada-3f2c51ab06f7')/$value\",\n",
       "               'link_alternative': \"https://scihub.copernicus.eu/dhus/odata/v1/Products('12884691-b14c-44d1-bada-3f2c51ab06f7')/\",\n",
       "               'link_icon': \"https://scihub.copernicus.eu/dhus/odata/v1/Products('12884691-b14c-44d1-bada-3f2c51ab06f7')/Products('Quicklook')/$value\",\n",
       "               'orbitdirection': 'ASCENDING',\n",
       "               'orbitnumber': 4996,\n",
       "               'platformidentifier': '2015-000A',\n",
       "               'platformname': 'Sentinel-2',\n",
       "               'platformserialidentifier': 'Sentinel-2A',\n",
       "               'processed': 'F',\n",
       "               'processingbaseline': '02.02',\n",
       "               'processinglevel': 'Level-1C',\n",
       "               'producttype': 'S2MSI1C',\n",
       "               'relativeorbitnumber': 137,\n",
       "               's2datatakeid': 'GS2A_20160606T110622_004996_N02.02',\n",
       "               'sensoroperationalmode': 'INS-NOBS',\n",
       "               'size': '7.20 GB',\n",
       "               'summary': 'Date: 2016-06-06T11:06:24Z, Instrument: MSI, Mode: , Satellite: Sentinel-2, Size: 7.20 GB',\n",
       "               'title': 'S2A_OPER_PRD_MSIL1C_PDMC_20160606T223859_R137_V20160606T110624_20160606T110624',\n",
       "               'uuid': '12884691-b14c-44d1-bada-3f2c51ab06f7'}),\n",
       "             ('f6de91d8-2e64-4fed-b075-8d943a9a17fe',\n",
       "              {'beginposition': datetime.datetime(2016, 6, 6, 11, 6, 24),\n",
       "               'cloudcoverpercentage': 7.186512500000001,\n",
       "               'endposition': datetime.datetime(2016, 6, 6, 11, 6, 24),\n",
       "               'filename': 'S2A_OPER_PRD_MSIL1C_PDMC_20160606T223655_R137_V20160606T110624_20160606T110624.SAFE',\n",
       "               'footprint': 'POLYGON ((-4.468471097411705 52.34134780285317,-4.436694879458469 51.354432348394134,-2.930049348720341 51.362769188761256,-1.4936827312226686 51.35310616658424,-0.0592695313837159 51.325862789277174,1.442095184333063 51.27892518278613,1.449316928500434 51.35153861060136,1.6339439541382934 51.35482321981505,3.140188798644377 51.36315784303349,3.143149245994093 52.30534606530531,3.146126691320574 53.2041989748602,3.149425629181234 54.14801139115367,1.619287624914553 54.139229841140434,1.619256720590611 54.140186775460364,1.54397800782492 54.13879763491648,1.468686704722542 54.138365533797554,1.4687209678829163 54.137408894307676,-0.023032562186391 54.10988112139595,-1.3197015166911914 54.135426175010736,-1.319664131674732 54.13637742873316,-1.394488344655179 54.13689951446517,-1.469298743634264 54.138373318280884,-1.4693328118482054 54.137421741520896,-3.00030620063521 54.148104103961266,-3.000299440474268 53.204288554000854,-3.000293638790356 52.3495810873001,-4.468471097411705 52.34134780285317))',\n",
       "               'format': 'SAFE',\n",
       "               'gmlfootprint': '<gml:Polygon srsName=\"http://www.opengis.net/gml/srs/epsg.xml#4326\" xmlns:gml=\"http://www.opengis.net/gml\">\\n   <gml:outerBoundaryIs>\\n      <gml:LinearRing>\\n         <gml:coordinates>52.34134780285317,-4.468471097411705 51.354432348394134,-4.436694879458469 51.362769188761256,-2.930049348720341 51.35310616658424,-1.4936827312226686 51.325862789277174,-0.0592695313837159 51.27892518278613,1.442095184333063 51.35153861060136,1.449316928500434 51.35482321981505,1.6339439541382934 51.36315784303349,3.140188798644377 52.30534606530531,3.143149245994093 53.2041989748602,3.146126691320574 54.14801139115367,3.149425629181234 54.139229841140434,1.619287624914553 54.140186775460364,1.619256720590611 54.13879763491648,1.54397800782492 54.138365533797554,1.468686704722542 54.137408894307676,1.4687209678829163 54.10988112139595,-0.023032562186391 54.135426175010736,-1.3197015166911914 54.13637742873316,-1.319664131674732 54.13689951446517,-1.394488344655179 54.138373318280884,-1.469298743634264 54.137421741520896,-1.4693328118482054 54.148104103961266,-3.00030620063521 53.204288554000854,-3.000299440474268 52.3495810873001,-3.000293638790356 52.34134780285317,-4.468471097411705</gml:coordinates>\\n      </gml:LinearRing>\\n   </gml:outerBoundaryIs>\\n</gml:Polygon>',\n",
       "               'identifier': 'S2A_OPER_PRD_MSIL1C_PDMC_20160606T223655_R137_V20160606T110624_20160606T110624',\n",
       "               'ingestiondate': datetime.datetime(2016, 6, 6, 22, 57, 33, 251000),\n",
       "               'instrumentname': 'Multi-Spectral Instrument',\n",
       "               'instrumentshortname': 'MSI',\n",
       "               'link': \"https://scihub.copernicus.eu/dhus/odata/v1/Products('f6de91d8-2e64-4fed-b075-8d943a9a17fe')/$value\",\n",
       "               'link_alternative': \"https://scihub.copernicus.eu/dhus/odata/v1/Products('f6de91d8-2e64-4fed-b075-8d943a9a17fe')/\",\n",
       "               'link_icon': \"https://scihub.copernicus.eu/dhus/odata/v1/Products('f6de91d8-2e64-4fed-b075-8d943a9a17fe')/Products('Quicklook')/$value\",\n",
       "               'orbitdirection': 'ASCENDING',\n",
       "               'orbitnumber': 4996,\n",
       "               'platformidentifier': '2015-000A',\n",
       "               'platformname': 'Sentinel-2',\n",
       "               'platformserialidentifier': 'Sentinel-2A',\n",
       "               'processed': 'F',\n",
       "               'processingbaseline': '02.02',\n",
       "               'processinglevel': 'Level-1C',\n",
       "               'producttype': 'S2MSI1C',\n",
       "               'relativeorbitnumber': 137,\n",
       "               's2datatakeid': 'GS2A_20160606T110622_004996_N02.02',\n",
       "               'sensoroperationalmode': 'INS-NOBS',\n",
       "               'size': '7.20 GB',\n",
       "               'summary': 'Date: 2016-06-06T11:06:24Z, Instrument: MSI, Mode: , Satellite: Sentinel-2, Size: 7.20 GB',\n",
       "               'title': 'S2A_OPER_PRD_MSIL1C_PDMC_20160606T223655_R137_V20160606T110624_20160606T110624',\n",
       "               'uuid': 'f6de91d8-2e64-4fed-b075-8d943a9a17fe'})])"
      ]
     },
     "execution_count": 54,
     "metadata": {},
     "output_type": "execute_result"
    }
   ],
   "source": [
    "# queried data is stored in dictionary\n",
    "products"
   ]
  },
  {
   "cell_type": "code",
   "execution_count": 51,
   "metadata": {},
   "outputs": [
    {
     "name": "stdout",
     "output_type": "stream",
     "text": [
      "S2A_OPER_PRD_MSIL1C_PDMC_20160718T095153_R108_V20160604T103026_20160604T103026.zip will be downloaded ( 6.21 GB )...\n",
      "S2A_OPER_PRD_MSIL1C_PDMC_20160624T173545_R108_V20160624T103023_20160624T103023.zip already exists!\n",
      "S2A_OPER_PRD_MSIL1C_PDMC_20160608T024107_R008_V20160607T104026_20160607T104026.zip will be downloaded ( 7.0 GB )...\n",
      "S2A_OPER_PRD_MSIL1C_PDMC_20160608T023812_R008_V20160607T104026_20160607T104026.zip will be downloaded ( 7.3 GB )...\n",
      "S2A_OPER_PRD_MSIL1C_PDMC_20160606T223859_R137_V20160606T110624_20160606T110624.zip will be downloaded ( 7.2 GB )...\n",
      "S2A_OPER_PRD_MSIL1C_PDMC_20160606T223655_R137_V20160606T110624_20160606T110624.zip will be downloaded ( 7.2 GB )...\n",
      "TO SUMMARISE:\n",
      "1 file(s) already exist(s). The file(s) will be checked and updated if necessary.\n",
      "5 file(s), or a total of 34.910000000000004 GB, will be downloaded.\n"
     ]
    }
   ],
   "source": [
    "no_action = 0\n",
    "action = 0\n",
    "filesize = 0\n",
    "for k, v in products.items():\n",
    "    filename = v['filename']\n",
    "    size = v['size']\n",
    "    size = float(size[:-3])\n",
    "    zipfile = filename[:-5] + '.zip'\n",
    "    folder = download_dir + \"/\" + zipfile\n",
    "    if os.path.exists(folder):\n",
    "        no_action = no_action + 1\n",
    "        print(zipfile, \"already exists!\")\n",
    "    else:\n",
    "        action = action + 1\n",
    "        filesize = filesize + size\n",
    "        print(zipfile, \"will be downloaded (\", size, \"GB )...\")\n",
    "print(\"TO SUMMARISE:\")\n",
    "print(no_action, \"file(s) already exist(s). The file(s) will be checked and updated if necessary.\")\n",
    "print(action, \"file(s), or a total of\", filesize, \"GB, will be downloaded.\")"
   ]
  },
  {
   "cell_type": "code",
   "execution_count": 21,
   "metadata": {
    "scrolled": false
   },
   "outputs": [
    {
     "name": "stderr",
     "output_type": "stream",
     "text": [
      "Will download 1 products\n",
      "Downloading fecc8b23-334f-432f-b1e8-7d6f5dbcb819 to C:/WERKMAP/Anaconda/sentinelsat/downloaded_datasets\\S2A_OPER_PRD_MSIL1C_PDMC_20160624T173545_R108_V20160624T103023_20160624T103023.zip\n",
      "MD5 checksumming: 100%|███████████████████| 7.13G/7.13G [01:38<00:00, 72.5MB/s]\n",
      "C:/WERKMAP/Anaconda/sentinelsat/downloaded_datasets\\S2A_OPER_PRD_MSIL1C_PDMC_20160624T173545_R108_V20160624T103023_20160624T103023.zip was already downloaded.\n",
      "1/1 products downloaded\n"
     ]
    },
    {
     "data": {
      "text/plain": [
       "(OrderedDict([('fecc8b23-334f-432f-b1e8-7d6f5dbcb819',\n",
       "               {'date': datetime.datetime(2016, 6, 24, 10, 30, 23),\n",
       "                'downloaded_bytes': 0,\n",
       "                'footprint': 'POLYGON((5.768514805040419 49.61961011420237,5.76603610582172 49.57468117064941,5.763545147601364 49.53174440621896,5.763667108760206 49.53174069023494,5.71408665774242 48.63304460468163,7.200980618578432 48.5883487810417,7.206138543130609 48.64878448309814,7.708337912131061 48.657376206712975,9.066139888020086 48.66460174366902,10.4242909875692 48.65581480408966,11.847478451946776 48.62982157570405,11.901972660129278 49.57135020997286,11.956634167396428 50.46945531986655,12.017025008525813 51.41234265506691,10.579515067442992 51.43967797551486,10.579544021469632 51.44054116582309,10.50920791123296 51.4410149183699,10.438876794404743 51.44235231685392,10.438850408836755 51.441488815004725,9.140455380717382 51.45023422258088,9.140457957691327 51.451098078258774,9.070084949391758 51.45070820629918,8.9997121758513 51.45118220579359,8.999712181132086 51.45031833566943,7.702116061954055 51.44312955187337,7.702092127176296 51.44399790803582,7.631322260372732 51.44273734868615,7.560547850091258 51.44234525292824,7.560574385907079 51.44147718106602,6.123708231698877 51.415883589517534,6.1241822803694195 51.40812039862533,5.875717288603333 51.41589769639834,5.820906014929664 50.518109466855485,5.82076894501528 50.51811370350305,5.818145504049863 50.472893327742106,5.81551011356698 50.429726614086306,5.815640971071575 50.429722574568395,5.768642413614264 49.61960622110076,5.768514805040419 49.61961011420237))',\n",
       "                'id': 'fecc8b23-334f-432f-b1e8-7d6f5dbcb819',\n",
       "                'md5': '51399727D76CAEFA1329A8DF6B7ACC32',\n",
       "                'path': 'C:/WERKMAP/Anaconda/sentinelsat/downloaded_datasets\\\\S2A_OPER_PRD_MSIL1C_PDMC_20160624T173545_R108_V20160624T103023_20160624T103023.zip',\n",
       "                'size': 7126446395,\n",
       "                'title': 'S2A_OPER_PRD_MSIL1C_PDMC_20160624T173545_R108_V20160624T103023_20160624T103023',\n",
       "                'url': \"https://scihub.copernicus.eu/dhus/odata/v1/Products('fecc8b23-334f-432f-b1e8-7d6f5dbcb819')/$value\"})]),\n",
       " set())"
      ]
     },
     "execution_count": 21,
     "metadata": {},
     "output_type": "execute_result"
    }
   ],
   "source": [
    "api.download_all(products, directory_path = download_dir, checksum = True, check_existing = True)"
   ]
  },
  {
   "cell_type": "code",
   "execution_count": 58,
   "metadata": {
    "collapsed": true
   },
   "outputs": [],
   "source": [
    "# GeoPandas GeoDataFrame with the metadata of the scenes and the footprints as geometries\n",
    "geopanda_products = api.to_geodataframe(products)"
   ]
  },
  {
   "cell_type": "code",
   "execution_count": 59,
   "metadata": {},
   "outputs": [
    {
     "data": {
      "text/html": [
       "<div>\n",
       "<style>\n",
       "    .dataframe thead tr:only-child th {\n",
       "        text-align: right;\n",
       "    }\n",
       "\n",
       "    .dataframe thead th {\n",
       "        text-align: left;\n",
       "    }\n",
       "\n",
       "    .dataframe tbody tr th {\n",
       "        vertical-align: top;\n",
       "    }\n",
       "</style>\n",
       "<table border=\"1\" class=\"dataframe\">\n",
       "  <thead>\n",
       "    <tr style=\"text-align: right;\">\n",
       "      <th></th>\n",
       "      <th>summary</th>\n",
       "      <th>uuid</th>\n",
       "      <th>filename</th>\n",
       "      <th>format</th>\n",
       "      <th>identifier</th>\n",
       "      <th>instrumentshortname</th>\n",
       "      <th>sensoroperationalmode</th>\n",
       "      <th>instrumentname</th>\n",
       "      <th>s2datatakeid</th>\n",
       "      <th>platformidentifier</th>\n",
       "      <th>...</th>\n",
       "      <th>beginposition</th>\n",
       "      <th>endposition</th>\n",
       "      <th>cloudcoverpercentage</th>\n",
       "      <th>link</th>\n",
       "      <th>link_alternative</th>\n",
       "      <th>link_icon</th>\n",
       "      <th>title</th>\n",
       "      <th>orbitnumber</th>\n",
       "      <th>relativeorbitnumber</th>\n",
       "      <th>geometry</th>\n",
       "    </tr>\n",
       "  </thead>\n",
       "  <tbody>\n",
       "    <tr>\n",
       "      <th>12884691-b14c-44d1-bada-3f2c51ab06f7</th>\n",
       "      <td>Date: 2016-06-06T11:06:24Z, Instrument: MSI, M...</td>\n",
       "      <td>12884691-b14c-44d1-bada-3f2c51ab06f7</td>\n",
       "      <td>S2A_OPER_PRD_MSIL1C_PDMC_20160606T223859_R137_...</td>\n",
       "      <td>SAFE</td>\n",
       "      <td>S2A_OPER_PRD_MSIL1C_PDMC_20160606T223859_R137_...</td>\n",
       "      <td>MSI</td>\n",
       "      <td>INS-NOBS</td>\n",
       "      <td>Multi-Spectral Instrument</td>\n",
       "      <td>GS2A_20160606T110622_004996_N02.02</td>\n",
       "      <td>2015-000A</td>\n",
       "      <td>...</td>\n",
       "      <td>2016-06-06 11:06:24</td>\n",
       "      <td>2016-06-06 11:06:24</td>\n",
       "      <td>7.186513</td>\n",
       "      <td>https://scihub.copernicus.eu/dhus/odata/v1/Pro...</td>\n",
       "      <td>https://scihub.copernicus.eu/dhus/odata/v1/Pro...</td>\n",
       "      <td>https://scihub.copernicus.eu/dhus/odata/v1/Pro...</td>\n",
       "      <td>S2A_OPER_PRD_MSIL1C_PDMC_20160606T223859_R137_...</td>\n",
       "      <td>4996</td>\n",
       "      <td>137</td>\n",
       "      <td>POLYGON ((-4.468471097411705 52.34134780285317...</td>\n",
       "    </tr>\n",
       "    <tr>\n",
       "      <th>317db6d1-1653-4947-b067-d77dd1db017d</th>\n",
       "      <td>Date: 2016-06-07T10:40:26Z, Instrument: MSI, M...</td>\n",
       "      <td>317db6d1-1653-4947-b067-d77dd1db017d</td>\n",
       "      <td>S2A_OPER_PRD_MSIL1C_PDMC_20160608T024107_R008_...</td>\n",
       "      <td>SAFE</td>\n",
       "      <td>S2A_OPER_PRD_MSIL1C_PDMC_20160608T024107_R008_...</td>\n",
       "      <td>MSI</td>\n",
       "      <td>INS-NOBS</td>\n",
       "      <td>Multi-Spectral Instrument</td>\n",
       "      <td>GS2A_20160607T104032_005010_N02.02</td>\n",
       "      <td>2015-000A</td>\n",
       "      <td>...</td>\n",
       "      <td>2016-06-07 10:40:26</td>\n",
       "      <td>2016-06-07 10:40:26</td>\n",
       "      <td>24.552967</td>\n",
       "      <td>https://scihub.copernicus.eu/dhus/odata/v1/Pro...</td>\n",
       "      <td>https://scihub.copernicus.eu/dhus/odata/v1/Pro...</td>\n",
       "      <td>https://scihub.copernicus.eu/dhus/odata/v1/Pro...</td>\n",
       "      <td>S2A_OPER_PRD_MSIL1C_PDMC_20160608T024107_R008_...</td>\n",
       "      <td>5010</td>\n",
       "      <td>8</td>\n",
       "      <td>POLYGON ((2.999723171014824 49.60773992010596,...</td>\n",
       "    </tr>\n",
       "    <tr>\n",
       "      <th>5c847bcf-f57a-4cb2-ae52-064aef8ba6ea</th>\n",
       "      <td>Date: 2016-06-04T10:30:26Z, Instrument: MSI, M...</td>\n",
       "      <td>5c847bcf-f57a-4cb2-ae52-064aef8ba6ea</td>\n",
       "      <td>S2A_OPER_PRD_MSIL1C_PDMC_20160718T095153_R108_...</td>\n",
       "      <td>SAFE</td>\n",
       "      <td>S2A_OPER_PRD_MSIL1C_PDMC_20160718T095153_R108_...</td>\n",
       "      <td>MSI</td>\n",
       "      <td>INS-NOBS</td>\n",
       "      <td>Multi-Spectral Instrument</td>\n",
       "      <td>GS2A_20160604T103032_004967_N02.02</td>\n",
       "      <td>2015-000A</td>\n",
       "      <td>...</td>\n",
       "      <td>2016-06-04 10:30:26</td>\n",
       "      <td>2016-06-04 10:30:26</td>\n",
       "      <td>9.846106</td>\n",
       "      <td>https://scihub.copernicus.eu/dhus/odata/v1/Pro...</td>\n",
       "      <td>https://scihub.copernicus.eu/dhus/odata/v1/Pro...</td>\n",
       "      <td>https://scihub.copernicus.eu/dhus/odata/v1/Pro...</td>\n",
       "      <td>S2A_OPER_PRD_MSIL1C_PDMC_20160718T095153_R108_...</td>\n",
       "      <td>4967</td>\n",
       "      <td>108</td>\n",
       "      <td>POLYGON ((5.933615765809156 52.31403780479302,...</td>\n",
       "    </tr>\n",
       "    <tr>\n",
       "      <th>b6b89998-39d8-4786-ba1d-e31d4405b9fc</th>\n",
       "      <td>Date: 2016-06-07T10:40:26Z, Instrument: MSI, M...</td>\n",
       "      <td>b6b89998-39d8-4786-ba1d-e31d4405b9fc</td>\n",
       "      <td>S2A_OPER_PRD_MSIL1C_PDMC_20160608T023812_R008_...</td>\n",
       "      <td>SAFE</td>\n",
       "      <td>S2A_OPER_PRD_MSIL1C_PDMC_20160608T023812_R008_...</td>\n",
       "      <td>MSI</td>\n",
       "      <td>INS-NOBS</td>\n",
       "      <td>Multi-Spectral Instrument</td>\n",
       "      <td>GS2A_20160607T104032_005010_N02.02</td>\n",
       "      <td>2015-000A</td>\n",
       "      <td>...</td>\n",
       "      <td>2016-06-07 10:40:26</td>\n",
       "      <td>2016-06-07 10:40:26</td>\n",
       "      <td>11.668767</td>\n",
       "      <td>https://scihub.copernicus.eu/dhus/odata/v1/Pro...</td>\n",
       "      <td>https://scihub.copernicus.eu/dhus/odata/v1/Pro...</td>\n",
       "      <td>https://scihub.copernicus.eu/dhus/odata/v1/Pro...</td>\n",
       "      <td>S2A_OPER_PRD_MSIL1C_PDMC_20160608T023812_R008_...</td>\n",
       "      <td>5010</td>\n",
       "      <td>8</td>\n",
       "      <td>POLYGON ((4.467884152957832 52.34135509726958,...</td>\n",
       "    </tr>\n",
       "    <tr>\n",
       "      <th>f6de91d8-2e64-4fed-b075-8d943a9a17fe</th>\n",
       "      <td>Date: 2016-06-06T11:06:24Z, Instrument: MSI, M...</td>\n",
       "      <td>f6de91d8-2e64-4fed-b075-8d943a9a17fe</td>\n",
       "      <td>S2A_OPER_PRD_MSIL1C_PDMC_20160606T223655_R137_...</td>\n",
       "      <td>SAFE</td>\n",
       "      <td>S2A_OPER_PRD_MSIL1C_PDMC_20160606T223655_R137_...</td>\n",
       "      <td>MSI</td>\n",
       "      <td>INS-NOBS</td>\n",
       "      <td>Multi-Spectral Instrument</td>\n",
       "      <td>GS2A_20160606T110622_004996_N02.02</td>\n",
       "      <td>2015-000A</td>\n",
       "      <td>...</td>\n",
       "      <td>2016-06-06 11:06:24</td>\n",
       "      <td>2016-06-06 11:06:24</td>\n",
       "      <td>7.186513</td>\n",
       "      <td>https://scihub.copernicus.eu/dhus/odata/v1/Pro...</td>\n",
       "      <td>https://scihub.copernicus.eu/dhus/odata/v1/Pro...</td>\n",
       "      <td>https://scihub.copernicus.eu/dhus/odata/v1/Pro...</td>\n",
       "      <td>S2A_OPER_PRD_MSIL1C_PDMC_20160606T223655_R137_...</td>\n",
       "      <td>4996</td>\n",
       "      <td>137</td>\n",
       "      <td>POLYGON ((-4.468471097411705 52.34134780285317...</td>\n",
       "    </tr>\n",
       "    <tr>\n",
       "      <th>fecc8b23-334f-432f-b1e8-7d6f5dbcb819</th>\n",
       "      <td>Date: 2016-06-24T10:30:23Z, Instrument: MSI, M...</td>\n",
       "      <td>fecc8b23-334f-432f-b1e8-7d6f5dbcb819</td>\n",
       "      <td>S2A_OPER_PRD_MSIL1C_PDMC_20160624T173545_R108_...</td>\n",
       "      <td>SAFE</td>\n",
       "      <td>S2A_OPER_PRD_MSIL1C_PDMC_20160624T173545_R108_...</td>\n",
       "      <td>MSI</td>\n",
       "      <td>INS-NOBS</td>\n",
       "      <td>Multi-Spectral Instrument</td>\n",
       "      <td>GS2A_20160624T103022_005253_N02.04</td>\n",
       "      <td>2015-000A</td>\n",
       "      <td>...</td>\n",
       "      <td>2016-06-24 10:30:23</td>\n",
       "      <td>2016-06-24 10:30:23</td>\n",
       "      <td>29.470667</td>\n",
       "      <td>https://scihub.copernicus.eu/dhus/odata/v1/Pro...</td>\n",
       "      <td>https://scihub.copernicus.eu/dhus/odata/v1/Pro...</td>\n",
       "      <td>https://scihub.copernicus.eu/dhus/odata/v1/Pro...</td>\n",
       "      <td>S2A_OPER_PRD_MSIL1C_PDMC_20160624T173545_R108_...</td>\n",
       "      <td>5253</td>\n",
       "      <td>108</td>\n",
       "      <td>POLYGON ((5.768514805040419 49.61961011420237,...</td>\n",
       "    </tr>\n",
       "  </tbody>\n",
       "</table>\n",
       "<p>6 rows × 29 columns</p>\n",
       "</div>"
      ],
      "text/plain": [
       "                                                                                summary  \\\n",
       "12884691-b14c-44d1-bada-3f2c51ab06f7  Date: 2016-06-06T11:06:24Z, Instrument: MSI, M...   \n",
       "317db6d1-1653-4947-b067-d77dd1db017d  Date: 2016-06-07T10:40:26Z, Instrument: MSI, M...   \n",
       "5c847bcf-f57a-4cb2-ae52-064aef8ba6ea  Date: 2016-06-04T10:30:26Z, Instrument: MSI, M...   \n",
       "b6b89998-39d8-4786-ba1d-e31d4405b9fc  Date: 2016-06-07T10:40:26Z, Instrument: MSI, M...   \n",
       "f6de91d8-2e64-4fed-b075-8d943a9a17fe  Date: 2016-06-06T11:06:24Z, Instrument: MSI, M...   \n",
       "fecc8b23-334f-432f-b1e8-7d6f5dbcb819  Date: 2016-06-24T10:30:23Z, Instrument: MSI, M...   \n",
       "\n",
       "                                                                      uuid  \\\n",
       "12884691-b14c-44d1-bada-3f2c51ab06f7  12884691-b14c-44d1-bada-3f2c51ab06f7   \n",
       "317db6d1-1653-4947-b067-d77dd1db017d  317db6d1-1653-4947-b067-d77dd1db017d   \n",
       "5c847bcf-f57a-4cb2-ae52-064aef8ba6ea  5c847bcf-f57a-4cb2-ae52-064aef8ba6ea   \n",
       "b6b89998-39d8-4786-ba1d-e31d4405b9fc  b6b89998-39d8-4786-ba1d-e31d4405b9fc   \n",
       "f6de91d8-2e64-4fed-b075-8d943a9a17fe  f6de91d8-2e64-4fed-b075-8d943a9a17fe   \n",
       "fecc8b23-334f-432f-b1e8-7d6f5dbcb819  fecc8b23-334f-432f-b1e8-7d6f5dbcb819   \n",
       "\n",
       "                                                                               filename  \\\n",
       "12884691-b14c-44d1-bada-3f2c51ab06f7  S2A_OPER_PRD_MSIL1C_PDMC_20160606T223859_R137_...   \n",
       "317db6d1-1653-4947-b067-d77dd1db017d  S2A_OPER_PRD_MSIL1C_PDMC_20160608T024107_R008_...   \n",
       "5c847bcf-f57a-4cb2-ae52-064aef8ba6ea  S2A_OPER_PRD_MSIL1C_PDMC_20160718T095153_R108_...   \n",
       "b6b89998-39d8-4786-ba1d-e31d4405b9fc  S2A_OPER_PRD_MSIL1C_PDMC_20160608T023812_R008_...   \n",
       "f6de91d8-2e64-4fed-b075-8d943a9a17fe  S2A_OPER_PRD_MSIL1C_PDMC_20160606T223655_R137_...   \n",
       "fecc8b23-334f-432f-b1e8-7d6f5dbcb819  S2A_OPER_PRD_MSIL1C_PDMC_20160624T173545_R108_...   \n",
       "\n",
       "                                     format  \\\n",
       "12884691-b14c-44d1-bada-3f2c51ab06f7   SAFE   \n",
       "317db6d1-1653-4947-b067-d77dd1db017d   SAFE   \n",
       "5c847bcf-f57a-4cb2-ae52-064aef8ba6ea   SAFE   \n",
       "b6b89998-39d8-4786-ba1d-e31d4405b9fc   SAFE   \n",
       "f6de91d8-2e64-4fed-b075-8d943a9a17fe   SAFE   \n",
       "fecc8b23-334f-432f-b1e8-7d6f5dbcb819   SAFE   \n",
       "\n",
       "                                                                             identifier  \\\n",
       "12884691-b14c-44d1-bada-3f2c51ab06f7  S2A_OPER_PRD_MSIL1C_PDMC_20160606T223859_R137_...   \n",
       "317db6d1-1653-4947-b067-d77dd1db017d  S2A_OPER_PRD_MSIL1C_PDMC_20160608T024107_R008_...   \n",
       "5c847bcf-f57a-4cb2-ae52-064aef8ba6ea  S2A_OPER_PRD_MSIL1C_PDMC_20160718T095153_R108_...   \n",
       "b6b89998-39d8-4786-ba1d-e31d4405b9fc  S2A_OPER_PRD_MSIL1C_PDMC_20160608T023812_R008_...   \n",
       "f6de91d8-2e64-4fed-b075-8d943a9a17fe  S2A_OPER_PRD_MSIL1C_PDMC_20160606T223655_R137_...   \n",
       "fecc8b23-334f-432f-b1e8-7d6f5dbcb819  S2A_OPER_PRD_MSIL1C_PDMC_20160624T173545_R108_...   \n",
       "\n",
       "                                     instrumentshortname  \\\n",
       "12884691-b14c-44d1-bada-3f2c51ab06f7                 MSI   \n",
       "317db6d1-1653-4947-b067-d77dd1db017d                 MSI   \n",
       "5c847bcf-f57a-4cb2-ae52-064aef8ba6ea                 MSI   \n",
       "b6b89998-39d8-4786-ba1d-e31d4405b9fc                 MSI   \n",
       "f6de91d8-2e64-4fed-b075-8d943a9a17fe                 MSI   \n",
       "fecc8b23-334f-432f-b1e8-7d6f5dbcb819                 MSI   \n",
       "\n",
       "                                     sensoroperationalmode  \\\n",
       "12884691-b14c-44d1-bada-3f2c51ab06f7              INS-NOBS   \n",
       "317db6d1-1653-4947-b067-d77dd1db017d              INS-NOBS   \n",
       "5c847bcf-f57a-4cb2-ae52-064aef8ba6ea              INS-NOBS   \n",
       "b6b89998-39d8-4786-ba1d-e31d4405b9fc              INS-NOBS   \n",
       "f6de91d8-2e64-4fed-b075-8d943a9a17fe              INS-NOBS   \n",
       "fecc8b23-334f-432f-b1e8-7d6f5dbcb819              INS-NOBS   \n",
       "\n",
       "                                                 instrumentname  \\\n",
       "12884691-b14c-44d1-bada-3f2c51ab06f7  Multi-Spectral Instrument   \n",
       "317db6d1-1653-4947-b067-d77dd1db017d  Multi-Spectral Instrument   \n",
       "5c847bcf-f57a-4cb2-ae52-064aef8ba6ea  Multi-Spectral Instrument   \n",
       "b6b89998-39d8-4786-ba1d-e31d4405b9fc  Multi-Spectral Instrument   \n",
       "f6de91d8-2e64-4fed-b075-8d943a9a17fe  Multi-Spectral Instrument   \n",
       "fecc8b23-334f-432f-b1e8-7d6f5dbcb819  Multi-Spectral Instrument   \n",
       "\n",
       "                                                            s2datatakeid  \\\n",
       "12884691-b14c-44d1-bada-3f2c51ab06f7  GS2A_20160606T110622_004996_N02.02   \n",
       "317db6d1-1653-4947-b067-d77dd1db017d  GS2A_20160607T104032_005010_N02.02   \n",
       "5c847bcf-f57a-4cb2-ae52-064aef8ba6ea  GS2A_20160604T103032_004967_N02.02   \n",
       "b6b89998-39d8-4786-ba1d-e31d4405b9fc  GS2A_20160607T104032_005010_N02.02   \n",
       "f6de91d8-2e64-4fed-b075-8d943a9a17fe  GS2A_20160606T110622_004996_N02.02   \n",
       "fecc8b23-334f-432f-b1e8-7d6f5dbcb819  GS2A_20160624T103022_005253_N02.04   \n",
       "\n",
       "                                     platformidentifier  \\\n",
       "12884691-b14c-44d1-bada-3f2c51ab06f7          2015-000A   \n",
       "317db6d1-1653-4947-b067-d77dd1db017d          2015-000A   \n",
       "5c847bcf-f57a-4cb2-ae52-064aef8ba6ea          2015-000A   \n",
       "b6b89998-39d8-4786-ba1d-e31d4405b9fc          2015-000A   \n",
       "f6de91d8-2e64-4fed-b075-8d943a9a17fe          2015-000A   \n",
       "fecc8b23-334f-432f-b1e8-7d6f5dbcb819          2015-000A   \n",
       "\n",
       "                                                            ...                          \\\n",
       "12884691-b14c-44d1-bada-3f2c51ab06f7                        ...                           \n",
       "317db6d1-1653-4947-b067-d77dd1db017d                        ...                           \n",
       "5c847bcf-f57a-4cb2-ae52-064aef8ba6ea                        ...                           \n",
       "b6b89998-39d8-4786-ba1d-e31d4405b9fc                        ...                           \n",
       "f6de91d8-2e64-4fed-b075-8d943a9a17fe                        ...                           \n",
       "fecc8b23-334f-432f-b1e8-7d6f5dbcb819                        ...                           \n",
       "\n",
       "                                           beginposition         endposition  \\\n",
       "12884691-b14c-44d1-bada-3f2c51ab06f7 2016-06-06 11:06:24 2016-06-06 11:06:24   \n",
       "317db6d1-1653-4947-b067-d77dd1db017d 2016-06-07 10:40:26 2016-06-07 10:40:26   \n",
       "5c847bcf-f57a-4cb2-ae52-064aef8ba6ea 2016-06-04 10:30:26 2016-06-04 10:30:26   \n",
       "b6b89998-39d8-4786-ba1d-e31d4405b9fc 2016-06-07 10:40:26 2016-06-07 10:40:26   \n",
       "f6de91d8-2e64-4fed-b075-8d943a9a17fe 2016-06-06 11:06:24 2016-06-06 11:06:24   \n",
       "fecc8b23-334f-432f-b1e8-7d6f5dbcb819 2016-06-24 10:30:23 2016-06-24 10:30:23   \n",
       "\n",
       "                                     cloudcoverpercentage  \\\n",
       "12884691-b14c-44d1-bada-3f2c51ab06f7             7.186513   \n",
       "317db6d1-1653-4947-b067-d77dd1db017d            24.552967   \n",
       "5c847bcf-f57a-4cb2-ae52-064aef8ba6ea             9.846106   \n",
       "b6b89998-39d8-4786-ba1d-e31d4405b9fc            11.668767   \n",
       "f6de91d8-2e64-4fed-b075-8d943a9a17fe             7.186513   \n",
       "fecc8b23-334f-432f-b1e8-7d6f5dbcb819            29.470667   \n",
       "\n",
       "                                                                                   link  \\\n",
       "12884691-b14c-44d1-bada-3f2c51ab06f7  https://scihub.copernicus.eu/dhus/odata/v1/Pro...   \n",
       "317db6d1-1653-4947-b067-d77dd1db017d  https://scihub.copernicus.eu/dhus/odata/v1/Pro...   \n",
       "5c847bcf-f57a-4cb2-ae52-064aef8ba6ea  https://scihub.copernicus.eu/dhus/odata/v1/Pro...   \n",
       "b6b89998-39d8-4786-ba1d-e31d4405b9fc  https://scihub.copernicus.eu/dhus/odata/v1/Pro...   \n",
       "f6de91d8-2e64-4fed-b075-8d943a9a17fe  https://scihub.copernicus.eu/dhus/odata/v1/Pro...   \n",
       "fecc8b23-334f-432f-b1e8-7d6f5dbcb819  https://scihub.copernicus.eu/dhus/odata/v1/Pro...   \n",
       "\n",
       "                                                                       link_alternative  \\\n",
       "12884691-b14c-44d1-bada-3f2c51ab06f7  https://scihub.copernicus.eu/dhus/odata/v1/Pro...   \n",
       "317db6d1-1653-4947-b067-d77dd1db017d  https://scihub.copernicus.eu/dhus/odata/v1/Pro...   \n",
       "5c847bcf-f57a-4cb2-ae52-064aef8ba6ea  https://scihub.copernicus.eu/dhus/odata/v1/Pro...   \n",
       "b6b89998-39d8-4786-ba1d-e31d4405b9fc  https://scihub.copernicus.eu/dhus/odata/v1/Pro...   \n",
       "f6de91d8-2e64-4fed-b075-8d943a9a17fe  https://scihub.copernicus.eu/dhus/odata/v1/Pro...   \n",
       "fecc8b23-334f-432f-b1e8-7d6f5dbcb819  https://scihub.copernicus.eu/dhus/odata/v1/Pro...   \n",
       "\n",
       "                                                                              link_icon  \\\n",
       "12884691-b14c-44d1-bada-3f2c51ab06f7  https://scihub.copernicus.eu/dhus/odata/v1/Pro...   \n",
       "317db6d1-1653-4947-b067-d77dd1db017d  https://scihub.copernicus.eu/dhus/odata/v1/Pro...   \n",
       "5c847bcf-f57a-4cb2-ae52-064aef8ba6ea  https://scihub.copernicus.eu/dhus/odata/v1/Pro...   \n",
       "b6b89998-39d8-4786-ba1d-e31d4405b9fc  https://scihub.copernicus.eu/dhus/odata/v1/Pro...   \n",
       "f6de91d8-2e64-4fed-b075-8d943a9a17fe  https://scihub.copernicus.eu/dhus/odata/v1/Pro...   \n",
       "fecc8b23-334f-432f-b1e8-7d6f5dbcb819  https://scihub.copernicus.eu/dhus/odata/v1/Pro...   \n",
       "\n",
       "                                                                                  title  \\\n",
       "12884691-b14c-44d1-bada-3f2c51ab06f7  S2A_OPER_PRD_MSIL1C_PDMC_20160606T223859_R137_...   \n",
       "317db6d1-1653-4947-b067-d77dd1db017d  S2A_OPER_PRD_MSIL1C_PDMC_20160608T024107_R008_...   \n",
       "5c847bcf-f57a-4cb2-ae52-064aef8ba6ea  S2A_OPER_PRD_MSIL1C_PDMC_20160718T095153_R108_...   \n",
       "b6b89998-39d8-4786-ba1d-e31d4405b9fc  S2A_OPER_PRD_MSIL1C_PDMC_20160608T023812_R008_...   \n",
       "f6de91d8-2e64-4fed-b075-8d943a9a17fe  S2A_OPER_PRD_MSIL1C_PDMC_20160606T223655_R137_...   \n",
       "fecc8b23-334f-432f-b1e8-7d6f5dbcb819  S2A_OPER_PRD_MSIL1C_PDMC_20160624T173545_R108_...   \n",
       "\n",
       "                                     orbitnumber relativeorbitnumber  \\\n",
       "12884691-b14c-44d1-bada-3f2c51ab06f7        4996                 137   \n",
       "317db6d1-1653-4947-b067-d77dd1db017d        5010                   8   \n",
       "5c847bcf-f57a-4cb2-ae52-064aef8ba6ea        4967                 108   \n",
       "b6b89998-39d8-4786-ba1d-e31d4405b9fc        5010                   8   \n",
       "f6de91d8-2e64-4fed-b075-8d943a9a17fe        4996                 137   \n",
       "fecc8b23-334f-432f-b1e8-7d6f5dbcb819        5253                 108   \n",
       "\n",
       "                                                                               geometry  \n",
       "12884691-b14c-44d1-bada-3f2c51ab06f7  POLYGON ((-4.468471097411705 52.34134780285317...  \n",
       "317db6d1-1653-4947-b067-d77dd1db017d  POLYGON ((2.999723171014824 49.60773992010596,...  \n",
       "5c847bcf-f57a-4cb2-ae52-064aef8ba6ea  POLYGON ((5.933615765809156 52.31403780479302,...  \n",
       "b6b89998-39d8-4786-ba1d-e31d4405b9fc  POLYGON ((4.467884152957832 52.34135509726958,...  \n",
       "f6de91d8-2e64-4fed-b075-8d943a9a17fe  POLYGON ((-4.468471097411705 52.34134780285317...  \n",
       "fecc8b23-334f-432f-b1e8-7d6f5dbcb819  POLYGON ((5.768514805040419 49.61961011420237,...  \n",
       "\n",
       "[6 rows x 29 columns]"
      ]
     },
     "execution_count": 59,
     "metadata": {},
     "output_type": "execute_result"
    }
   ],
   "source": [
    "geopanda_products"
   ]
  },
  {
   "cell_type": "code",
   "execution_count": 60,
   "metadata": {
    "scrolled": true
   },
   "outputs": [
    {
     "data": {
      "text/plain": [
       "<matplotlib.axes._subplots.AxesSubplot at 0xeb2ada0>"
      ]
     },
     "execution_count": 60,
     "metadata": {},
     "output_type": "execute_result"
    },
    {
     "data": {
      "image/png": "[encoded data removed]",
      "text/plain": [
       "<matplotlib.figure.Figure at 0xe411898>"
      ]
     },
     "metadata": {},
     "output_type": "display_data"
    }
   ],
   "source": [
    "geopanda_products.plot()"
   ]
  },
  {
   "cell_type": "code",
   "execution_count": null,
   "metadata": {
    "collapsed": true
   },
   "outputs": [],
   "source": []
  }
 ],
 "metadata": {
  "kernelspec": {
   "display_name": "Python 3",
   "language": "python",
   "name": "python3"
  },
  "language_info": {
   "codemirror_mode": {
    "name": "ipython",
    "version": 3
   },
   "file_extension": ".py",
   "mimetype": "text/x-python",
   "name": "python",
   "nbconvert_exporter": "python",
   "pygments_lexer": "ipython3",
   "version": "3.5.3"
  }
 },
 "nbformat": 4,
 "nbformat_minor": 2
}
