{
 "cells": [
  {
   "cell_type": "markdown",
   "metadata": {},
   "source": [
    "# Downloading Sentinel-2 datasets"
   ]
  },
  {
   "cell_type": "markdown",
   "metadata": {},
   "source": [
    "## AIM"
   ]
  },
  {
   "cell_type": "markdown",
   "metadata": {},
   "source": [
    "The aim is to bulk download Sentinel-2 imagery from https://scihub.copernicus.eu/, covering Flanders (Belgium), using a set of search parameters."
   ]
  },
  {
   "cell_type": "markdown",
   "metadata": {},
   "source": [
    "## WORKFLOW"
   ]
  },
  {
   "cell_type": "code",
   "execution_count": 1,
   "metadata": {
    "collapsed": true
   },
   "outputs": [],
   "source": [
    "from sentinelsat.sentinel import SentinelAPI, read_geojson, geojson_to_wkt\n",
    "\n",
    "import collections\n",
    "import os\n",
    "import logging\n",
    "\n",
    "# import gui tkinter\n",
    "from tkinter import Tk\n",
    "import tkinter.filedialog as tkfd\n",
    "import tkinter.simpledialog as tksd"
   ]
  },
  {
   "cell_type": "code",
   "execution_count": 2,
   "metadata": {
    "collapsed": true
   },
   "outputs": [],
   "source": [
    "logging.basicConfig(format='%(message)s', level='INFO')"
   ]
  },
  {
   "cell_type": "markdown",
   "metadata": {},
   "source": [
    "### Login"
   ]
  },
  {
   "cell_type": "markdown",
   "metadata": {},
   "source": [
    "A **tkinter GUI** is loaded to define:\n",
    "- your Copernicus Open Access Hub **username**, and\n",
    "- your Copernicus Open Access Hub **password**."
   ]
  },
  {
   "cell_type": "code",
   "execution_count": 3,
   "metadata": {
    "collapsed": true
   },
   "outputs": [],
   "source": [
    "# tkinter GUI to ask username and password\n",
    "root = Tk()\n",
    "\n",
    "username = tksd.askstring(title = \"USERNAME\", \n",
    "                          prompt = \"Log in with Copernicus Open Access Hub username ...\")\n",
    "\n",
    "password = tksd.askstring(title = \"PASSWORD\", \n",
    "                          prompt = \"... and password\") \n",
    "\n",
    "root.destroy()"
   ]
  },
  {
   "cell_type": "code",
   "execution_count": 4,
   "metadata": {
    "collapsed": true
   },
   "outputs": [],
   "source": [
    "api = SentinelAPI(username, password, \"https://scihub.copernicus.eu/dhus\")"
   ]
  },
  {
   "cell_type": "markdown",
   "metadata": {},
   "source": [
    "### Set download directory and search area"
   ]
  },
  {
   "cell_type": "markdown",
   "metadata": {},
   "source": [
    "A **tkinter GUI** is loaded:\n",
    "- to define the **download directory**, and\n",
    "- to locate a GeoJSON file, defining the **bouding box of Flanders**.\n",
    "\n",
    "The tkinter input is printed to the console."
   ]
  },
  {
   "cell_type": "code",
   "execution_count": 5,
   "metadata": {},
   "outputs": [
    {
     "name": "stdout",
     "output_type": "stream",
     "text": [
      "The selected download folder is:\n",
      "- C:/WERKMAP/Anaconda/sentinelsat/downloaded_datasets\n",
      " \n",
      "The selected bounding box is located at:\n",
      "- C:/WERKMAP/Anaconda/sentinelsat/geojson/footprint_flanders_geojson.geojson\n"
     ]
    }
   ],
   "source": [
    "# tkinter GUI\n",
    "root = Tk()\n",
    "download_dir = tkfd.askdirectory(title = \"Select download folder\", initialdir = \"C:/\")\n",
    "bounding_box_flanders = tkfd.askopenfilename(title = \"Select input GeoJSON, defining the bounding box of Flanders\", \n",
    "                                             initialdir = \"C:/\", \n",
    "                                             filetypes = ((\"GeoJSON\", \"*.geojson\"),(\"all files\", \"*.*\")))\n",
    "root.destroy()\n",
    "\n",
    "# print statements: the tkinter input is printed to the console\n",
    "print(\"The selected download folder is:\")\n",
    "print(\"-\", download_dir)\n",
    "print(\" \")\n",
    "print(\"The selected bounding box is located at:\")\n",
    "print(\"-\", bounding_box_flanders)"
   ]
  },
  {
   "cell_type": "markdown",
   "metadata": {},
   "source": [
    "### Define footprint"
   ]
  },
  {
   "cell_type": "code",
   "execution_count": 8,
   "metadata": {},
   "outputs": [
    {
     "name": "stdout",
     "output_type": "stream",
     "text": [
      "Footprint loaded, bounding box:\n",
      "POLYGON ((2.5406630 50.6879597, 2.5406630 51.5056400, 5.9098982 51.5056400, 5.9098982 50.6879597, 2.5406630 50.6879597))\n"
     ]
    }
   ],
   "source": [
    "# define footprint = search the data by polygon\n",
    "footprint_flanders_geojson = geojson_to_wkt(read_geojson(bounding_box_flanders))\n",
    "print(\"Footprint loaded, bounding box:\")\n",
    "print(footprint_flanders_geojson)"
   ]
  },
  {
   "cell_type": "markdown",
   "metadata": {},
   "source": [
    "### Set search parameters"
   ]
  },
  {
   "cell_type": "markdown",
   "metadata": {},
   "source": [
    "A **tkinter GUI** is loaded to set 4 search parameters for querying the data:\n",
    "- startdate (yyyymmdd),\n",
    "- enddate (yyyymmdd),\n",
    "- minimum cloudcover percentage (value from 0 to 100), \n",
    "- maximun cloudcover percentage (value from 0 to 100).\n",
    "\n",
    "The tkinter input is printed to the console."
   ]
  },
  {
   "cell_type": "code",
   "execution_count": 9,
   "metadata": {},
   "outputs": [
    {
     "name": "stdout",
     "output_type": "stream",
     "text": [
      "The following parameters are selected:\n",
      "- startdate = 20160616\n",
      "- enddate = 20160630\n",
      "- minimum cloudcover percentage = 0\n",
      "- maximum cloudcover percentage = 30\n"
     ]
    }
   ],
   "source": [
    "# tkinter GUI to define the parameters for querying the data\n",
    "root = Tk()\n",
    "\n",
    "startdate = tksd.askstring(title = \"STARTDATE\", \n",
    "                           prompt = \"define startdate query (format: yyyymmdd)\")\n",
    "\n",
    "enddate = tksd.askstring(title = \"ENDDATE\", \n",
    "                         prompt = \"define enddate query (format: yyyymmdd)\")\n",
    "\n",
    "min_cloud = tksd.askstring(title = \"minimum cloudcover percentage\", \n",
    "                           prompt = \"define minimum cloudcover percentage (value from 0 to 100)\")\n",
    "\n",
    "max_cloud = tksd.askstring(title = \"maximum cloudcover percentage\", \n",
    "                           prompt = \"define maximum cloudcover percentage (value from 0 to 100)\")\n",
    "\n",
    "root.destroy()\n",
    "\n",
    "# print statements: tkinter input is printed to the console\n",
    "print(\"The following parameters are selected:\")\n",
    "print(\"- startdate =\", startdate)\n",
    "print(\"- enddate =\", enddate)\n",
    "print(\"- minimum cloudcover percentage =\", min_cloud)\n",
    "print(\"- maximum cloudcover percentage =\", max_cloud)"
   ]
  },
  {
   "cell_type": "markdown",
   "metadata": {},
   "source": [
    "### Query Sentinel-2 data"
   ]
  },
  {
   "cell_type": "markdown",
   "metadata": {},
   "source": [
    "Query the Sentinel-2 data, using:\n",
    "- the predefined footprint (i.e. bounding box Flanders), and\n",
    "- the predefined parameters.\n",
    "\n",
    "The results are stored in a dictionary. A brief summary is printed to the console."
   ]
  },
  {
   "cell_type": "code",
   "execution_count": 15,
   "metadata": {},
   "outputs": [
    {
     "name": "stdout",
     "output_type": "stream",
     "text": [
      "1 datasets are found:\n",
      "- S2A_OPER_PRD_MSIL1C_PDMC_20160624T173545_R108_V20160624T103023_20160624T103023.zip\n"
     ]
    }
   ],
   "source": [
    "# Query the Sentinel-2 data by predefined footprint and parameters (date, cloudcover).\n",
    "# Results of the query are stored in a dictionary.\n",
    "products = api.query(footprint_flanders_geojson, \n",
    "                     startdate, \n",
    "                     enddate, \n",
    "                     platformname = 'Sentinel-2', \n",
    "                     cloudcoverpercentage = '[' + min_cloud + ' TO ' + max_cloud + ']'\n",
    "                    )\n",
    "\n",
    "# A very brief summary is printed to the console. \n",
    "products_count = 0\n",
    "products_filenames = []\n",
    "for k, v in products.items():\n",
    "    filename = v['filename']\n",
    "    filename = filename[:-5] + '.zip'\n",
    "    products_count = products_count + 1\n",
    "    products_filenames.append(filename)\n",
    "print(products_count, \"datasets are found:\")\n",
    "for product_filename in products_filenames:\n",
    "    print(\"-\", product_filename)"
   ]
  },
  {
   "cell_type": "markdown",
   "metadata": {},
   "source": [
    "### Dictionary check"
   ]
  },
  {
   "cell_type": "markdown",
   "metadata": {},
   "source": [
    "The results of the query are checked for what already exists in the donwload folder. A summary is printed to the console."
   ]
  },
  {
   "cell_type": "code",
   "execution_count": 16,
   "metadata": {},
   "outputs": [
    {
     "name": "stdout",
     "output_type": "stream",
     "text": [
      "The download directory is checked for already downloaded datasets...\n",
      "S2A_OPER_PRD_MSIL1C_PDMC_20160624T173545_R108_V20160624T103023_20160624T103023.zip already exists!\n",
      " \n",
      "TO SUMMARISE:\n",
      "---\n",
      "1 file(s) already exist(s). The file(s) will be checked and updated if necessary.\n",
      "0 file(s), or a total of 0 GB, will be downloaded.\n"
     ]
    }
   ],
   "source": [
    "print(\"The download directory is checked for already downloaded datasets...\")\n",
    "no_action = 0\n",
    "action = 0\n",
    "filesize = 0\n",
    "for k, v in products.items():\n",
    "    filename = v['filename']\n",
    "    size = v['size']\n",
    "    size = float(size[:-3])\n",
    "    zipfile = filename[:-5] + '.zip'\n",
    "    folder = download_dir + \"/\" + zipfile\n",
    "    if os.path.exists(folder):\n",
    "        no_action = no_action + 1\n",
    "        print(zipfile, \"already exists!\")\n",
    "    else:\n",
    "        action = action + 1\n",
    "        filesize = filesize + size\n",
    "        print(zipfile, \"will be downloaded (\", size, \"GB )...\")\n",
    "print(\" \")\n",
    "print(\"TO SUMMARISE:\")\n",
    "print(\"---\")\n",
    "print(no_action, \"file(s) already exist(s). The file(s) will be checked and updated if necessary.\")\n",
    "print(action, \"file(s), or a total of\", filesize, \"GB, will be downloaded.\")"
   ]
  },
  {
   "cell_type": "markdown",
   "metadata": {},
   "source": [
    "### Download"
   ]
  },
  {
   "cell_type": "markdown",
   "metadata": {},
   "source": [
    "All new datasets are downloaded, existing datasets are checked and updated if necessary."
   ]
  },
  {
   "cell_type": "code",
   "execution_count": 17,
   "metadata": {
    "scrolled": false
   },
   "outputs": [
    {
     "name": "stderr",
     "output_type": "stream",
     "text": [
      "Will download 1 products\n",
      "Downloading fecc8b23-334f-432f-b1e8-7d6f5dbcb819 to C:/WERKMAP/Anaconda/sentinelsat/downloaded_datasets\\S2A_OPER_PRD_MSIL1C_PDMC_20160624T173545_R108_V20160624T103023_20160624T103023.zip\n",
      "MD5 checksumming: 100%|███████████████████| 7.13G/7.13G [01:52<00:00, 63.4MB/s]\n",
      "C:/WERKMAP/Anaconda/sentinelsat/downloaded_datasets\\S2A_OPER_PRD_MSIL1C_PDMC_20160624T173545_R108_V20160624T103023_20160624T103023.zip was already downloaded.\n",
      "1/1 products downloaded\n"
     ]
    },
    {
     "data": {
      "text/plain": [
       "(OrderedDict([('fecc8b23-334f-432f-b1e8-7d6f5dbcb819',\n",
       "               {'date': datetime.datetime(2016, 6, 24, 10, 30, 23),\n",
       "                'downloaded_bytes': 0,\n",
       "                'footprint': 'POLYGON((5.768514805040419 49.61961011420237,5.76603610582172 49.57468117064941,5.763545147601364 49.53174440621896,5.763667108760206 49.53174069023494,5.71408665774242 48.63304460468163,7.200980618578432 48.5883487810417,7.206138543130609 48.64878448309814,7.708337912131061 48.657376206712975,9.066139888020086 48.66460174366902,10.4242909875692 48.65581480408966,11.847478451946776 48.62982157570405,11.901972660129278 49.57135020997286,11.956634167396428 50.46945531986655,12.017025008525813 51.41234265506691,10.579515067442992 51.43967797551486,10.579544021469632 51.44054116582309,10.50920791123296 51.4410149183699,10.438876794404743 51.44235231685392,10.438850408836755 51.441488815004725,9.140455380717382 51.45023422258088,9.140457957691327 51.451098078258774,9.070084949391758 51.45070820629918,8.9997121758513 51.45118220579359,8.999712181132086 51.45031833566943,7.702116061954055 51.44312955187337,7.702092127176296 51.44399790803582,7.631322260372732 51.44273734868615,7.560547850091258 51.44234525292824,7.560574385907079 51.44147718106602,6.123708231698877 51.415883589517534,6.1241822803694195 51.40812039862533,5.875717288603333 51.41589769639834,5.820906014929664 50.518109466855485,5.82076894501528 50.51811370350305,5.818145504049863 50.472893327742106,5.81551011356698 50.429726614086306,5.815640971071575 50.429722574568395,5.768642413614264 49.61960622110076,5.768514805040419 49.61961011420237))',\n",
       "                'id': 'fecc8b23-334f-432f-b1e8-7d6f5dbcb819',\n",
       "                'md5': '51399727D76CAEFA1329A8DF6B7ACC32',\n",
       "                'path': 'C:/WERKMAP/Anaconda/sentinelsat/downloaded_datasets\\\\S2A_OPER_PRD_MSIL1C_PDMC_20160624T173545_R108_V20160624T103023_20160624T103023.zip',\n",
       "                'size': 7126446395,\n",
       "                'title': 'S2A_OPER_PRD_MSIL1C_PDMC_20160624T173545_R108_V20160624T103023_20160624T103023',\n",
       "                'url': \"https://scihub.copernicus.eu/dhus/odata/v1/Products('fecc8b23-334f-432f-b1e8-7d6f5dbcb819')/$value\"})]),\n",
       " set())"
      ]
     },
     "execution_count": 17,
     "metadata": {},
     "output_type": "execute_result"
    }
   ],
   "source": [
    "api.download_all(products, directory_path = download_dir, checksum = True, check_existing = True)"
   ]
  },
  {
   "cell_type": "code",
   "execution_count": 18,
   "metadata": {},
   "outputs": [
    {
     "name": "stdout",
     "output_type": "stream",
     "text": [
      "Downloading complete! The downloads are found at C:/WERKMAP/Anaconda/sentinelsat/downloaded_datasets\n"
     ]
    }
   ],
   "source": [
    "print(\"Downloading complete! The downloads can be found at\", download_dir)"
   ]
  },
  {
   "cell_type": "code",
   "execution_count": null,
   "metadata": {
    "collapsed": true
   },
   "outputs": [],
   "source": []
  }
 ],
 "metadata": {
  "kernelspec": {
   "display_name": "Python 3",
   "language": "python",
   "name": "python3"
  },
  "language_info": {
   "codemirror_mode": {
    "name": "ipython",
    "version": 3
   },
   "file_extension": ".py",
   "mimetype": "text/x-python",
   "name": "python",
   "nbconvert_exporter": "python",
   "pygments_lexer": "ipython3",
   "version": "3.5.3"
  }
 },
 "nbformat": 4,
 "nbformat_minor": 2
}
