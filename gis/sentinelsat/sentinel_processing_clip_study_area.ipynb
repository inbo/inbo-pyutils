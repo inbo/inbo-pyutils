{
 "cells": [
  {
   "cell_type": "markdown",
   "metadata": {},
   "source": [
    "# Working with sentinel-2 data"
   ]
  },
  {
   "cell_type": "markdown",
   "metadata": {},
   "source": [
    "## AIM"
   ]
  },
  {
   "cell_type": "markdown",
   "metadata": {},
   "source": [
    "The aim is to batch clip processed sentinel imagery with the extend of the study area"
   ]
  },
  {
   "cell_type": "markdown",
   "metadata": {},
   "source": [
    "## DATA MANAGMENT"
   ]
  },
  {
   "cell_type": "code",
   "execution_count": 10,
   "metadata": {
    "collapsed": true
   },
   "outputs": [],
   "source": [
    "import os\n",
    "from glob import glob\n",
    "\n",
    "# import gui tkinter\n",
    "from tkinter import Tk\n",
    "import tkinter.filedialog as tkfd"
   ]
  },
  {
   "cell_type": "markdown",
   "metadata": {},
   "source": [
    "### Set input and output directories"
   ]
  },
  {
   "cell_type": "markdown",
   "metadata": {},
   "source": [
    "**Set input directory**, storing Sentinel data, and the **output directory**, where the processed imagery wil\n",
    "l be saved."
   ]
  },
  {
   "cell_type": "code",
   "execution_count": 6,
   "metadata": {
    "collapsed": true
   },
   "outputs": [],
   "source": [
    "root = Tk()\n",
    "input_dir = tkfd.askdirectory(title = \"Select input folder\", initialdir = \"C:/\")\n",
    "output_dir = tkfd.askdirectory(title = \"Select output folder\", initialdir = \"C:/\")\n",
    "study_area = tkfd.askopenfilename(title = \"Select extend study area\", \n",
    "                                  initialdir = \"C:/\", \n",
    "                                  filetypes = ((\"GeoJSON\", \"*.geojson\"), (\"all files\", \"*.*\")))\n",
    "root.destroy()"
   ]
  },
  {
   "cell_type": "code",
   "execution_count": 7,
   "metadata": {},
   "outputs": [
    {
     "data": {
      "text/plain": [
       "'C:/SS'"
      ]
     },
     "execution_count": 7,
     "metadata": {},
     "output_type": "execute_result"
    }
   ],
   "source": [
    "input_dir"
   ]
  },
  {
   "cell_type": "code",
   "execution_count": 8,
   "metadata": {},
   "outputs": [
    {
     "data": {
      "text/plain": [
       "'C:/SSClip'"
      ]
     },
     "execution_count": 8,
     "metadata": {},
     "output_type": "execute_result"
    }
   ],
   "source": [
    "output_dir"
   ]
  },
  {
   "cell_type": "code",
   "execution_count": 9,
   "metadata": {
    "scrolled": true
   },
   "outputs": [
    {
     "data": {
      "text/plain": [
       "'C:/WERKMAP/Anaconda/sentinelsat/geojson/Sentinelsat.geojson'"
      ]
     },
     "execution_count": 9,
     "metadata": {},
     "output_type": "execute_result"
    }
   ],
   "source": [
    "study_area"
   ]
  },
  {
   "cell_type": "markdown",
   "metadata": {},
   "source": [
    "### CLIPPING with STUDY AREA"
   ]
  },
  {
   "cell_type": "code",
   "execution_count": 29,
   "metadata": {
    "collapsed": true
   },
   "outputs": [],
   "source": [
    "import osgeo\n",
    "from osgeo import gdal\n",
    "from rasterstats import zonal_stats"
   ]
  },
  {
   "cell_type": "code",
   "execution_count": 14,
   "metadata": {
    "collapsed": true
   },
   "outputs": [],
   "source": [
    "# Enable GDAL/OGR exceptions and set GDAL data\n",
    "gdal.UseExceptions()\n",
    "osgeo.gdal.SetConfigOption(\"GDAL_DATA\", \"C:/Users/jeroen.dereu@inbo.be/Software/gdal-2.1.3/data\")"
   ]
  },
  {
   "cell_type": "code",
   "execution_count": 51,
   "metadata": {
    "collapsed": true,
    "scrolled": true
   },
   "outputs": [],
   "source": [
    "for path in glob(os.path.join(input_dir, \"**\", \"*/merged_bands*\", \"*.tif\"), recursive=True):\n",
    "    basename = os.path.basename(path)\n",
    "    filename, file_extention = os.path.splitext(basename)\n",
    "    date = filename[0:7]\n",
    "    mean = zonal_stats(study_area, path, stats = \"mean\", nodata = 0)\n",
    "    if mean == [{'mean': None}]:\n",
    "        pass\n",
    "    else:\n",
    "        if not os.path.isdir(output_dir + \"/merged_bands\"):\n",
    "            os.mkdir(output_dir + \"/merged_bands\")\n",
    "        if not os.path.isdir(output_dir + \"/merged_bands\" + \"/\" + date):\n",
    "            os.mkdir(output_dir + \"/merged_bands\" + \"/\" + date)    \n",
    "        output_folder = output_dir + \"/merged_bands\" + \"/\" + date + \"/\"\n",
    "        output_file = output_folder + filename + \".tif\"\n",
    "        gdal.Warp(destNameOrDestDS = output_file, \n",
    "                  srcDSOrSrcDSTab = path, \n",
    "                  cropToCutline = True, \n",
    "                  cutlineDSName = study_area)\n",
    "for path in glob(os.path.join(input_dir, \"**\", \"*/stacked*\", \"*.tif\"), recursive=True):\n",
    "    basename = os.path.basename(path)\n",
    "    filename, file_extention = os.path.splitext(basename)\n",
    "    date = filename[0:7]\n",
    "    mean = zonal_stats(study_area, path, stats = \"mean\", nodata = 0)\n",
    "    if mean == [{'mean': None}]:\n",
    "        pass\n",
    "    else:\n",
    "        if not os.path.isdir(output_dir + \"/stacked\"):\n",
    "            os.mkdir(output_dir + \"/stacked\")\n",
    "        if not os.path.isdir(output_dir + \"/stacked\" + \"/\" + date):\n",
    "            os.mkdir(output_dir + \"/stacked\" + \"/\" + date)    \n",
    "        output_folder = output_dir + \"/stacked\" + \"/\" + date + \"/\"\n",
    "        output_file = output_folder + filename + \".tif\"\n",
    "        gdal.Warp(destNameOrDestDS = output_file, \n",
    "                  srcDSOrSrcDSTab = path, \n",
    "                  cropToCutline = True, \n",
    "                  cutlineDSName = study_area)"
   ]
  }
 ],
 "metadata": {
  "kernelspec": {
   "display_name": "Python 3",
   "language": "python",
   "name": "python3"
  },
  "language_info": {
   "codemirror_mode": {
    "name": "ipython",
    "version": 3
   },
   "file_extension": ".py",
   "mimetype": "text/x-python",
   "name": "python",
   "nbconvert_exporter": "python",
   "pygments_lexer": "ipython3",
   "version": "3.6.0"
  }
 },
 "nbformat": 4,
 "nbformat_minor": 2
}
