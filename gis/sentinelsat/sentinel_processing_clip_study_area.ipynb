{
 "cells": [
  {
   "cell_type": "markdown",
   "metadata": {},
   "source": [
    "# Working with sentinel-2 data"
   ]
  },
  {
   "cell_type": "markdown",
   "metadata": {},
   "source": [
    "## AIM"
   ]
  },
  {
   "cell_type": "markdown",
   "metadata": {},
   "source": [
    "The aim is to batch clip processed sentinel imagery with the extend of the study area"
   ]
  },
  {
   "cell_type": "markdown",
   "metadata": {},
   "source": [
    "## DATA MANAGMENT"
   ]
  },
  {
   "cell_type": "code",
   "execution_count": 1,
   "metadata": {
    "collapsed": true
   },
   "outputs": [],
   "source": [
    "import os\n",
    "from glob import glob\n",
    "\n",
    "# import gui tkinter\n",
    "from tkinter import Tk\n",
    "import tkinter.filedialog as tkfd"
   ]
  },
  {
   "cell_type": "markdown",
   "metadata": {},
   "source": [
    "### Set input and output directories"
   ]
  },
  {
   "cell_type": "markdown",
   "metadata": {},
   "source": [
    "A **tkinter GUI** is loaded:\n",
    "- to locate and select the **input directory**,\n",
    "- to define the **output directory**, and\n",
    "- to locate a GeoJSON file, defining the **bouding box of the study area**.\n",
    "\n",
    "The tkinter input is printed to the console."
   ]
  },
  {
   "cell_type": "code",
   "execution_count": 2,
   "metadata": {},
   "outputs": [
    {
     "name": "stdout",
     "output_type": "stream",
     "text": [
      "The selected input folder is:\n",
      "- C:/SS\n",
      " \n",
      "The selected output folder is:\n",
      "- C:/SSClip\n",
      " \n",
      "The selected study area bounding box is located at:\n",
      "- C:/WERKMAP/Anaconda/sentinelsat/geojson/Sentinelsat.geojson\n"
     ]
    }
   ],
   "source": [
    "# tkinter GUI\n",
    "root = Tk()\n",
    "input_dir = tkfd.askdirectory(title = \"Select input folder\", initialdir = \"C:/\")\n",
    "output_dir = tkfd.askdirectory(title = \"Select output folder\", initialdir = \"C:/\")\n",
    "study_area = tkfd.askopenfilename(title = \"Select extend study area\", \n",
    "                                  initialdir = \"C:/\", \n",
    "                                  filetypes = ((\"GeoJSON\", \"*.geojson\"), (\"all files\", \"*.*\")))\n",
    "root.destroy()\n",
    "\n",
    "# print statements: tkinter input is printed to the console\n",
    "print(\"The selected input folder is:\")\n",
    "print(\"-\", input_dir)\n",
    "print(\" \")\n",
    "print(\"The selected output folder is:\")\n",
    "print(\"-\", output_dir)\n",
    "print(\" \")\n",
    "print(\"The selected study area bounding box is located at:\")\n",
    "print(\"-\", study_area)"
   ]
  },
  {
   "cell_type": "markdown",
   "metadata": {},
   "source": [
    "## CLIPPING with STUDY AREA"
   ]
  },
  {
   "cell_type": "code",
   "execution_count": 3,
   "metadata": {
    "collapsed": true
   },
   "outputs": [],
   "source": [
    "import osgeo\n",
    "from osgeo import gdal\n",
    "from rasterstats import zonal_stats"
   ]
  },
  {
   "cell_type": "code",
   "execution_count": 4,
   "metadata": {
    "collapsed": true
   },
   "outputs": [],
   "source": [
    "# Enable GDAL/OGR exceptions and set GDAL data\n",
    "gdal.UseExceptions()\n",
    "osgeo.gdal.SetConfigOption(\"GDAL_DATA\", \"C:/Users/jeroen.dereu@inbo.be/Software/gdal-2.1.3/data\")"
   ]
  },
  {
   "cell_type": "markdown",
   "metadata": {},
   "source": [
    "### Check for NO DATA"
   ]
  },
  {
   "cell_type": "code",
   "execution_count": 5,
   "metadata": {},
   "outputs": [
    {
     "name": "stdout",
     "output_type": "stream",
     "text": [
      "Checking 8 datasets for data/no data within the study area bounding box...\n",
      "- C:/SS/20160703/ : No data within the study area, folder is dropped from the selection.\n",
      "- C:/SS/20160707/ : No data within the study area, folder is dropped from the selection.\n",
      "+ C:/SS/20160720/ : Data within study area, folder is kept for further processing!\n",
      "- C:/SS/20160723/ : No data within the study area, folder is dropped from the selection.\n",
      "+ C:/SS/20160809/ : Data within study area, folder is kept for further processing!\n",
      "+ C:/SS/20160812/ : Data within study area, folder is kept for further processing!\n",
      "+ C:/SS/20160822/ : Data within study area, folder is kept for further processing!\n",
      "- C:/SS/20160826/ : No data within the study area, folder is dropped from the selection.\n",
      " \n",
      "SUMMARY\n",
      "---\n",
      "4 datasets contain no data and are dropped from the selection:\n",
      "- C:/SS/20160703/\n",
      "- C:/SS/20160707/\n",
      "- C:/SS/20160723/\n",
      "- C:/SS/20160826/\n",
      " \n",
      "Processing will continue with 4 datasets:\n",
      "+ C:/SS/20160720/\n",
      "+ C:/SS/20160809/\n",
      "+ C:/SS/20160812/\n",
      "+ C:/SS/20160822/\n"
     ]
    }
   ],
   "source": [
    "folders_to_check = []\n",
    "folders_to_check_count = 0\n",
    "for filename in os.listdir(input_dir):\n",
    "    folder = input_dir + \"/\" + filename + \"/\"\n",
    "    folders_to_check.append(folder)\n",
    "    folders_to_check_count = folders_to_check_count + 1\n",
    "\n",
    "print(\"Checking\", folders_to_check_count, \"datasets for data/no data within the study area bounding box...\")\n",
    "\n",
    "folders_to_process = []\n",
    "folders_to_process_count = 0\n",
    "no_action_folders = []\n",
    "no_action_folders_count = 0\n",
    "for folder in folders_to_check:\n",
    "    for path in glob(os.path.join(folder, \"**\", \"*overview.tif\"), recursive = True):\n",
    "        mean = zonal_stats(study_area, path, stats = \"mean\", nodata = 0)\n",
    "        if mean != [{'mean': None}]:\n",
    "            print(\"+\", folder, \": Data within study area, folder is kept for further processing!\")\n",
    "            folders_to_process.append(folder)\n",
    "            folders_to_process_count = folders_to_process_count + 1\n",
    "        else:\n",
    "            print(\"-\", folder, \": No data within the study area, folder is dropped from the selection.\")\n",
    "            no_action_folders.append(folder)\n",
    "            no_action_folders_count = no_action_folders_count + 1\n",
    "            \n",
    "print(\" \")\n",
    "print(\"SUMMARY\")\n",
    "print(\"---\")\n",
    "print(no_action_folders_count, \"datasets contain no data and are dropped from the selection:\")\n",
    "for no_action_folder in no_action_folders:\n",
    "    print(\"-\", no_action_folder)\n",
    "print(\" \")\n",
    "print(\"Processing will continue with\", folders_to_process_count, \"datasets:\")\n",
    "for folder_to_process in folders_to_process:\n",
    "    print(\"+\", folder_to_process)"
   ]
  },
  {
   "cell_type": "markdown",
   "metadata": {},
   "source": [
    "### Clip bands"
   ]
  },
  {
   "cell_type": "code",
   "execution_count": 6,
   "metadata": {},
   "outputs": [
    {
     "name": "stdout",
     "output_type": "stream",
     "text": [
      "Start clipping bands in C:/SS/20160720/ ...\n",
      "Finished clipping bands in C:/SS/20160720/ !\n",
      "Start clipping bands in C:/SS/20160809/ ...\n",
      "Finished clipping bands in C:/SS/20160809/ !\n",
      "Start clipping bands in C:/SS/20160812/ ...\n",
      "Finished clipping bands in C:/SS/20160812/ !\n",
      "Start clipping bands in C:/SS/20160822/ ...\n",
      "Finished clipping bands in C:/SS/20160822/ !\n",
      "All datastes processed. Finished clipping bands!\n"
     ]
    }
   ],
   "source": [
    "for folder in folders_to_process:\n",
    "    print(\"Start clipping bands in\", folder, \"...\")\n",
    "    for path in glob(os.path.join(folder, \"merged_bands\", \"*.tif\"), recursive = True):\n",
    "        basename = os.path.basename(path)\n",
    "        filename, file_extention = os.path.splitext(basename)\n",
    "        date = filename[0:7]\n",
    "        if not os.path.isdir(output_dir + \"/\" + date):\n",
    "            os.mkdir(output_dir + \"/\" + date)\n",
    "        if not os.path.isdir(output_dir + \"/\" + date + \"/merged_bands\"):\n",
    "            os.mkdir(output_dir + \"/\" + date + \"/merged_bands\")    \n",
    "        output_folder = output_dir + \"/\" + date + \"/merged_bands\" + \"/\"\n",
    "        output_file = output_folder + filename + \".tif\"\n",
    "        gdal.Warp(destNameOrDestDS = output_file, \n",
    "                  srcDSOrSrcDSTab = path, \n",
    "                  cropToCutline = True, \n",
    "                  cutlineDSName = study_area)\n",
    "    print(\"Finished clipping bands in\", folder, \"!\")\n",
    "print(\"All datastes processed. Finished clipping bands!\")"
   ]
  },
  {
   "cell_type": "markdown",
   "metadata": {},
   "source": [
    "### Clip RGB"
   ]
  },
  {
   "cell_type": "code",
   "execution_count": 7,
   "metadata": {},
   "outputs": [
    {
     "name": "stdout",
     "output_type": "stream",
     "text": [
      "Start clipping RGB-image in C:/SS/20160720/ ...\n",
      "Finished clipping RGB-image in C:/SS/20160720/ !\n",
      "Start clipping RGB-image in C:/SS/20160809/ ...\n",
      "Finished clipping RGB-image in C:/SS/20160809/ !\n",
      "Start clipping RGB-image in C:/SS/20160812/ ...\n",
      "Finished clipping RGB-image in C:/SS/20160812/ !\n",
      "Start clipping RGB-image in C:/SS/20160822/ ...\n",
      "Finished clipping RGB-image in C:/SS/20160822/ !\n",
      "All datastes processed. Finished clipping RGB-imagery!\n"
     ]
    }
   ],
   "source": [
    "for folder in folders_to_process:\n",
    "    print(\"Start clipping RGB-image in\", folder, \"...\")\n",
    "    for path in glob(os.path.join(folder, \"RGB\", \"*.tif\"), recursive = True):\n",
    "        basename = os.path.basename(path)\n",
    "        filename, file_extention = os.path.splitext(basename)\n",
    "        date = filename[0:7]\n",
    "        if not os.path.isdir(output_dir + \"/\" + date):\n",
    "            os.mkdir(output_dir + \"/\" + date)\n",
    "        if not os.path.isdir(output_dir + \"/\" + date + \"/RGB\"):\n",
    "            os.mkdir(output_dir + \"/\" + date + \"/RGB\")    \n",
    "        output_folder = output_dir + \"/\" + date + \"/RGB\" + \"/\"\n",
    "        output_file = output_folder + filename + \".tif\"\n",
    "        gdal.Warp(destNameOrDestDS = output_file, \n",
    "                  srcDSOrSrcDSTab = path, \n",
    "                  cropToCutline = True, \n",
    "                  cutlineDSName = study_area)\n",
    "    print(\"Finished clipping RGB-image in\", folder, \"!\")\n",
    "print(\"All datastes processed. Finished clipping RGB-imagery!\")"
   ]
  },
  {
   "cell_type": "markdown",
   "metadata": {},
   "source": [
    "### Clip NDVI"
   ]
  },
  {
   "cell_type": "code",
   "execution_count": 8,
   "metadata": {},
   "outputs": [
    {
     "name": "stdout",
     "output_type": "stream",
     "text": [
      "Start clipping NDVI-image in C:/SS/20160720/ ...\n",
      "Finished clipping NDVI-image in C:/SS/20160720/ !\n",
      "Start clipping NDVI-image in C:/SS/20160809/ ...\n",
      "Finished clipping NDVI-image in C:/SS/20160809/ !\n",
      "Start clipping NDVI-image in C:/SS/20160812/ ...\n",
      "Finished clipping NDVI-image in C:/SS/20160812/ !\n",
      "Start clipping NDVI-image in C:/SS/20160822/ ...\n",
      "Finished clipping NDVI-image in C:/SS/20160822/ !\n",
      "All datastes processed. Finished clipping NDVI-imagery!\n"
     ]
    }
   ],
   "source": [
    "for folder in folders_to_process:\n",
    "    print(\"Start clipping NDVI-image in\", folder, \"...\")\n",
    "    for path in glob(os.path.join(folder, \"NDVI\", \"*.tif\"), recursive = True):\n",
    "        basename = os.path.basename(path)\n",
    "        filename, file_extention = os.path.splitext(basename)\n",
    "        date = filename[0:7]\n",
    "        if not os.path.isdir(output_dir + \"/\" + date):\n",
    "            os.mkdir(output_dir + \"/\" + date)\n",
    "        if not os.path.isdir(output_dir + \"/\" + date + \"/NDVI\"):\n",
    "            os.mkdir(output_dir + \"/\" + date + \"/NDVI\")    \n",
    "        output_folder = output_dir + \"/\" + date + \"/NDVI\" + \"/\"\n",
    "        output_file = output_folder + filename + \".tif\"\n",
    "        gdal.Warp(destNameOrDestDS = output_file, \n",
    "                  srcDSOrSrcDSTab = path, \n",
    "                  cropToCutline = True, \n",
    "                  cutlineDSName = study_area)\n",
    "    print(\"Finished clipping NDVI-image in\", folder, \"!\")\n",
    "print(\"All datastes processed. Finished clipping NDVI-imagery!\")"
   ]
  },
  {
   "cell_type": "code",
   "execution_count": 9,
   "metadata": {},
   "outputs": [
    {
     "name": "stdout",
     "output_type": "stream",
     "text": [
      "All clipping done, process finished!\n"
     ]
    }
   ],
   "source": [
    "print(\"All clipping done, process finished!\")"
   ]
  }
 ],
 "metadata": {
  "kernelspec": {
   "display_name": "Python 3",
   "language": "python",
   "name": "python3"
  },
  "language_info": {
   "codemirror_mode": {
    "name": "ipython",
    "version": 3
   },
   "file_extension": ".py",
   "mimetype": "text/x-python",
   "name": "python",
   "nbconvert_exporter": "python",
   "pygments_lexer": "ipython3",
   "version": "3.5.3"
  }
 },
 "nbformat": 4,
 "nbformat_minor": 2
}
