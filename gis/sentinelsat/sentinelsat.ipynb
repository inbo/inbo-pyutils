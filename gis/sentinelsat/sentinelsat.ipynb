{
 "cells": [
  {
   "cell_type": "code",
   "execution_count": 4,
   "metadata": {
    "collapsed": true
   },
   "outputs": [],
   "source": [
    "from sentinelsat.sentinel import SentinelAPI, read_geojson, geojson_to_wkt"
   ]
  },
  {
   "cell_type": "code",
   "execution_count": 5,
   "metadata": {
    "collapsed": true
   },
   "outputs": [],
   "source": [
    "user = \"jeroendereu\"\n",
    "password = \"***********\""
   ]
  },
  {
   "cell_type": "code",
   "execution_count": 6,
   "metadata": {
    "collapsed": true
   },
   "outputs": [],
   "source": [
    "api = SentinelAPI(user, password, \"https://scihub.copernicus.eu/dhus\")"
   ]
  },
  {
   "cell_type": "code",
   "execution_count": 105,
   "metadata": {
    "collapsed": false,
    "scrolled": true
   },
   "outputs": [
    {
     "name": "stderr",
     "output_type": "stream",
     "text": [
      "Downloading: 100%|██████████████████████████| 483M/483M [06:27<00:00, 1.54MB/s]\n"
     ]
    },
    {
     "data": {
      "text/plain": [
       "{'date': datetime.datetime(2017, 3, 30, 10, 56, 21, 26000),\n",
       " 'downloaded_bytes': 483267019,\n",
       " 'footprint': 'POLYGON((3.878085340859089 51.445265877430046,3.811160567513305 51.31587185266105,3.737128263614465 51.17179727196963,3.663254134732998 51.027598036949335,3.590018293627545 50.88343913481603,3.517122259906812 50.739215231097845,3.444484482098213 50.594938238327,3.378073272626582 50.46128492214912,2.999718211669176 50.46379840175528,2.999712175851301 51.45118220579359,3.878085340859089 51.445265877430046,3.878085340859089 51.445265877430046))',\n",
       " 'id': '8dd7d819-d02d-42f9-a645-c161851ba2da',\n",
       " 'md5': '46D6FE01003FA02C1DA0693DB77D9B48',\n",
       " 'path': '.\\\\S2A_MSIL2A_20170330T105621_N0204_R094_T31UES_20170330T110334.zip',\n",
       " 'size': 483267019,\n",
       " 'title': 'S2A_MSIL2A_20170330T105621_N0204_R094_T31UES_20170330T110334',\n",
       " 'url': \"https://scihub.copernicus.eu/dhus/odata/v1/Products('8dd7d819-d02d-42f9-a645-c161851ba2da')/$value\"}"
      ]
     },
     "execution_count": 105,
     "metadata": {},
     "output_type": "execute_result"
    }
   ],
   "source": [
    "api.download(\"8dd7d819-d02d-42f9-a645-c161851ba2da\")"
   ]
  },
  {
   "cell_type": "code",
   "execution_count": 106,
   "metadata": {
    "collapsed": false
   },
   "outputs": [
    {
     "data": {
      "text/plain": [
       "{'date': datetime.datetime(2017, 3, 30, 10, 56, 21, 26000),\n",
       " 'footprint': 'POLYGON((3.878085340859089 51.445265877430046,3.811160567513305 51.31587185266105,3.737128263614465 51.17179727196963,3.663254134732998 51.027598036949335,3.590018293627545 50.88343913481603,3.517122259906812 50.739215231097845,3.444484482098213 50.594938238327,3.378073272626582 50.46128492214912,2.999718211669176 50.46379840175528,2.999712175851301 51.45118220579359,3.878085340859089 51.445265877430046,3.878085340859089 51.445265877430046))',\n",
       " 'id': '8dd7d819-d02d-42f9-a645-c161851ba2da',\n",
       " 'md5': '46D6FE01003FA02C1DA0693DB77D9B48',\n",
       " 'size': 483267019,\n",
       " 'title': 'S2A_MSIL2A_20170330T105621_N0204_R094_T31UES_20170330T110334',\n",
       " 'url': \"https://scihub.copernicus.eu/dhus/odata/v1/Products('8dd7d819-d02d-42f9-a645-c161851ba2da')/$value\"}"
      ]
     },
     "execution_count": 106,
     "metadata": {},
     "output_type": "execute_result"
    }
   ],
   "source": [
    "api.get_product_odata(\"8dd7d819-d02d-42f9-a645-c161851ba2da\")"
   ]
  },
  {
   "cell_type": "code",
   "execution_count": 107,
   "metadata": {
    "collapsed": false
   },
   "outputs": [
    {
     "data": {
      "text/plain": [
       "{'Aot retrieval accuracy': 0.0,\n",
       " 'Bare soils percentage': 25.730711,\n",
       " 'Cloud cover percentage': 2.187012,\n",
       " 'Cloud shadow percentage': 0.094218,\n",
       " 'Dark features percentage': 2.214143,\n",
       " 'Date': datetime.datetime(2017, 3, 30, 10, 56, 21, 26000),\n",
       " 'Degraded MSI data percentage': 0,\n",
       " 'Degraded ancillary data percentage': 0,\n",
       " 'Filename': 'S2A_MSIL2A_20170330T105621_N0204_R094_T31UES_20170330T110334.SAFE',\n",
       " 'Footprint': '<gml:Polygon srsName=\"http://www.opengis.net/gml/srs/epsg.xml#4326\" xmlns:gml=\"http://www.opengis.net/gml\">\\n   <gml:outerBoundaryIs>\\n      <gml:LinearRing>\\n         <gml:coordinates>51.445265877430046,3.878085340859089 51.31587185266105,3.811160567513305 51.17179727196963,3.737128263614465 51.027598036949335,3.663254134732998 50.88343913481603,3.590018293627545 50.739215231097845,3.517122259906812 50.594938238327,3.444484482098213 50.46128492214912,3.378073272626582 50.46379840175528,2.999718211669176 51.45118220579359,2.999712175851301 51.445265877430046,3.878085340859089 51.445265877430046,3.878085340859089</gml:coordinates>\\n      </gml:LinearRing>\\n   </gml:outerBoundaryIs>\\n</gml:Polygon>',\n",
       " 'Format': 'SAFE',\n",
       " 'Format correctness': 'PASSED',\n",
       " 'General quality': 'PASSED',\n",
       " 'Generation time': datetime.datetime(2017, 4, 1, 4, 34, 56),\n",
       " 'Geometric quality': 'PASSED',\n",
       " 'High proba clouds percentage': 0.12139,\n",
       " 'Identifier': 'S2A_MSIL2A_20170330T105621_N0204_R094_T31UES_20170330T110334',\n",
       " 'Ingestion Date': datetime.datetime(2017, 4, 1, 16, 0, 36, 139000),\n",
       " 'Instrument': 'MSI',\n",
       " 'Instrument abbreviation': 'MSI',\n",
       " 'Instrument mode': 'INS-NOBS',\n",
       " 'Instrument name': 'Multi-Spectral Instrument',\n",
       " 'JTS footprint': 'POLYGON ((3.878085340859089 51.445265877430046,3.811160567513305 51.31587185266105,3.737128263614465 51.17179727196963,3.663254134732998 51.027598036949335,3.590018293627545 50.88343913481603,3.517122259906812 50.739215231097845,3.444484482098213 50.594938238327,3.378073272626582 50.46128492214912,2.999718211669176 50.46379840175528,2.999712175851301 51.45118220579359,3.878085340859089 51.445265877430046,3.878085340859089 51.445265877430046))',\n",
       " 'Low proba clouds percentage': 5.715749,\n",
       " 'Medium proba clouds percentage': 0.411202,\n",
       " 'Mission datatake id': 'GS2A_20170330T105621_009243_N02.04',\n",
       " 'NSSDC identifier': '2015-000A',\n",
       " 'No data pixel percentage': 59.619678,\n",
       " 'Orbit number (start)': 9243,\n",
       " 'Pass direction': 'DESCENDING',\n",
       " 'Platform serial identifier': 'Sentinel-2A',\n",
       " 'Processing baseline': 2.04,\n",
       " 'Processing level': 'Level-2Ap',\n",
       " 'Product type': 'S2MSI2Ap',\n",
       " 'Radiative transfer acurray': 0.0,\n",
       " 'Radiometric quality': 'PASSED',\n",
       " 'Relative orbit (start)': 94,\n",
       " 'Satellite': 'Sentinel-2',\n",
       " 'Satellite name': 'Sentinel-2',\n",
       " 'Satellite number': 'A',\n",
       " 'Saturated defective pixel percentage': 0.003393,\n",
       " 'Sensing start': datetime.datetime(2017, 3, 30, 10, 56, 21, 26000),\n",
       " 'Sensing stop': datetime.datetime(2017, 3, 30, 10, 56, 21, 26000),\n",
       " 'Sensor quality': 'PASSED',\n",
       " 'Size': '482.90 MB',\n",
       " 'Snow ice percentage': 0.000715,\n",
       " 'Thin cirrus percentage': 1.65442,\n",
       " 'Vegetation percentage': 53.193634,\n",
       " 'Water percentage': 10.860421,\n",
       " 'Water vapour retrieval accuracy': 0.0,\n",
       " 'date': datetime.datetime(2017, 3, 30, 10, 56, 21, 26000),\n",
       " 'footprint': 'POLYGON((3.878085340859089 51.445265877430046,3.811160567513305 51.31587185266105,3.737128263614465 51.17179727196963,3.663254134732998 51.027598036949335,3.590018293627545 50.88343913481603,3.517122259906812 50.739215231097845,3.444484482098213 50.594938238327,3.378073272626582 50.46128492214912,2.999718211669176 50.46379840175528,2.999712175851301 51.45118220579359,3.878085340859089 51.445265877430046,3.878085340859089 51.445265877430046))',\n",
       " 'id': '8dd7d819-d02d-42f9-a645-c161851ba2da',\n",
       " 'md5': '46D6FE01003FA02C1DA0693DB77D9B48',\n",
       " 'size': 483267019,\n",
       " 'title': 'S2A_MSIL2A_20170330T105621_N0204_R094_T31UES_20170330T110334',\n",
       " 'url': \"https://scihub.copernicus.eu/dhus/odata/v1/Products('8dd7d819-d02d-42f9-a645-c161851ba2da')/$value\"}"
      ]
     },
     "execution_count": 107,
     "metadata": {},
     "output_type": "execute_result"
    }
   ],
   "source": [
    "api.get_product_odata(\"8dd7d819-d02d-42f9-a645-c161851ba2da\", full=True)"
   ]
  },
  {
   "cell_type": "code",
   "execution_count": 29,
   "metadata": {
    "collapsed": true
   },
   "outputs": [],
   "source": [
    "from geojson import Polygon\n",
    "import matplotlib.pyplot as plt\n",
    "%matplotlib inline"
   ]
  },
  {
   "cell_type": "code",
   "execution_count": 66,
   "metadata": {
    "collapsed": false
   },
   "outputs": [],
   "source": [
    "footprint = geojson_to_wkt(read_geojson(\"C:/WERKMAP/Anaconda/sentinelsat/Sentinelsat.geojson\"))"
   ]
  },
  {
   "cell_type": "code",
   "execution_count": 70,
   "metadata": {
    "collapsed": false
   },
   "outputs": [
    {
     "data": {
      "text/plain": [
       "'POLYGON ((3.5550000 51.1800000, 3.6500000 51.1800000, 3.6500000 51.1150000, 3.5550000 51.1150000, 3.5550000 51.1800000))'"
      ]
     },
     "execution_count": 70,
     "metadata": {},
     "output_type": "execute_result"
    }
   ],
   "source": [
    "footprint"
   ]
  },
  {
   "cell_type": "code",
   "execution_count": 103,
   "metadata": {
    "collapsed": false
   },
   "outputs": [],
   "source": [
    "products = api.query(footprint, '20170101', 'NOW', platformname = 'Sentinel-2', processinglevel = 'Level-2Ap', cloudcoverpercentage = '[0 TO 30]')"
   ]
  },
  {
   "cell_type": "code",
   "execution_count": 104,
   "metadata": {
    "collapsed": false
   },
   "outputs": [
    {
     "data": {
      "text/plain": [
       "OrderedDict([('48728576-5565-4594-900d-084a7d806212',\n",
       "              {'baresoilpercentage': 21.818556,\n",
       "               'beginposition': datetime.datetime(2017, 5, 29, 10, 56, 21, 26000),\n",
       "               'cloudcoverpercentage': 16.381376,\n",
       "               'endposition': datetime.datetime(2017, 5, 29, 10, 56, 21, 26000),\n",
       "               'filename': 'S2A_MSIL2A_20170529T105621_N0205_R094_T31UES_20170529T110523.SAFE',\n",
       "               'footprint': 'POLYGON ((3.862833210684212 51.445368608950034,3.811772021738506 51.346545787368974,3.737544046256364 51.20245922243156,3.663655612245543 51.05826903501925,3.590183728062112 50.913947670667646,3.517124839920729 50.769608563959295,3.44469709115523 50.6252486700904,3.372683447611854 50.48098760882046,3.362944564494567 50.461385424833715,2.999718211669176 50.46379840175528,2.999712175851301 51.45118220579359,3.862833210684212 51.445368608950034))',\n",
       "               'format': 'SAFE',\n",
       "               'gmlfootprint': '<gml:Polygon srsName=\"http://www.opengis.net/gml/srs/epsg.xml#4326\" xmlns:gml=\"http://www.opengis.net/gml\">\\n   <gml:outerBoundaryIs>\\n      <gml:LinearRing>\\n         <gml:coordinates>51.445368608950034,3.862833210684212 51.346545787368974,3.811772021738506 51.20245922243156,3.737544046256364 51.05826903501925,3.663655612245543 50.913947670667646,3.590183728062112 50.769608563959295,3.517124839920729 50.6252486700904,3.44469709115523 50.48098760882046,3.372683447611854 50.461385424833715,3.362944564494567 50.46379840175528,2.999718211669176 51.45118220579359,2.999712175851301 51.445368608950034,3.862833210684212</gml:coordinates>\\n      </gml:LinearRing>\\n   </gml:outerBoundaryIs>\\n</gml:Polygon>',\n",
       "               'highprobacloudspercentage': 0.18963,\n",
       "               'identifier': 'S2A_MSIL2A_20170529T105621_N0205_R094_T31UES_20170529T110523',\n",
       "               'ingestiondate': datetime.datetime(2017, 5, 31, 14, 2, 6, 743000),\n",
       "               'instrumentname': 'Multi-Spectral Instrument',\n",
       "               'instrumentshortname': 'MSI',\n",
       "               'link': \"https://scihub.copernicus.eu/dhus/odata/v1/Products('48728576-5565-4594-900d-084a7d806212')/$value\",\n",
       "               'link_alternative': \"https://scihub.copernicus.eu/dhus/odata/v1/Products('48728576-5565-4594-900d-084a7d806212')/\",\n",
       "               'link_icon': \"https://scihub.copernicus.eu/dhus/odata/v1/Products('48728576-5565-4594-900d-084a7d806212')/Products('Quicklook')/$value\",\n",
       "               'lowprobacloudspercentage': 4.829202,\n",
       "               'mediumprobacloudspercentage': 4.782668,\n",
       "               'orbitdirection': 'DESCENDING',\n",
       "               'orbitnumber': 10101,\n",
       "               'platformidentifier': '2015-000A',\n",
       "               'platformname': 'Sentinel-2',\n",
       "               'platformserialidentifier': 'Sentinel-2A',\n",
       "               'processingbaseline': '02.05',\n",
       "               'processinglevel': 'Level-2Ap',\n",
       "               'producttype': 'S2MSI2Ap',\n",
       "               'relativeorbitnumber': 94,\n",
       "               's2datatakeid': 'GS2A_20170529T105621_010101_N02.05',\n",
       "               'sensoroperationalmode': 'INS-NOBS',\n",
       "               'size': '470.69 MB',\n",
       "               'snowicepercentage': 0.000135,\n",
       "               'summary': 'Date: 2017-05-29T10:56:21.026Z, Instrument: MSI, Mode: , Satellite: Sentinel-2, Size: 470.69 MB',\n",
       "               'title': 'S2A_MSIL2A_20170529T105621_N0205_R094_T31UES_20170529T110523',\n",
       "               'uuid': '48728576-5565-4594-900d-084a7d806212',\n",
       "               'vegetationpercentage': 48.028954,\n",
       "               'waterpercentage': 7.817751}),\n",
       "             ('95681cce-51b1-4842-b045-8244a849df6e',\n",
       "              {'baresoilpercentage': 22.262596,\n",
       "               'beginposition': datetime.datetime(2017, 5, 6, 10, 50, 31, 26000),\n",
       "               'cloudcoverpercentage': 7.195364,\n",
       "               'endposition': datetime.datetime(2017, 5, 6, 10, 50, 31, 26000),\n",
       "               'filename': 'S2A_MSIL2A_20170506T105031_N0205_R051_T31UES_20170506T105029.SAFE',\n",
       "               'footprint': 'POLYGON ((2.999712175851301 51.45118220579359,4.579544021469633 51.44054116582309,4.546436441462649 50.453523278919015,2.999718211669176 50.46379840175528,2.999712175851301 51.45118220579359,2.999712175851301 51.45118220579359))',\n",
       "               'format': 'SAFE',\n",
       "               'gmlfootprint': '<gml:Polygon srsName=\"http://www.opengis.net/gml/srs/epsg.xml#4326\" xmlns:gml=\"http://www.opengis.net/gml\">\\n   <gml:outerBoundaryIs>\\n      <gml:LinearRing>\\n         <gml:coordinates>51.45118220579359,2.999712175851301 51.44054116582309,4.579544021469633 50.453523278919015,4.546436441462649 50.46379840175528,2.999718211669176 51.45118220579359,2.999712175851301 51.45118220579359,2.999712175851301</gml:coordinates>\\n      </gml:LinearRing>\\n   </gml:outerBoundaryIs>\\n</gml:Polygon>',\n",
       "               'highprobacloudspercentage': 0.205331,\n",
       "               'identifier': 'S2A_MSIL2A_20170506T105031_N0205_R051_T31UES_20170506T105029',\n",
       "               'ingestiondate': datetime.datetime(2017, 5, 30, 14, 40, 48, 5000),\n",
       "               'instrumentname': 'Multi-Spectral Instrument',\n",
       "               'instrumentshortname': 'MSI',\n",
       "               'link': \"https://scihub.copernicus.eu/dhus/odata/v1/Products('95681cce-51b1-4842-b045-8244a849df6e')/$value\",\n",
       "               'link_alternative': \"https://scihub.copernicus.eu/dhus/odata/v1/Products('95681cce-51b1-4842-b045-8244a849df6e')/\",\n",
       "               'link_icon': \"https://scihub.copernicus.eu/dhus/odata/v1/Products('95681cce-51b1-4842-b045-8244a849df6e')/Products('Quicklook')/$value\",\n",
       "               'lowprobacloudspercentage': 5.860929,\n",
       "               'mediumprobacloudspercentage': 1.311154,\n",
       "               'orbitdirection': 'DESCENDING',\n",
       "               'orbitnumber': 9772,\n",
       "               'platformidentifier': '2015-000A',\n",
       "               'platformname': 'Sentinel-2',\n",
       "               'platformserialidentifier': 'Sentinel-2A',\n",
       "               'processingbaseline': '02.05',\n",
       "               'processinglevel': 'Level-2Ap',\n",
       "               'producttype': 'S2MSI2Ap',\n",
       "               'relativeorbitnumber': 51,\n",
       "               's2datatakeid': 'GS2A_20170506T105031_009772_N02.05',\n",
       "               'sensoroperationalmode': 'INS-NOBS',\n",
       "               'size': '1.18 GB',\n",
       "               'snowicepercentage': 0.000484,\n",
       "               'summary': 'Date: 2017-05-06T10:50:31.026Z, Instrument: MSI, Mode: , Satellite: Sentinel-2, Size: 1.18 GB',\n",
       "               'title': 'S2A_MSIL2A_20170506T105031_N0205_R051_T31UES_20170506T105029',\n",
       "               'uuid': '95681cce-51b1-4842-b045-8244a849df6e',\n",
       "               'vegetationpercentage': 56.525719,\n",
       "               'waterpercentage': 6.465271}),\n",
       "             ('3148953a-4402-4f9e-9e0c-a65543218339',\n",
       "              {'baresoilpercentage': 26.173529,\n",
       "               'beginposition': datetime.datetime(2017, 5, 26, 10, 50, 31, 26000),\n",
       "               'cloudcoverpercentage': 0.868328,\n",
       "               'endposition': datetime.datetime(2017, 5, 26, 10, 50, 31, 26000),\n",
       "               'filename': 'S2A_MSIL2A_20170526T105031_N0205_R051_T31UES_20170526T105518.SAFE',\n",
       "               'footprint': 'POLYGON ((2.999712175851301 51.45118220579359,4.579544021469633 51.44054116582309,4.546436441462649 50.453523278919015,2.999718211669176 50.46379840175528,2.999712175851301 51.45118220579359))',\n",
       "               'format': 'SAFE',\n",
       "               'gmlfootprint': '<gml:Polygon srsName=\"http://www.opengis.net/gml/srs/epsg.xml#4326\" xmlns:gml=\"http://www.opengis.net/gml\">\\n   <gml:outerBoundaryIs>\\n      <gml:LinearRing>\\n         <gml:coordinates>51.45118220579359,2.999712175851301 51.44054116582309,4.579544021469633 50.453523278919015,4.546436441462649 50.46379840175528,2.999718211669176 51.45118220579359,2.999712175851301</gml:coordinates>\\n      </gml:LinearRing>\\n   </gml:outerBoundaryIs>\\n</gml:Polygon>',\n",
       "               'highprobacloudspercentage': 0.287896,\n",
       "               'identifier': 'S2A_MSIL2A_20170526T105031_N0205_R051_T31UES_20170526T105518',\n",
       "               'ingestiondate': datetime.datetime(2017, 5, 28, 12, 1, 12, 865000),\n",
       "               'instrumentname': 'Multi-Spectral Instrument',\n",
       "               'instrumentshortname': 'MSI',\n",
       "               'link': \"https://scihub.copernicus.eu/dhus/odata/v1/Products('3148953a-4402-4f9e-9e0c-a65543218339')/$value\",\n",
       "               'link_alternative': \"https://scihub.copernicus.eu/dhus/odata/v1/Products('3148953a-4402-4f9e-9e0c-a65543218339')/\",\n",
       "               'link_icon': \"https://scihub.copernicus.eu/dhus/odata/v1/Products('3148953a-4402-4f9e-9e0c-a65543218339')/Products('Quicklook')/$value\",\n",
       "               'lowprobacloudspercentage': 3.760458,\n",
       "               'mediumprobacloudspercentage': 0.580098,\n",
       "               'orbitdirection': 'DESCENDING',\n",
       "               'orbitnumber': 10058,\n",
       "               'platformidentifier': '2015-000A',\n",
       "               'platformname': 'Sentinel-2',\n",
       "               'platformserialidentifier': 'Sentinel-2A',\n",
       "               'processingbaseline': '02.05',\n",
       "               'processinglevel': 'Level-2Ap',\n",
       "               'producttype': 'S2MSI2Ap',\n",
       "               'relativeorbitnumber': 51,\n",
       "               's2datatakeid': 'GS2A_20170526T105031_010058_N02.05',\n",
       "               'sensoroperationalmode': 'INS-NOBS',\n",
       "               'size': '1.22 GB',\n",
       "               'snowicepercentage': 0.000554,\n",
       "               'summary': 'Date: 2017-05-26T10:50:31.026Z, Instrument: MSI, Mode: , Satellite: Sentinel-2, Size: 1.22 GB',\n",
       "               'title': 'S2A_MSIL2A_20170526T105031_N0205_R051_T31UES_20170526T105518',\n",
       "               'uuid': '3148953a-4402-4f9e-9e0c-a65543218339',\n",
       "               'vegetationpercentage': 61.860817,\n",
       "               'waterpercentage': 5.807014}),\n",
       "             ('8dfd9dca-c104-48f2-a2ef-6ed2e628e6ed',\n",
       "              {'baresoilpercentage': 26.973612,\n",
       "               'beginposition': datetime.datetime(2017, 5, 9, 10, 56, 21, 26000),\n",
       "               'cloudcoverpercentage': 5.272337,\n",
       "               'endposition': datetime.datetime(2017, 5, 9, 10, 56, 21, 26000),\n",
       "               'filename': 'S2A_MSIL2A_20170509T105621_N0205_R094_T31UES_20170509T110556.SAFE',\n",
       "               'footprint': 'POLYGON ((3.859566407686504 51.44539061267238,3.817908038202307 51.36478416497307,3.744037450092013 51.22090321470947,3.670835653839908 51.07695541817288,3.597961226990907 50.93288387318727,3.525279397747128 50.788760623918535,3.452722542304311 50.64459201451555,3.380565884179083 50.50029512358918,3.361199333284637 50.4613970187134,2.999718211669176 50.46379840175528,2.999712175851301 51.45118220579359,3.859566407686504 51.44539061267238,3.859566407686504 51.44539061267238))',\n",
       "               'format': 'SAFE',\n",
       "               'gmlfootprint': '<gml:Polygon srsName=\"http://www.opengis.net/gml/srs/epsg.xml#4326\" xmlns:gml=\"http://www.opengis.net/gml\">\\n   <gml:outerBoundaryIs>\\n      <gml:LinearRing>\\n         <gml:coordinates>51.44539061267238,3.859566407686504 51.36478416497307,3.817908038202307 51.22090321470947,3.744037450092013 51.07695541817288,3.670835653839908 50.93288387318727,3.597961226990907 50.788760623918535,3.525279397747128 50.64459201451555,3.452722542304311 50.50029512358918,3.380565884179083 50.4613970187134,3.361199333284637 50.46379840175528,2.999718211669176 51.45118220579359,2.999712175851301 51.44539061267238,3.859566407686504 51.44539061267238,3.859566407686504</gml:coordinates>\\n      </gml:LinearRing>\\n   </gml:outerBoundaryIs>\\n</gml:Polygon>',\n",
       "               'highprobacloudspercentage': 3.62506,\n",
       "               'identifier': 'S2A_MSIL2A_20170509T105621_N0205_R094_T31UES_20170509T110556',\n",
       "               'ingestiondate': datetime.datetime(2017, 5, 19, 10, 30, 38, 871000),\n",
       "               'instrumentname': 'Multi-Spectral Instrument',\n",
       "               'instrumentshortname': 'MSI',\n",
       "               'link': \"https://scihub.copernicus.eu/dhus/odata/v1/Products('8dfd9dca-c104-48f2-a2ef-6ed2e628e6ed')/$value\",\n",
       "               'link_alternative': \"https://scihub.copernicus.eu/dhus/odata/v1/Products('8dfd9dca-c104-48f2-a2ef-6ed2e628e6ed')/\",\n",
       "               'link_icon': \"https://scihub.copernicus.eu/dhus/odata/v1/Products('8dfd9dca-c104-48f2-a2ef-6ed2e628e6ed')/Products('Quicklook')/$value\",\n",
       "               'lowprobacloudspercentage': 4.41959,\n",
       "               'mediumprobacloudspercentage': 1.646896,\n",
       "               'orbitdirection': 'DESCENDING',\n",
       "               'orbitnumber': 9815,\n",
       "               'platformidentifier': '2015-000A',\n",
       "               'platformname': 'Sentinel-2',\n",
       "               'platformserialidentifier': 'Sentinel-2A',\n",
       "               'processingbaseline': '02.05',\n",
       "               'processinglevel': 'Level-2Ap',\n",
       "               'producttype': 'S2MSI2Ap',\n",
       "               'relativeorbitnumber': 94,\n",
       "               's2datatakeid': 'GS2A_20170509T105621_009815_N02.05',\n",
       "               'sensoroperationalmode': 'INS-NOBS',\n",
       "               'size': '485.63 MB',\n",
       "               'snowicepercentage': 0.012391,\n",
       "               'summary': 'Date: 2017-05-09T10:56:21.026Z, Instrument: MSI, Mode: , Satellite: Sentinel-2, Size: 485.63 MB',\n",
       "               'title': 'S2A_MSIL2A_20170509T105621_N0205_R094_T31UES_20170509T110556',\n",
       "               'uuid': '8dfd9dca-c104-48f2-a2ef-6ed2e628e6ed',\n",
       "               'vegetationpercentage': 49.41259,\n",
       "               'waterpercentage': 10.122877}),\n",
       "             ('766f0a81-421d-4f9d-b112-0a9003f5485d',\n",
       "              {'baresoilpercentage': 23.34104,\n",
       "               'beginposition': datetime.datetime(2017, 4, 19, 10, 56, 21, 26000),\n",
       "               'cloudcoverpercentage': 7.63771,\n",
       "               'endposition': datetime.datetime(2017, 4, 19, 10, 56, 21, 26000),\n",
       "               'filename': 'S2A_MSIL2A_20170419T105621_N0204_R094_T31UES_20170419T110601.SAFE',\n",
       "               'footprint': 'POLYGON ((3.863953447471111 51.44536106353661,3.825145943324314 51.37046865877304,3.750716216701229 51.22625470386661,3.676741260054725 51.08203066006613,3.6032876108828 50.93784434622954,3.530581443858251 50.79369176530045,3.458277131418065 50.649579151039376,3.38675005193113 50.505373040262,3.364972522425703 50.461371952750405,2.999718211669176 50.46379840175528,2.999712175851301 51.45118220579359,3.863953447471111 51.44536106353661,3.863953447471111 51.44536106353661))',\n",
       "               'format': 'SAFE',\n",
       "               'gmlfootprint': '<gml:Polygon srsName=\"http://www.opengis.net/gml/srs/epsg.xml#4326\" xmlns:gml=\"http://www.opengis.net/gml\">\\n   <gml:outerBoundaryIs>\\n      <gml:LinearRing>\\n         <gml:coordinates>51.44536106353661,3.863953447471111 51.37046865877304,3.825145943324314 51.22625470386661,3.750716216701229 51.08203066006613,3.676741260054725 50.93784434622954,3.6032876108828 50.79369176530045,3.530581443858251 50.649579151039376,3.458277131418065 50.505373040262,3.38675005193113 50.461371952750405,3.364972522425703 50.46379840175528,2.999718211669176 51.45118220579359,2.999712175851301 51.44536106353661,3.863953447471111 51.44536106353661,3.863953447471111</gml:coordinates>\\n      </gml:LinearRing>\\n   </gml:outerBoundaryIs>\\n</gml:Polygon>',\n",
       "               'highprobacloudspercentage': 1.861597,\n",
       "               'identifier': 'S2A_MSIL2A_20170419T105621_N0204_R094_T31UES_20170419T110601',\n",
       "               'ingestiondate': datetime.datetime(2017, 4, 28, 10, 40, 6, 934000),\n",
       "               'instrumentname': 'Multi-Spectral Instrument',\n",
       "               'instrumentshortname': 'MSI',\n",
       "               'link': \"https://scihub.copernicus.eu/dhus/odata/v1/Products('766f0a81-421d-4f9d-b112-0a9003f5485d')/$value\",\n",
       "               'link_alternative': \"https://scihub.copernicus.eu/dhus/odata/v1/Products('766f0a81-421d-4f9d-b112-0a9003f5485d')/\",\n",
       "               'link_icon': \"https://scihub.copernicus.eu/dhus/odata/v1/Products('766f0a81-421d-4f9d-b112-0a9003f5485d')/Products('Quicklook')/$value\",\n",
       "               'lowprobacloudspercentage': 4.615955,\n",
       "               'mediumprobacloudspercentage': 2.533092,\n",
       "               'orbitdirection': 'DESCENDING',\n",
       "               'orbitnumber': 9529,\n",
       "               'platformidentifier': '2015-000A',\n",
       "               'platformname': 'Sentinel-2',\n",
       "               'platformserialidentifier': 'Sentinel-2A',\n",
       "               'processingbaseline': '02.04',\n",
       "               'processinglevel': 'Level-2Ap',\n",
       "               'producttype': 'S2MSI2Ap',\n",
       "               'relativeorbitnumber': 94,\n",
       "               's2datatakeid': 'GS2A_20170419T105621_009529_N02.04',\n",
       "               'sensoroperationalmode': 'INS-NOBS',\n",
       "               'size': '476.00 MB',\n",
       "               'snowicepercentage': 0.000445,\n",
       "               'summary': 'Date: 2017-04-19T10:56:21.026Z, Instrument: MSI, Mode: , Satellite: Sentinel-2, Size: 476.00 MB',\n",
       "               'title': 'S2A_MSIL2A_20170419T105621_N0204_R094_T31UES_20170419T110601',\n",
       "               'uuid': '766f0a81-421d-4f9d-b112-0a9003f5485d',\n",
       "               'vegetationpercentage': 49.042217,\n",
       "               'waterpercentage': 10.290747}),\n",
       "             ('1de7003b-d56a-4e20-a3fe-337a69f7e9a1',\n",
       "              {'baresoilpercentage': 26.39213,\n",
       "               'beginposition': datetime.datetime(2017, 4, 9, 10, 56, 51, 26000),\n",
       "               'cloudcoverpercentage': 0.523416,\n",
       "               'endposition': datetime.datetime(2017, 4, 9, 10, 56, 51, 26000),\n",
       "               'filename': 'S2A_MSIL2A_20170409T105651_N0204_R094_T31UES_20170409T110529.SAFE',\n",
       "               'footprint': 'POLYGON ((3.871325665219135 51.445311407578636,3.803391066954315 51.31409591774568,3.729447262820655 51.16999615801421,3.656057029907037 51.02589213603053,3.583235534328495 50.88180350444684,3.510750607728446 50.7377090494367,3.438833478538352 50.593605444307016,3.372994026695544 50.461318664478426,2.999718211669176 50.46379840175528,2.999712175851301 51.45118220579359,3.871325665219135 51.445311407578636,3.871325665219135 51.445311407578636))',\n",
       "               'format': 'SAFE',\n",
       "               'gmlfootprint': '<gml:Polygon srsName=\"http://www.opengis.net/gml/srs/epsg.xml#4326\" xmlns:gml=\"http://www.opengis.net/gml\">\\n   <gml:outerBoundaryIs>\\n      <gml:LinearRing>\\n         <gml:coordinates>51.445311407578636,3.871325665219135 51.31409591774568,3.803391066954315 51.16999615801421,3.729447262820655 51.02589213603053,3.656057029907037 50.88180350444684,3.583235534328495 50.7377090494367,3.510750607728446 50.593605444307016,3.438833478538352 50.461318664478426,3.372994026695544 50.46379840175528,2.999718211669176 51.45118220579359,2.999712175851301 51.445311407578636,3.871325665219135 51.445311407578636,3.871325665219135</gml:coordinates>\\n      </gml:LinearRing>\\n   </gml:outerBoundaryIs>\\n</gml:Polygon>',\n",
       "               'highprobacloudspercentage': 0.121418,\n",
       "               'identifier': 'S2A_MSIL2A_20170409T105651_N0204_R094_T31UES_20170409T110529',\n",
       "               'ingestiondate': datetime.datetime(2017, 4, 11, 21, 21, 35, 136000),\n",
       "               'instrumentname': 'Multi-Spectral Instrument',\n",
       "               'instrumentshortname': 'MSI',\n",
       "               'link': \"https://scihub.copernicus.eu/dhus/odata/v1/Products('1de7003b-d56a-4e20-a3fe-337a69f7e9a1')/$value\",\n",
       "               'link_alternative': \"https://scihub.copernicus.eu/dhus/odata/v1/Products('1de7003b-d56a-4e20-a3fe-337a69f7e9a1')/\",\n",
       "               'link_icon': \"https://scihub.copernicus.eu/dhus/odata/v1/Products('1de7003b-d56a-4e20-a3fe-337a69f7e9a1')/Products('Quicklook')/$value\",\n",
       "               'lowprobacloudspercentage': 5.305634,\n",
       "               'mediumprobacloudspercentage': 0.401243,\n",
       "               'orbitdirection': 'DESCENDING',\n",
       "               'orbitnumber': 9386,\n",
       "               'platformidentifier': '2015-000A',\n",
       "               'platformname': 'Sentinel-2',\n",
       "               'platformserialidentifier': 'Sentinel-2A',\n",
       "               'processingbaseline': '02.04',\n",
       "               'processinglevel': 'Level-2Ap',\n",
       "               'producttype': 'S2MSI2Ap',\n",
       "               'relativeorbitnumber': 94,\n",
       "               's2datatakeid': 'GS2A_20170409T105651_009386_N02.04',\n",
       "               'sensoroperationalmode': 'INS-NOBS',\n",
       "               'size': '472.41 MB',\n",
       "               'snowicepercentage': 0.000274,\n",
       "               'summary': 'Date: 2017-04-09T10:56:51.026Z, Instrument: MSI, Mode: , Satellite: Sentinel-2, Size: 472.41 MB',\n",
       "               'title': 'S2A_MSIL2A_20170409T105651_N0204_R094_T31UES_20170409T110529',\n",
       "               'uuid': '1de7003b-d56a-4e20-a3fe-337a69f7e9a1',\n",
       "               'vegetationpercentage': 54.304379,\n",
       "               'waterpercentage': 11.603783}),\n",
       "             ('8dd7d819-d02d-42f9-a645-c161851ba2da',\n",
       "              {'baresoilpercentage': 25.730711,\n",
       "               'beginposition': datetime.datetime(2017, 3, 30, 10, 56, 21, 26000),\n",
       "               'cloudcoverpercentage': 2.187012,\n",
       "               'endposition': datetime.datetime(2017, 3, 30, 10, 56, 21, 26000),\n",
       "               'filename': 'S2A_MSIL2A_20170330T105621_N0204_R094_T31UES_20170330T110334.SAFE',\n",
       "               'footprint': 'POLYGON ((3.878085340859089 51.445265877430046,3.811160567513305 51.31587185266105,3.737128263614465 51.17179727196963,3.663254134732998 51.027598036949335,3.590018293627545 50.88343913481603,3.517122259906812 50.739215231097845,3.444484482098213 50.594938238327,3.378073272626582 50.46128492214912,2.999718211669176 50.46379840175528,2.999712175851301 51.45118220579359,3.878085340859089 51.445265877430046,3.878085340859089 51.445265877430046))',\n",
       "               'format': 'SAFE',\n",
       "               'gmlfootprint': '<gml:Polygon srsName=\"http://www.opengis.net/gml/srs/epsg.xml#4326\" xmlns:gml=\"http://www.opengis.net/gml\">\\n   <gml:outerBoundaryIs>\\n      <gml:LinearRing>\\n         <gml:coordinates>51.445265877430046,3.878085340859089 51.31587185266105,3.811160567513305 51.17179727196963,3.737128263614465 51.027598036949335,3.663254134732998 50.88343913481603,3.590018293627545 50.739215231097845,3.517122259906812 50.594938238327,3.444484482098213 50.46128492214912,3.378073272626582 50.46379840175528,2.999718211669176 51.45118220579359,2.999712175851301 51.445265877430046,3.878085340859089 51.445265877430046,3.878085340859089</gml:coordinates>\\n      </gml:LinearRing>\\n   </gml:outerBoundaryIs>\\n</gml:Polygon>',\n",
       "               'highprobacloudspercentage': 0.12139,\n",
       "               'identifier': 'S2A_MSIL2A_20170330T105621_N0204_R094_T31UES_20170330T110334',\n",
       "               'ingestiondate': datetime.datetime(2017, 4, 1, 16, 0, 36, 139000),\n",
       "               'instrumentname': 'Multi-Spectral Instrument',\n",
       "               'instrumentshortname': 'MSI',\n",
       "               'link': \"https://scihub.copernicus.eu/dhus/odata/v1/Products('8dd7d819-d02d-42f9-a645-c161851ba2da')/$value\",\n",
       "               'link_alternative': \"https://scihub.copernicus.eu/dhus/odata/v1/Products('8dd7d819-d02d-42f9-a645-c161851ba2da')/\",\n",
       "               'link_icon': \"https://scihub.copernicus.eu/dhus/odata/v1/Products('8dd7d819-d02d-42f9-a645-c161851ba2da')/Products('Quicklook')/$value\",\n",
       "               'lowprobacloudspercentage': 5.715749,\n",
       "               'mediumprobacloudspercentage': 0.411202,\n",
       "               'orbitdirection': 'DESCENDING',\n",
       "               'orbitnumber': 9243,\n",
       "               'platformidentifier': '2015-000A',\n",
       "               'platformname': 'Sentinel-2',\n",
       "               'platformserialidentifier': 'Sentinel-2A',\n",
       "               'processingbaseline': '02.04',\n",
       "               'processinglevel': 'Level-2Ap',\n",
       "               'producttype': 'S2MSI2Ap',\n",
       "               'relativeorbitnumber': 94,\n",
       "               's2datatakeid': 'GS2A_20170330T105621_009243_N02.04',\n",
       "               'sensoroperationalmode': 'INS-NOBS',\n",
       "               'size': '482.90 MB',\n",
       "               'snowicepercentage': 0.000715,\n",
       "               'summary': 'Date: 2017-03-30T10:56:21.026Z, Instrument: MSI, Mode: , Satellite: Sentinel-2, Size: 482.90 MB',\n",
       "               'title': 'S2A_MSIL2A_20170330T105621_N0204_R094_T31UES_20170330T110334',\n",
       "               'uuid': '8dd7d819-d02d-42f9-a645-c161851ba2da',\n",
       "               'vegetationpercentage': 53.193634,\n",
       "               'waterpercentage': 10.860421})])"
      ]
     },
     "execution_count": 104,
     "metadata": {},
     "output_type": "execute_result"
    }
   ],
   "source": [
    "products"
   ]
  },
  {
   "cell_type": "code",
   "execution_count": null,
   "metadata": {
    "collapsed": true
   },
   "outputs": [],
   "source": []
  }
 ],
 "metadata": {
  "kernelspec": {
   "display_name": "Python 3",
   "language": "python",
   "name": "python3"
  },
  "language_info": {
   "codemirror_mode": {
    "name": "ipython",
    "version": 3
   },
   "file_extension": ".py",
   "mimetype": "text/x-python",
   "name": "python",
   "nbconvert_exporter": "python",
   "pygments_lexer": "ipython3",
   "version": "3.6.0"
  }
 },
 "nbformat": 4,
 "nbformat_minor": 2
}
