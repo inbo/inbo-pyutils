{
 "cells": [
  {
   "cell_type": "code",
   "execution_count": 1,
   "metadata": {},
   "outputs": [],
   "source": [
    "from sentinelsat.sentinel import SentinelAPI, read_geojson, geojson_to_wkt\n",
    "\n",
    "import geopandas as gpd\n",
    "import matplotlib.pyplot as plt\n",
    "%matplotlib inline"
   ]
  },
  {
   "cell_type": "markdown",
   "metadata": {},
   "source": [
    "**Login"
   ]
  },
  {
   "cell_type": "code",
   "execution_count": 2,
   "metadata": {
    "collapsed": true
   },
   "outputs": [],
   "source": [
    "username = \"jeroendereu\"\n",
    "password = \"***\""
   ]
  },
  {
   "cell_type": "code",
   "execution_count": 3,
   "metadata": {
    "collapsed": true
   },
   "outputs": [],
   "source": [
    "api = SentinelAPI(username, password, \"https://scihub.copernicus.eu/dhus\")"
   ]
  },
  {
   "cell_type": "markdown",
   "metadata": {},
   "source": [
    "**Basics"
   ]
  },
  {
   "cell_type": "code",
   "execution_count": 4,
   "metadata": {
    "collapsed": true
   },
   "outputs": [],
   "source": [
    "product_id_example = \"36871bc0-b115-4dd8-9830-392619fc9e25\""
   ]
  },
  {
   "cell_type": "code",
   "execution_count": null,
   "metadata": {},
   "outputs": [
    {
     "name": "stderr",
     "output_type": "stream",
     "text": [
      "Downloading:  38%|████████▊              | 2.42G/6.33G [53:15<2:07:49, 510KB/s]"
     ]
    }
   ],
   "source": [
    "# download single scene by known product id\n",
    "api.download(product_id_example)"
   ]
  },
  {
   "cell_type": "code",
   "execution_count": null,
   "metadata": {},
   "outputs": [],
   "source": [
    "# Get basic information about the product: its title, file size, MD5 sum, date, footprint and its download url\n",
    "# api.get_product_odata(product_id_example)"
   ]
  },
  {
   "cell_type": "code",
   "execution_count": null,
   "metadata": {},
   "outputs": [],
   "source": [
    "# Get the product's full metadata available on the server\n",
    "# api.get_product_odata(product_id_example, full=True)"
   ]
  },
  {
   "cell_type": "code",
   "execution_count": null,
   "metadata": {},
   "outputs": [],
   "source": [
    "# define footprint = search the data by polygon\n",
    "footprint_flanders_geojson = geojson_to_wkt(read_geojson(\"C:/WERKMAP/Anaconda/sentinelsat/footprint_flanders_geojson.geojson\"))"
   ]
  },
  {
   "cell_type": "code",
   "execution_count": null,
   "metadata": {},
   "outputs": [],
   "source": [
    "footprint_flanders_geojson"
   ]
  },
  {
   "cell_type": "code",
   "execution_count": null,
   "metadata": {
    "collapsed": true
   },
   "outputs": [],
   "source": [
    "plot_geojson = gpd.read_file(footprint_flanders_geojson)\n",
    "plot_geojson.plot()"
   ]
  },
  {
   "cell_type": "code",
   "execution_count": null,
   "metadata": {
    "collapsed": true
   },
   "outputs": [],
   "source": [
    "footprint_flanders_coordinates = 'POLYGON ((2.5406630 50.6879597, 2.5406630 51.5056400, 5.9098982 51.5056400, 5.9098982 50.6879597, 2.5406630 50.6879597))'\n",
    "# coordinates maximum extent Flanders"
   ]
  },
  {
   "cell_type": "code",
   "execution_count": null,
   "metadata": {},
   "outputs": [],
   "source": [
    "footprint_flanders_coordinates"
   ]
  },
  {
   "cell_type": "code",
   "execution_count": null,
   "metadata": {},
   "outputs": [],
   "source": [
    "footprint_flanders_geojson == footprint_flanders_coordinates"
   ]
  },
  {
   "cell_type": "code",
   "execution_count": null,
   "metadata": {
    "collapsed": true
   },
   "outputs": [],
   "source": [
    "# parameters\n",
    "startdate = '20160301'\n",
    "enddate = '20161031'\n",
    "platform = 'Sentinel-2'\n",
    "min_cloud = '0'\n",
    "max_cloud = '30'"
   ]
  },
  {
   "cell_type": "code",
   "execution_count": null,
   "metadata": {},
   "outputs": [],
   "source": [
    "# query the data by footprint, time, and keywords\n",
    "products = api.query(footprint_flanders_geojson, \n",
    "                     startdate, \n",
    "                     enddate, \n",
    "                     platformname = platform, \n",
    "                     cloudcoverpercentage = '[' + min_cloud + ' TO ' + max_cloud + ']'\n",
    "                    )"
   ]
  },
  {
   "cell_type": "code",
   "execution_count": null,
   "metadata": {},
   "outputs": [],
   "source": [
    "# queried data is stored in dictionary\n",
    "products"
   ]
  },
  {
   "cell_type": "code",
   "execution_count": null,
   "metadata": {},
   "outputs": [],
   "source": [
    "# download all datasets (from query)\n",
    "# api.download_all(products)"
   ]
  },
  {
   "cell_type": "code",
   "execution_count": null,
   "metadata": {},
   "outputs": [],
   "source": [
    "# GeoJSON FeatureCollection containing footprints and metadata of the scenes\n",
    "geojson_products = api.to_geojson(products)"
   ]
  },
  {
   "cell_type": "code",
   "execution_count": null,
   "metadata": {},
   "outputs": [],
   "source": [
    "geojson_products"
   ]
  },
  {
   "cell_type": "code",
   "execution_count": null,
   "metadata": {},
   "outputs": [],
   "source": [
    "# GeoPandas GeoDataFrame with the metadata of the scenes and the footprints as geometries\n",
    "api.to_geodataframe(products)"
   ]
  },
  {
   "cell_type": "markdown",
   "metadata": {},
   "source": [
    "**jp2 naar geotiff"
   ]
  },
  {
   "cell_type": "code",
   "execution_count": null,
   "metadata": {},
   "outputs": [],
   "source": [
    "import os\n",
    "from glob import glob\n",
    "import matplotlib.pyplot as plt\n",
    "%matplotlib inline\n",
    "import rasterio\n",
    "import rsgislib\n",
    "from rsgislib import imageutils"
   ]
  },
  {
   "cell_type": "code",
   "execution_count": null,
   "metadata": {
    "collapsed": true
   },
   "outputs": [],
   "source": [
    "input_directory = \"C:/WERKMAP/Anaconda/sentinelsat/downloaded_datasets/S2A_OPER_PRD_MSIL1C_PDMC_20161011T191935_R094_V20161011T105952_20161011T110223.SAFE/GRANULE/S2A_OPER_MSI_L1C_TL_SGS__20161011T162433_A006812_T31UES_N02.04/IMG_DATA/\""
   ]
  },
  {
   "cell_type": "code",
   "execution_count": null,
   "metadata": {},
   "outputs": [],
   "source": [
    "for path in glob(os.path.join(input_directory, \"**\", \"*.jp2\"), recursive=True):\n",
    "    print(path)"
   ]
  },
  {
   "cell_type": "code",
   "execution_count": null,
   "metadata": {
    "collapsed": true
   },
   "outputs": [],
   "source": [
    "images = []"
   ]
  },
  {
   "cell_type": "code",
   "execution_count": null,
   "metadata": {},
   "outputs": [],
   "source": [
    "for path in glob(os.path.join(input_directory, \"**\", \"*.jp2\"),recursive=True):\n",
    "    images.append(path)"
   ]
  },
  {
   "cell_type": "code",
   "execution_count": null,
   "metadata": {},
   "outputs": [],
   "source": [
    "images"
   ]
  },
  {
   "cell_type": "code",
   "execution_count": null,
   "metadata": {
    "collapsed": true
   },
   "outputs": [],
   "source": [
    "band_names = []"
   ]
  },
  {
   "cell_type": "code",
   "execution_count": null,
   "metadata": {
    "collapsed": true
   },
   "outputs": [],
   "source": [
    "for path in glob(os.path.join(input_directory, \"**\", \"*.jp2\"),recursive=True):\n",
    "    basename = os.path.basename(path)\n",
    "    filename, file_extention = os.path.splitext(basename)\n",
    "    band_names.append(filename)"
   ]
  },
  {
   "cell_type": "code",
   "execution_count": null,
   "metadata": {},
   "outputs": [],
   "source": [
    "band_names"
   ]
  },
  {
   "cell_type": "code",
   "execution_count": null,
   "metadata": {},
   "outputs": [],
   "source": [
    "out_image = \"C:/WERKMAP/Anaconda/sentinelsat/sentinel_image_stack.tif\"\n",
    "data_type = rsgislib.TYPE_16UINT\n",
    "imageutils.stackImageBands(images, band_names, out_image, None, 0, 'Gtiff', data_type)"
   ]
  },
  {
   "cell_type": "code",
   "execution_count": null,
   "metadata": {
    "collapsed": true
   },
   "outputs": [],
   "source": []
  },
  {
   "cell_type": "markdown",
   "metadata": {},
   "source": [
    "**Clippen"
   ]
  },
  {
   "cell_type": "code",
   "execution_count": null,
   "metadata": {},
   "outputs": [],
   "source": [
    "inputImage = out_image\n",
    "inputVector = \"C:/WERKMAP/Anaconda/shapefile_geojson_shapefile/example_shapefiles/polygon_example.shp\"\n",
    "outputImage = \"C:/WERKMAP/Anaconda/sentinelsat/sentinel_image_stack_clipped.tif\"\n",
    "gdalformat = 'Gtiff'\n",
    "datatype = rsgislib.TYPE_32FLOAT\n",
    "imageutils.subset(inputImage, inputVector, outputImage, gdalformat, datatype)"
   ]
  },
  {
   "cell_type": "markdown",
   "metadata": {},
   "source": [
    "other possibility: via bounding box (Xmin, Xmax, Ymin, Ymax)"
   ]
  },
  {
   "cell_type": "code",
   "execution_count": null,
   "metadata": {
    "collapsed": true
   },
   "outputs": [],
   "source": []
  },
  {
   "cell_type": "code",
   "execution_count": null,
   "metadata": {
    "collapsed": true
   },
   "outputs": [],
   "source": []
  },
  {
   "cell_type": "code",
   "execution_count": null,
   "metadata": {
    "collapsed": true
   },
   "outputs": [],
   "source": []
  },
  {
   "cell_type": "code",
   "execution_count": null,
   "metadata": {
    "collapsed": true
   },
   "outputs": [],
   "source": []
  },
  {
   "cell_type": "code",
   "execution_count": null,
   "metadata": {
    "collapsed": true
   },
   "outputs": [],
   "source": []
  },
  {
   "cell_type": "markdown",
   "metadata": {},
   "source": [
    "import geojson as gj\n",
    "from osgeo import ogr, osr, gdal"
   ]
  },
  {
   "cell_type": "markdown",
   "metadata": {},
   "source": [
    "# Enable GDAL/OGR exceptions\n",
    "gdal.UseExceptions()"
   ]
  },
  {
   "cell_type": "markdown",
   "metadata": {},
   "source": [
    "# GDAL & OGR memory drivers\n",
    "GDAL_MEMORY_DRIVER = gdal.GetDriverByName('MEM')\n",
    "OGR_MEMORY_DRIVER = ogr.GetDriverByName('Memory')"
   ]
  },
  {
   "cell_type": "markdown",
   "metadata": {},
   "source": [
    "def cut_by_geojson(input_file, output_file, shape_geojson):\n",
    "\n",
    "    # Get coords for bounding box\n",
    "    x, y = zip(*gj.utils.coords(gj.loads(shape_geojson)))\n",
    "    min_x, max_x, min_y, max_y = min(x), max(x), min(y), max(y)\n",
    "\n",
    "    # Open original data as read only\n",
    "    dataset = gdal.Open(input_file, gdal.GA_ReadOnly)\n",
    "\n",
    "    bands = dataset.RasterCount\n",
    "\n",
    "    # Getting georeference info\n",
    "    transform = dataset.GetGeoTransform()\n",
    "    projection = dataset.GetProjection()\n",
    "    xOrigin = transform[0]\n",
    "    yOrigin = transform[3]\n",
    "    pixelWidth = transform[1]\n",
    "    pixelHeight = -transform[5]\n",
    "\n",
    "    # Getting spatial reference of input raster\n",
    "    srs = osr.SpatialReference()\n",
    "    srs.ImportFromWkt(projection)\n",
    "\n",
    "    # WGS84 projection reference\n",
    "    OSR_WGS84_REF = osr.SpatialReference()\n",
    "    OSR_WGS84_REF.ImportFromEPSG(4326)\n",
    "\n",
    "    # OSR transformation\n",
    "    wgs84_to_image_trasformation = osr.CoordinateTransformation(OSR_WGS84_REF,\n",
    "                                                                srs)\n",
    "    XYmin = wgs84_to_image_trasformation.TransformPoint(min_x, max_y)\n",
    "    XYmax = wgs84_to_image_trasformation.TransformPoint(max_x, min_y)\n",
    "\n",
    "    # Computing Point1(i1,j1), Point2(i2,j2)\n",
    "    i1 = int((XYmin[0] - xOrigin) / pixelWidth)\n",
    "    j1 = int((yOrigin - XYmin[1]) / pixelHeight)\n",
    "    i2 = int((XYmax[0] - xOrigin) / pixelWidth)\n",
    "    j2 = int((yOrigin - XYmax[1]) / pixelHeight)\n",
    "    new_cols = i2 - i1 + 1\n",
    "    new_rows = j2 - j1 + 1\n",
    "\n",
    "    # New upper-left X,Y values\n",
    "    new_x = xOrigin + i1 * pixelWidth\n",
    "    new_y = yOrigin - j1 * pixelHeight\n",
    "    new_transform = (new_x, transform[1], transform[2], new_y, transform[4],\n",
    "                     transform[5])\n",
    "\n",
    "    wkt_geom = ogr.CreateGeometryFromJson(str(field_shape_geojson))\n",
    "    wkt_geom.Transform(wgs84_to_image_trasformation)\n",
    "\n",
    "    target_ds = GDAL_MEMORY_DRIVER.Create('', new_cols, new_rows, 1,\n",
    "                                          gdal.GDT_Byte)\n",
    "    target_ds.SetGeoTransform(new_transform)\n",
    "    target_ds.SetProjection(projection)\n",
    "\n",
    "    # Create a memory layer to rasterize from.\n",
    "    ogr_dataset = OGR_MEMORY_DRIVER.CreateDataSource('shapemask')\n",
    "    ogr_layer = ogr_dataset.CreateLayer('shapemask', srs=srs)\n",
    "    ogr_feature = ogr.Feature(ogr_layer.GetLayerDefn())\n",
    "    ogr_feature.SetGeometryDirectly(ogr.Geometry(wkt=wkt_geom.ExportToWkt()))\n",
    "    ogr_layer.CreateFeature(ogr_feature)\n",
    "\n",
    "    gdal.RasterizeLayer(target_ds, [1], ogr_layer, burn_values=[1],\n",
    "                        options=[\"ALL_TOUCHED=TRUE\"])\n",
    "\n",
    "    # Create output file\n",
    "    driver = gdal.GetDriverByName('GTiff')\n",
    "    outds = driver.Create(output_file, new_cols, new_rows, bands,\n",
    "                          gdal.GDT_Float32)\n",
    "\n",
    "    # Read in bands and store all the data in bandList\n",
    "    mask_array = target_ds.GetRasterBand(1).ReadAsArray()\n",
    "    band_list = []\n",
    "\n",
    "    for i in range(bands):\n",
    "        band_list.append(dataset.GetRasterBand(i + 1).ReadAsArray(i1, j1,\n",
    "                         new_cols, new_rows))\n",
    "\n",
    "    for j in range(bands):\n",
    "        data = np.where(mask_array == 1, band_list[j], mask_array)\n",
    "        outds.GetRasterBand(j + 1).SetNoDataValue(0)\n",
    "        outds.GetRasterBand(j + 1).WriteArray(data)\n",
    "\n",
    "    outds.SetProjection(projection)\n",
    "    outds.SetGeoTransform(new_transform)\n",
    "\n",
    "    target_ds = None\n",
    "    dataset = None\n",
    "    outds = None\n",
    "    ogr_dataset = None"
   ]
  },
  {
   "cell_type": "markdown",
   "metadata": {},
   "source": [
    "input_file = \"C:/WERKMAP/Anaconda/sentinelsat/sentinel_image_stack.tif\"\n",
    "output_file = \"C:/WERKMAP/Anaconda/sentinelsat/sentinel_image_stack_clipped.tif\"\n",
    "shape_geojson = footprint_flanders_coordinates"
   ]
  },
  {
   "cell_type": "markdown",
   "metadata": {},
   "source": [
    "cut_by_geojson(input_file, output_file, shape_geojson)"
   ]
  },
  {
   "cell_type": "code",
   "execution_count": null,
   "metadata": {
    "collapsed": true
   },
   "outputs": [],
   "source": []
  }
 ],
 "metadata": {
  "kernelspec": {
   "display_name": "Python 3",
   "language": "python",
   "name": "python3"
  },
  "language_info": {
   "codemirror_mode": {
    "name": "ipython",
    "version": 3
   },
   "file_extension": ".py",
   "mimetype": "text/x-python",
   "name": "python",
   "nbconvert_exporter": "python",
   "pygments_lexer": "ipython3",
   "version": "3.5.3"
  }
 },
 "nbformat": 4,
 "nbformat_minor": 2
}
