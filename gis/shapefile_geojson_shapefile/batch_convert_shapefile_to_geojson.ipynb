{
 "cells": [
  {
   "cell_type": "markdown",
   "metadata": {},
   "source": [
    "# Batch convert shapefile to GeoJSON\n",
    "___"
   ]
  },
  {
   "cell_type": "markdown",
   "metadata": {},
   "source": [
    "## AIM\n",
    "The aim is to easily convert the ***ERSI shapefile*** filetype to the open source ***GeoJSON*** filetype."
   ]
  },
  {
   "cell_type": "markdown",
   "metadata": {},
   "source": [
    "## CODE"
   ]
  },
  {
   "cell_type": "code",
   "execution_count": 1,
   "metadata": {
    "collapsed": true
   },
   "outputs": [],
   "source": [
    "import os\n",
    "from glob import glob\n",
    "\n",
    "# import gui tkinter\n",
    "from tkinter import Tk\n",
    "import tkinter.filedialog as tkfd\n",
    "\n",
    "# to do the converstion\n",
    "import shapefile\n",
    "from json import dumps\n",
    "\n",
    "# for inline visualisation\n",
    "import geopandas as gpd\n",
    "import matplotlib.pyplot as plt\n",
    "%matplotlib inline"
   ]
  },
  {
   "cell_type": "markdown",
   "metadata": {},
   "source": [
    "### Set input (shapefiles) and output (geojson) folders."
   ]
  },
  {
   "cell_type": "code",
   "execution_count": 2,
   "metadata": {
    "collapsed": true
   },
   "outputs": [],
   "source": [
    "root = Tk()\n",
    "input_directory = tkfd.askdirectory(title = \"Select input folder\", \n",
    "                         initialdir = \"C:/\")\n",
    "output_directory = tkfd.askdirectory(title = \"Select output folder\", \n",
    "                         initialdir = \"C:/\")\n",
    "root.destroy()"
   ]
  },
  {
   "cell_type": "markdown",
   "metadata": {},
   "source": [
    "### Convert shapefiles to GeoJSON"
   ]
  },
  {
   "cell_type": "markdown",
   "metadata": {},
   "source": [
    "**EXAMPLE**\n",
    "\n",
    "Let's have a look at the shapefiles in the directory"
   ]
  },
  {
   "cell_type": "code",
   "execution_count": 15,
   "metadata": {
    "collapsed": false
   },
   "outputs": [
    {
     "name": "stdout",
     "output_type": "stream",
     "text": [
      "C:/WERKMAP/Anaconda/shapefile_geojson_shapefile/example_shapefiles\\line_example.shp\n",
      "C:/WERKMAP/Anaconda/shapefile_geojson_shapefile/example_shapefiles\\point_example.shp\n",
      "C:/WERKMAP/Anaconda/shapefile_geojson_shapefile/example_shapefiles\\polygon_example.shp\n"
     ]
    }
   ],
   "source": [
    "for path in glob(os.path.join(input_directory,\"**\", \"*.shp\"),recursive=True):\n",
    "    print(path)"
   ]
  },
  {
   "cell_type": "markdown",
   "metadata": {},
   "source": [
    "Load the shapefiiles from the set folder, convert them to GeoJSON and write the GeoJSON files to the output folder."
   ]
  },
  {
   "cell_type": "code",
   "execution_count": 16,
   "metadata": {
    "collapsed": false
   },
   "outputs": [],
   "source": [
    "for path in glob(os.path.join(input_directory,\"**\", \"*.shp\"),recursive=True):\n",
    "    # define the filename\n",
    "    basename = os.path.basename(path)\n",
    "    filename, file_extention = os.path.splitext(basename)\n",
    "    # read the shapefile\n",
    "    reader = shapefile.Reader(path)\n",
    "    fields = reader.fields[1:]\n",
    "    field_names = [field[0] for field in fields]\n",
    "    buffer = []\n",
    "    for sr in reader.shapeRecords():\n",
    "        atr = dict(zip(field_names, sr.record))\n",
    "        geom = sr.shape.__geo_interface__\n",
    "        buffer.append(dict(type=\"Feature\", geometry=geom, properties=atr)) \n",
    "   \n",
    "    # write the GeoJSON file\n",
    "    geojson = open(output_directory + \"/\" + filename + \".geojson\", \"w\")\n",
    "    geojson.write(dumps({\"type\": \"FeatureCollection\", \"features\": buffer}, indent=2) + \"\\n\")\n",
    "    geojson.close()"
   ]
  },
  {
   "cell_type": "markdown",
   "metadata": {},
   "source": [
    "**EXAMPLE**\n",
    "\n",
    "Check the output folder for the newly created GeoJSON files."
   ]
  },
  {
   "cell_type": "code",
   "execution_count": 17,
   "metadata": {
    "collapsed": false
   },
   "outputs": [
    {
     "name": "stdout",
     "output_type": "stream",
     "text": [
      "C:/WERKMAP/Anaconda/shapefile_geojson_shapefile/output_geojson\\line_example.geojson\n",
      "C:/WERKMAP/Anaconda/shapefile_geojson_shapefile/output_geojson\\point_example.geojson\n",
      "C:/WERKMAP/Anaconda/shapefile_geojson_shapefile/output_geojson\\polygon_example.geojson\n"
     ]
    }
   ],
   "source": [
    "for path in glob(os.path.join(output_directory,\"**\", \"*.geojson\"),recursive=True):\n",
    "    print(path)"
   ]
  },
  {
   "cell_type": "markdown",
   "metadata": {},
   "source": [
    "EXAMPLE\n",
    "\n",
    "Load and plot one of the created GeoJSON files."
   ]
  },
  {
   "cell_type": "code",
   "execution_count": 21,
   "metadata": {
    "collapsed": false
   },
   "outputs": [
    {
     "data": {
      "text/plain": [
       "<matplotlib.axes._subplots.AxesSubplot at 0xa8541d0>"
      ]
     },
     "execution_count": 21,
     "metadata": {},
     "output_type": "execute_result"
    },
    {
     "data": {
      "image/png": "[encoded data removed]",
      "text/plain": [
       "<matplotlib.figure.Figure at 0xa86d828>"
      ]
     },
     "metadata": {},
     "output_type": "display_data"
    }
   ],
   "source": [
    "output_check_polygon = gpd.read_file(\"C:/WERKMAP/Anaconda/shapefile_geojson_shapefile/output_geojson/polygon_example.geojson\")\n",
    "output_check_polygon.plot()"
   ]
  },
  {
   "cell_type": "code",
   "execution_count": 20,
   "metadata": {
    "collapsed": false
   },
   "outputs": [
    {
     "data": {
      "text/plain": [
       "<matplotlib.axes._subplots.AxesSubplot at 0xa7d2be0>"
      ]
     },
     "execution_count": 20,
     "metadata": {},
     "output_type": "execute_result"
    },
    {
     "data": {
      "image/png": "[encoded data removed]",
      "text/plain": [
       "<matplotlib.figure.Figure at 0xbc9f9e8>"
      ]
     },
     "metadata": {},
     "output_type": "display_data"
    }
   ],
   "source": [
    "output_check_line = gpd.read_file(\"C:/WERKMAP/Anaconda/shapefile_geojson_shapefile/output_geojson/line_example.geojson\")\n",
    "output_check_line.plot()"
   ]
  },
  {
   "cell_type": "code",
   "execution_count": 23,
   "metadata": {
    "collapsed": false
   },
   "outputs": [
    {
     "data": {
      "text/plain": [
       "<matplotlib.axes._subplots.AxesSubplot at 0xa9304a8>"
      ]
     },
     "execution_count": 23,
     "metadata": {},
     "output_type": "execute_result"
    },
    {
     "data": {
      "image/png": "[encoded data removed]",
      "text/plain": [
       "<matplotlib.figure.Figure at 0xa99cc18>"
      ]
     },
     "metadata": {},
     "output_type": "display_data"
    }
   ],
   "source": [
    "output_check_point = gpd.read_file(\"C:/WERKMAP/Anaconda/shapefile_geojson_shapefile/output_geojson/point_example.geojson\")\n",
    "output_check_point.plot()"
   ]
  },
  {
   "cell_type": "code",
   "execution_count": null,
   "metadata": {
    "collapsed": true
   },
   "outputs": [],
   "source": []
  }
 ],
 "metadata": {
  "kernelspec": {
   "display_name": "Python 3",
   "language": "python",
   "name": "python3"
  },
  "language_info": {
   "codemirror_mode": {
    "name": "ipython",
    "version": 3
   },
   "file_extension": ".py",
   "mimetype": "text/x-python",
   "name": "python",
   "nbconvert_exporter": "python",
   "pygments_lexer": "ipython3",
   "version": "3.6.0"
  }
 },
 "nbformat": 4,
 "nbformat_minor": 2
}
