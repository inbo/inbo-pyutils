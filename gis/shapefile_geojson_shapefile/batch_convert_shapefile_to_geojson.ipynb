{
 "cells": [
  {
   "cell_type": "code",
   "execution_count": 1,
   "metadata": {
    "collapsed": true
   },
   "outputs": [],
   "source": [
    "import os\n",
    "from glob import glob\n",
    "\n",
    "# import gui tkinter\n",
    "from tkinter import Tk\n",
    "import tkinter.filedialog as tkfd\n",
    "\n",
    "# to do the converstion\n",
    "import shapefile\n",
    "from json import dumps\n",
    "\n",
    "# for inline visualisation\n",
    "import geopandas as gpd\n",
    "import matplotlib.pyplot as plt\n",
    "%matplotlib inline"
   ]
  },
  {
   "cell_type": "markdown",
   "metadata": {
    "collapsed": false
   },
   "source": [
    "code to convert single file\n",
    "\n",
    ">read the shapefile\n",
    "```\n",
    "reader = shapefile.Reader(\"C:/WERKMAP/Anaconda/split_by_attributes/SelPoelen_Anaconda_testfile.shp\")\n",
    "fields = reader.fields[1:]\n",
    "field_names = [field[0] for field in fields]\n",
    "buffer = []\n",
    "for sr in reader.shapeRecords():\n",
    "    atr = dict(zip(field_names, sr.record))\n",
    "    geom = sr.shape.__geo_interface__\n",
    "    buffer.append(dict(type=\"Feature\", geometry=geom, properties=atr)) \n",
    "```  \n",
    ">write the GeoJSON file\n",
    "```\n",
    "geojson = open(\"C:/WERKMAP/Anaconda/split_by_attributes/SelPoelen_Anaconda_testfile.json\", \"w\")\n",
    "geojson.write(dumps({\"type\": \"FeatureCollection\", \"features\": buffer}, indent=2) + \"\\n\")\n",
    "geojson.close()\n",
    "```"
   ]
  },
  {
   "cell_type": "markdown",
   "metadata": {},
   "source": [
    "Set input (shapefiles) and output (geojson) directory"
   ]
  },
  {
   "cell_type": "code",
   "execution_count": 2,
   "metadata": {
    "collapsed": true
   },
   "outputs": [],
   "source": [
    "root = Tk()\n",
    "input_directory = tkfd.askdirectory(title = \"Select input directory\", \n",
    "                         initialdir = \"C:/\")\n",
    "root.destroy()"
   ]
  },
  {
   "cell_type": "code",
   "execution_count": 3,
   "metadata": {
    "collapsed": false
   },
   "outputs": [
    {
     "data": {
      "text/plain": [
       "'C:/WERKMAP/Anaconda/shapefile_geojson_shapefile/example_shapefiles'"
      ]
     },
     "execution_count": 3,
     "metadata": {},
     "output_type": "execute_result"
    }
   ],
   "source": [
    "input_directory"
   ]
  },
  {
   "cell_type": "code",
   "execution_count": 4,
   "metadata": {
    "collapsed": true
   },
   "outputs": [],
   "source": [
    "root = Tk()\n",
    "output_directory = tkfd.askdirectory(title = \"Select output directory\", \n",
    "                         initialdir = \"C:/\")\n",
    "root.destroy()"
   ]
  },
  {
   "cell_type": "code",
   "execution_count": 5,
   "metadata": {
    "collapsed": false
   },
   "outputs": [
    {
     "data": {
      "text/plain": [
       "'C:/WERKMAP/Anaconda/shapefile_geojson_shapefile/output_geojson'"
      ]
     },
     "execution_count": 5,
     "metadata": {},
     "output_type": "execute_result"
    }
   ],
   "source": [
    "output_directory"
   ]
  },
  {
   "cell_type": "markdown",
   "metadata": {},
   "source": [
    "Convert shapefiles to GeoJSON"
   ]
  },
  {
   "cell_type": "markdown",
   "metadata": {},
   "source": [
    "Let's have a look at the shapefiles in the directory"
   ]
  },
  {
   "cell_type": "code",
   "execution_count": 6,
   "metadata": {
    "collapsed": false
   },
   "outputs": [
    {
     "name": "stdout",
     "output_type": "stream",
     "text": [
      "C:/WERKMAP/Anaconda/shapefile_geojson_shapefile/example_shapefiles\\GCP00.shp\n",
      "C:/WERKMAP/Anaconda/shapefile_geojson_shapefile/example_shapefiles\\GCP01.shp\n",
      "C:/WERKMAP/Anaconda/shapefile_geojson_shapefile/example_shapefiles\\GCP02.shp\n",
      "C:/WERKMAP/Anaconda/shapefile_geojson_shapefile/example_shapefiles\\GCP03.shp\n",
      "C:/WERKMAP/Anaconda/shapefile_geojson_shapefile/example_shapefiles\\GCP04.shp\n",
      "C:/WERKMAP/Anaconda/shapefile_geojson_shapefile/example_shapefiles\\GCP05.shp\n",
      "C:/WERKMAP/Anaconda/shapefile_geojson_shapefile/example_shapefiles\\GCP06.shp\n",
      "C:/WERKMAP/Anaconda/shapefile_geojson_shapefile/example_shapefiles\\GCP07.shp\n",
      "C:/WERKMAP/Anaconda/shapefile_geojson_shapefile/example_shapefiles\\GCP08.shp\n",
      "C:/WERKMAP/Anaconda/shapefile_geojson_shapefile/example_shapefiles\\GCP09.shp\n",
      "C:/WERKMAP/Anaconda/shapefile_geojson_shapefile/example_shapefiles\\GCP10.shp\n",
      "C:/WERKMAP/Anaconda/shapefile_geojson_shapefile/example_shapefiles\\GCP11.shp\n",
      "C:/WERKMAP/Anaconda/shapefile_geojson_shapefile/example_shapefiles\\GCP12.shp\n",
      "C:/WERKMAP/Anaconda/shapefile_geojson_shapefile/example_shapefiles\\GCP13.shp\n",
      "C:/WERKMAP/Anaconda/shapefile_geojson_shapefile/example_shapefiles\\GCP14.shp\n",
      "C:/WERKMAP/Anaconda/shapefile_geojson_shapefile/example_shapefiles\\GCP15.shp\n",
      "C:/WERKMAP/Anaconda/shapefile_geojson_shapefile/example_shapefiles\\GCP16.shp\n",
      "C:/WERKMAP/Anaconda/shapefile_geojson_shapefile/example_shapefiles\\GCP17.shp\n",
      "C:/WERKMAP/Anaconda/shapefile_geojson_shapefile/example_shapefiles\\GCP18.shp\n"
     ]
    }
   ],
   "source": [
    "for path in glob(os.path.join(input_directory,\"**\", \"*.shp\"),recursive=True):\n",
    "    print(path)"
   ]
  },
  {
   "cell_type": "code",
   "execution_count": 7,
   "metadata": {
    "collapsed": false
   },
   "outputs": [],
   "source": [
    "for path in glob(os.path.join(input_directory,\"**\", \"*.shp\"),recursive=True):\n",
    "    basename = os.path.basename(path)\n",
    "    fileName, fileExtention = os.path.splitext(basename)\n",
    "    reader = shapefile.Reader(path)\n",
    "    fields = reader.fields[1:]\n",
    "    field_names = [field[0] for field in fields]\n",
    "    buffer = []\n",
    "    for sr in reader.shapeRecords():\n",
    "        atr = dict(zip(field_names, sr.record))\n",
    "        geom = sr.shape.__geo_interface__\n",
    "        buffer.append(dict(type=\"Feature\", geometry=geom, properties=atr)) \n",
    "   \n",
    "   # write the GeoJSON file\n",
    "    geojson = open(output_directory + \"/\" + fileName + \".json\", \"w\")\n",
    "    geojson.write(dumps({\"type\": \"FeatureCollection\", \"features\": buffer}, indent=2) + \"\\n\")\n",
    "    geojson.close()"
   ]
  },
  {
   "cell_type": "markdown",
   "metadata": {},
   "source": [
    "Let's check the output folder"
   ]
  },
  {
   "cell_type": "code",
   "execution_count": 8,
   "metadata": {
    "collapsed": false
   },
   "outputs": [
    {
     "name": "stdout",
     "output_type": "stream",
     "text": [
      "C:/WERKMAP/Anaconda/shapefile_geojson_shapefile/output_geojson\\GCP00.json\n",
      "C:/WERKMAP/Anaconda/shapefile_geojson_shapefile/output_geojson\\GCP01.json\n",
      "C:/WERKMAP/Anaconda/shapefile_geojson_shapefile/output_geojson\\GCP02.json\n",
      "C:/WERKMAP/Anaconda/shapefile_geojson_shapefile/output_geojson\\GCP03.json\n",
      "C:/WERKMAP/Anaconda/shapefile_geojson_shapefile/output_geojson\\GCP04.json\n",
      "C:/WERKMAP/Anaconda/shapefile_geojson_shapefile/output_geojson\\GCP05.json\n",
      "C:/WERKMAP/Anaconda/shapefile_geojson_shapefile/output_geojson\\GCP06.json\n",
      "C:/WERKMAP/Anaconda/shapefile_geojson_shapefile/output_geojson\\GCP07.json\n",
      "C:/WERKMAP/Anaconda/shapefile_geojson_shapefile/output_geojson\\GCP08.json\n",
      "C:/WERKMAP/Anaconda/shapefile_geojson_shapefile/output_geojson\\GCP09.json\n",
      "C:/WERKMAP/Anaconda/shapefile_geojson_shapefile/output_geojson\\GCP10.json\n",
      "C:/WERKMAP/Anaconda/shapefile_geojson_shapefile/output_geojson\\GCP11.json\n",
      "C:/WERKMAP/Anaconda/shapefile_geojson_shapefile/output_geojson\\GCP12.json\n",
      "C:/WERKMAP/Anaconda/shapefile_geojson_shapefile/output_geojson\\GCP13.json\n",
      "C:/WERKMAP/Anaconda/shapefile_geojson_shapefile/output_geojson\\GCP14.json\n",
      "C:/WERKMAP/Anaconda/shapefile_geojson_shapefile/output_geojson\\GCP15.json\n",
      "C:/WERKMAP/Anaconda/shapefile_geojson_shapefile/output_geojson\\GCP16.json\n",
      "C:/WERKMAP/Anaconda/shapefile_geojson_shapefile/output_geojson\\GCP17.json\n",
      "C:/WERKMAP/Anaconda/shapefile_geojson_shapefile/output_geojson\\GCP18.json\n"
     ]
    }
   ],
   "source": [
    "for path in glob(os.path.join(output_directory,\"**\", \"*.json\"),recursive=True):\n",
    "    print(path)"
   ]
  },
  {
   "cell_type": "code",
   "execution_count": 9,
   "metadata": {
    "collapsed": true
   },
   "outputs": [],
   "source": [
    "output_check = gpd.read_file(\"C:/WERKMAP/Anaconda/shapefile_geojson_shapefile/output_geojson/GCP14.json\")"
   ]
  },
  {
   "cell_type": "code",
   "execution_count": 10,
   "metadata": {
    "collapsed": false
   },
   "outputs": [
    {
     "data": {
      "text/plain": [
       "<matplotlib.axes._subplots.AxesSubplot at 0xa4cc470>"
      ]
     },
     "execution_count": 10,
     "metadata": {},
     "output_type": "execute_result"
    },
    {
     "data": {
      "image/png": "[encoded data removed]",
      "text/plain": [
       "<matplotlib.figure.Figure at 0xa4bbe48>"
      ]
     },
     "metadata": {},
     "output_type": "display_data"
    }
   ],
   "source": [
    "output_check.plot()"
   ]
  },
  {
   "cell_type": "code",
   "execution_count": null,
   "metadata": {
    "collapsed": true
   },
   "outputs": [],
   "source": []
  }
 ],
 "metadata": {
  "kernelspec": {
   "display_name": "Python 3",
   "language": "python",
   "name": "python3"
  },
  "language_info": {
   "codemirror_mode": {
    "name": "ipython",
    "version": 3
   },
   "file_extension": ".py",
   "mimetype": "text/x-python",
   "name": "python",
   "nbconvert_exporter": "python",
   "pygments_lexer": "ipython3",
   "version": "3.6.0"
  }
 },
 "nbformat": 4,
 "nbformat_minor": 2
}
