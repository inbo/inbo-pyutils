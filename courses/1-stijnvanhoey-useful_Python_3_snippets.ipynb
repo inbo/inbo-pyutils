{
 "cells": [
  {
   "cell_type": "markdown",
   "metadata": {},
   "source": [
    "## Python 3 - what to take into account"
   ]
  },
  {
   "cell_type": "markdown",
   "metadata": {},
   "source": [
    "*Largely inspired by http://python-3-for-scientists.readthedocs.io/en/latest/python3_user_features.html*"
   ]
  },
  {
   "cell_type": "markdown",
   "metadata": {},
   "source": [
    "### Integer division not default anymore"
   ]
  },
  {
   "cell_type": "code",
   "execution_count": 1,
   "metadata": {
    "collapsed": false
   },
   "outputs": [
    {
     "data": {
      "text/plain": [
       "0.6666666666666666"
      ]
     },
     "execution_count": 1,
     "metadata": {},
     "output_type": "execute_result"
    }
   ],
   "source": [
    "2/3"
   ]
  },
  {
   "cell_type": "code",
   "execution_count": 2,
   "metadata": {
    "collapsed": false
   },
   "outputs": [
    {
     "data": {
      "text/plain": [
       "0"
      ]
     },
     "execution_count": 2,
     "metadata": {},
     "output_type": "execute_result"
    }
   ],
   "source": [
    "2//3"
   ]
  },
  {
   "cell_type": "markdown",
   "metadata": {},
   "source": [
    "### Recursive search for filenames in a directory and its subdirectories"
   ]
  },
  {
   "cell_type": "code",
   "execution_count": 12,
   "metadata": {
    "collapsed": true
   },
   "outputs": [],
   "source": [
    "import os\n",
    "import glob"
   ]
  },
  {
   "cell_type": "markdown",
   "metadata": {},
   "source": [
    "Check all the Excel-files inside my github repos, recusively into the different repos:"
   ]
  },
  {
   "cell_type": "code",
   "execution_count": 17,
   "metadata": {
    "collapsed": false
   },
   "outputs": [
    {
     "data": {
      "text/plain": [
       "['/home/stijn_vanhoey/githubs/inbo_alien-species-checklist/data/raw/rinse/neobiota-023-065-s001.xlsx',\n",
       " '/home/stijn_vanhoey/githubs/inbo_alien-species-checklist/data/raw/fishes/ExoticFishSpeciesFlanders.xlsx',\n",
       " '/home/stijn_vanhoey/githubs/inbo_alien-species-checklist/data/raw/rinse-annex-b/AnnexB RINSE Registry of NNS.xlsx',\n",
       " '/home/stijn_vanhoey/githubs/inbo_alien-species-checklist/data/raw/wrims/WRIMS_distributions_20151005-Belgium-extraction.xlsx',\n",
       " '/home/stijn_vanhoey/githubs/inbo_alien-species-checklist/src/grafiek_pathways/pathways_tabel.xlsx',\n",
       " '/home/stijn_vanhoey/githubs/forks/DataAnalysis/data/NH4MetingenDries.xlsx',\n",
       " '/home/stijn_vanhoey/githubs/personal_open_data_showcases/vehicle_registration_example/Registration transactions 2014_tcm466-262543.xlsx',\n",
       " '/home/stijn_vanhoey/githubs/temp/alien-species-checklist/source-datasets/rinse/neobiota-023-065-s001.xlsx',\n",
       " '/home/stijn_vanhoey/githubs/temp/alien-species-checklist/source-datasets/fishes/ExoticFishSpeciesFlanders.xlsx',\n",
       " '/home/stijn_vanhoey/githubs/temp/alien-species-checklist/source-datasets/rinse-annex-b/AnnexB RINSE Registry of NNS.xlsx',\n",
       " '/home/stijn_vanhoey/githubs/temp/alien-species-checklist/source-datasets/wrims/WRIMS_distributions_20151005-Belgium-extraction.xlsx',\n",
       " '/home/stijn_vanhoey/githubs/invasive-t0-occurrences/data/raw/Gegevensverwerking_2015.xlsx',\n",
       " '/home/stijn_vanhoey/githubs/invasive-t0-occurrences/data/raw/Gegevensverwerking_2011.xlsx',\n",
       " '/home/stijn_vanhoey/githubs/invasive-t0-occurrences/data/raw/INBODATAVR119_divers_wbe_NieuweEU-regulatieExoten.xlsx',\n",
       " '/home/stijn_vanhoey/githubs/invasive-t0-occurrences/data/raw/Gegevensverwerking_2013.xlsx',\n",
       " '/home/stijn_vanhoey/githubs/invasive-t0-occurrences/data/raw/datavraag_NP_Natagora.xlsx',\n",
       " '/home/stijn_vanhoey/githubs/invasive-t0-occurrences/data/raw/Gegevensverwerking_2010.xlsx',\n",
       " '/home/stijn_vanhoey/githubs/invasive-t0-occurrences/data/raw/PourTim.xlsx',\n",
       " '/home/stijn_vanhoey/githubs/invasive-t0-occurrences/data/raw/INBODATAVR119_divers_ZoogdierendbExtra_NieuweEU-regulatieExoten.xlsx',\n",
       " '/home/stijn_vanhoey/githubs/invasive-t0-occurrences/data/raw/ExportExotenWaterlopen_2016_05_04.xlsx',\n",
       " '/home/stijn_vanhoey/githubs/invasive-t0-occurrences/data/raw/Gegevensverwerking_2012.xlsx',\n",
       " '/home/stijn_vanhoey/githubs/invasive-t0-occurrences/data/raw/exoten_vraagTim_07032016_def.xlsx',\n",
       " '/home/stijn_vanhoey/githubs/invasive-t0-occurrences/data/raw/waarnemingen_InvasieveExoten_v2.xlsx',\n",
       " '/home/stijn_vanhoey/githubs/invasive-t0-occurrences/data/raw/Gegevensverwerking_2014.xlsx',\n",
       " '/home/stijn_vanhoey/githubs/invasive-t0-occurrences/data/raw/Exotenvraag.xlsx',\n",
       " '/home/stijn_vanhoey/githubs/bw10_courses/I000121_Statistische_dataverwerking/Examen/EersteZit/Theorie/Punten statistische dataverwerking 2015-2016.xlsx',\n",
       " '/home/stijn_vanhoey/githubs/bw10_courses/I001942_integrated_water_managament_modelling/hydrology_exercise/excel/HydrologicModel.xlsx',\n",
       " '/home/stijn_vanhoey/githubs/bw10_courses/I001942_integrated_water_managament_modelling/hydrology_exercise/excel/HydrologicModel_Solution.xlsx']"
      ]
     },
     "execution_count": 17,
     "metadata": {},
     "output_type": "execute_result"
    }
   ],
   "source": [
    "glob.glob(os.path.join(\"/home/stijn_vanhoey/githubs\", \"**\", \"*.xlsx\"), recursive=True)"
   ]
  },
  {
   "cell_type": "markdown",
   "metadata": {},
   "source": [
    "### Cleaning lists now similar to dictionaries"
   ]
  },
  {
   "cell_type": "markdown",
   "metadata": {},
   "source": [
    "For dictionaries: `clear` function"
   ]
  },
  {
   "cell_type": "code",
   "execution_count": 23,
   "metadata": {
    "collapsed": false
   },
   "outputs": [
    {
     "data": {
      "text/plain": [
       "{}"
      ]
     },
     "execution_count": 23,
     "metadata": {},
     "output_type": "execute_result"
    }
   ],
   "source": [
    "d = {'flux': 1}\n",
    "d.clear()\n",
    "d"
   ]
  },
  {
   "cell_type": "markdown",
   "metadata": {},
   "source": [
    "Also available to lists:"
   ]
  },
  {
   "cell_type": "code",
   "execution_count": 24,
   "metadata": {
    "collapsed": false
   },
   "outputs": [
    {
     "data": {
      "text/plain": [
       "[]"
      ]
     },
     "execution_count": 24,
     "metadata": {},
     "output_type": "execute_result"
    }
   ],
   "source": [
    "d = [\"bird\", \"plant\", \"mammal\"]\n",
    "d.clear()\n",
    "d"
   ]
  },
  {
   "cell_type": "markdown",
   "metadata": {},
   "source": [
    "### Print is a function"
   ]
  },
  {
   "cell_type": "markdown",
   "metadata": {},
   "source": [
    "`print` is a function. It allows you to customize aspects such as what separator to use between variables, and whether to go to the next line between successive print statements:"
   ]
  },
  {
   "cell_type": "code",
   "execution_count": 26,
   "metadata": {
    "collapsed": false
   },
   "outputs": [
    {
     "name": "stdout",
     "output_type": "stream",
     "text": [
      "1 2\n"
     ]
    }
   ],
   "source": [
    "a, b = 1, 2\n",
    "print(a, b)"
   ]
  },
  {
   "cell_type": "markdown",
   "metadata": {},
   "source": [
    "Adding separators and end of line statements:"
   ]
  },
  {
   "cell_type": "code",
   "execution_count": 70,
   "metadata": {
    "collapsed": false
   },
   "outputs": [
    {
     "name": "stdout",
     "output_type": "stream",
     "text": [
      "1\t,2;\n"
     ]
    }
   ],
   "source": [
    "a, b = 1, 2\n",
    "print(a, b, sep=\"\\t,\", end=\";\\n\")"
   ]
  },
  {
   "cell_type": "markdown",
   "metadata": {},
   "source": [
    "Print can also be used to print everything in a file:"
   ]
  },
  {
   "cell_type": "code",
   "execution_count": 101,
   "metadata": {
    "collapsed": true
   },
   "outputs": [],
   "source": [
    "with open('data.txt', 'w') as f:\n",
    "    print(a, b, file=f)"
   ]
  },
  {
   "cell_type": "markdown",
   "metadata": {},
   "source": [
    "is equivalent to e.g."
   ]
  },
  {
   "cell_type": "code",
   "execution_count": 65,
   "metadata": {
    "collapsed": false
   },
   "outputs": [],
   "source": [
    "with open('data.txt', 'w') as f:\n",
    "    f.write(\"{} {}\".format(a, b))"
   ]
  },
  {
   "cell_type": "markdown",
   "metadata": {},
   "source": [
    "### Unpacking of variables"
   ]
  },
  {
   "cell_type": "code",
   "execution_count": 66,
   "metadata": {
    "collapsed": false
   },
   "outputs": [
    {
     "name": "stdout",
     "output_type": "stream",
     "text": [
      "0\t;\t1\t;\t[2, 3, 4]\n"
     ]
    }
   ],
   "source": [
    "a, b, *rest = range(5)\n",
    "print(a, b, rest, sep=\"\\t;\\t\")"
   ]
  },
  {
   "cell_type": "code",
   "execution_count": 67,
   "metadata": {
    "collapsed": false
   },
   "outputs": [
    {
     "name": "stdout",
     "output_type": "stream",
     "text": [
      "3\t;\t4\t;\t[0, 1, 2]\n"
     ]
    }
   ],
   "source": [
    "*rest, a, b = range(5)\n",
    "print(a, b, rest, sep=\"\\t;\\t\")"
   ]
  },
  {
   "cell_type": "markdown",
   "metadata": {},
   "source": [
    "You can use this to read specific lines of a datafile:"
   ]
  },
  {
   "cell_type": "code",
   "execution_count": 75,
   "metadata": {
    "collapsed": true
   },
   "outputs": [],
   "source": [
    "with open('data.txt', 'w') as f:\n",
    "    a, b, c, *rest  = range(8)\n",
    "    print(a, b, c, rest, file=f, sep=\"\\n\")"
   ]
  },
  {
   "cell_type": "code",
   "execution_count": 82,
   "metadata": {
    "collapsed": false
   },
   "outputs": [
    {
     "name": "stdout",
     "output_type": "stream",
     "text": [
      "0\n",
      " 1\n",
      " [3, 4, 5, 6, 7]\n",
      "\n"
     ]
    }
   ],
   "source": [
    "with open('data.txt', 'r') as f:\n",
    "    first, second, *rest, last = f.readlines()\n",
    "print(first, second, last)"
   ]
  },
  {
   "cell_type": "markdown",
   "metadata": {},
   "source": [
    "### String interpolation"
   ]
  },
  {
   "cell_type": "code",
   "execution_count": 86,
   "metadata": {
    "collapsed": false
   },
   "outputs": [
    {
     "data": {
      "text/plain": [
       "'The sum of the values is 30.'"
      ]
     },
     "execution_count": 86,
     "metadata": {},
     "output_type": "execute_result"
    }
   ],
   "source": [
    "a, b = 10, 20\n",
    "'The sum of the values is {}.'.format(a+b)"
   ]
  },
  {
   "cell_type": "markdown",
   "metadata": {},
   "source": [
    "For Python 3.6, the following syntax will be possible as well:"
   ]
  },
  {
   "cell_type": "raw",
   "metadata": {},
   "source": [
    "a, b = 10, 20\n",
    "f'The sum of the values is {a + b}.'"
   ]
  },
  {
   "cell_type": "markdown",
   "metadata": {},
   "source": [
    "### Unicode"
   ]
  },
  {
   "cell_type": "markdown",
   "metadata": {},
   "source": [
    "Unicode strings are the default in Python 3. "
   ]
  },
  {
   "cell_type": "code",
   "execution_count": 88,
   "metadata": {
    "collapsed": true
   },
   "outputs": [],
   "source": [
    "s4 = \"unicode strings are great! 😍\""
   ]
  },
  {
   "cell_type": "code",
   "execution_count": 89,
   "metadata": {
    "collapsed": false
   },
   "outputs": [
    {
     "name": "stdout",
     "output_type": "stream",
     "text": [
      "unicode strings are great! 😍\n"
     ]
    }
   ],
   "source": [
    "print(s4)"
   ]
  },
  {
   "cell_type": "markdown",
   "metadata": {},
   "source": [
    "### Error catching"
   ]
  },
  {
   "cell_type": "code",
   "execution_count": 96,
   "metadata": {
    "collapsed": false
   },
   "outputs": [],
   "source": [
    "try:\n",
    "    f = open('data.txt')\n",
    "except FileNotFoundError:\n",
    "    print(\"File not found...\")"
   ]
  },
  {
   "cell_type": "code",
   "execution_count": 95,
   "metadata": {
    "collapsed": false
   },
   "outputs": [
    {
     "name": "stdout",
     "output_type": "stream",
     "text": [
      "File not found...\n"
     ]
    }
   ],
   "source": [
    "try:\n",
    "    f = open('data_2.txt')\n",
    "except FileNotFoundError:\n",
    "    print(\"File not found...\")"
   ]
  },
  {
   "cell_type": "markdown",
   "metadata": {},
   "source": [
    "Other new errors:"
   ]
  },
  {
   "cell_type": "raw",
   "metadata": {},
   "source": [
    "PermissionError, IsADirectoryError and TimeoutError"
   ]
  },
  {
   "cell_type": "markdown",
   "metadata": {},
   "source": [
    "Check for new errors: <br>\n",
    "https://docs.python.org/3/whatsnew/3.3.html#pep-3151-reworking-the-os-and-io-exception-hierarchy"
   ]
  },
  {
   "cell_type": "markdown",
   "metadata": {},
   "source": [
    "### Function annotations"
   ]
  },
  {
   "cell_type": "markdown",
   "metadata": {},
   "source": [
    "Check the data types that go in and out of a function:"
   ]
  },
  {
   "cell_type": "code",
   "execution_count": 98,
   "metadata": {
    "collapsed": true
   },
   "outputs": [],
   "source": [
    "def remove_spaces(x: str) -> str:\n",
    "    return x.replace(' ', '')"
   ]
  },
  {
   "cell_type": "code",
   "execution_count": 99,
   "metadata": {
    "collapsed": false
   },
   "outputs": [
    {
     "data": {
      "text/plain": [
       "'janmieke'"
      ]
     },
     "execution_count": 99,
     "metadata": {},
     "output_type": "execute_result"
    }
   ],
   "source": [
    "remove_spaces(\"jan mieke\")"
   ]
  },
  {
   "cell_type": "markdown",
   "metadata": {},
   "source": [
    "Check http://mypy-lang.org/ to make this really work, as currenlty this is just good for devs..."
   ]
  },
  {
   "cell_type": "code",
   "execution_count": null,
   "metadata": {
    "collapsed": true
   },
   "outputs": [],
   "source": []
  },
  {
   "cell_type": "markdown",
   "metadata": {},
   "source": [
    "### Closing..."
   ]
  },
  {
   "cell_type": "code",
   "execution_count": 102,
   "metadata": {
    "collapsed": false
   },
   "outputs": [],
   "source": [
    "# remove the dummy data file\n",
    "os.remove(\"data.txt\")"
   ]
  }
 ],
 "metadata": {
  "kernelspec": {
   "display_name": "Python 3",
   "language": "python",
   "name": "python3"
  },
  "language_info": {
   "codemirror_mode": {
    "name": "ipython",
    "version": 3
   },
   "file_extension": ".py",
   "mimetype": "text/x-python",
   "name": "python",
   "nbconvert_exporter": "python",
   "pygments_lexer": "ipython3",
   "version": "3.5.2"
  }
 },
 "nbformat": 4,
 "nbformat_minor": 0
}
