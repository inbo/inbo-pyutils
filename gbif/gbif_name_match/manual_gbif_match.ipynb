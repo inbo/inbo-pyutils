{
 "cells": [
  {
   "cell_type": "code",
   "execution_count": 1,
   "metadata": {
    "collapsed": true
   },
   "outputs": [],
   "source": [
    "import pandas as pd"
   ]
  },
  {
   "cell_type": "code",
   "execution_count": 2,
   "metadata": {
    "collapsed": false
   },
   "outputs": [],
   "source": [
    "data = pd.read_table(\n",
    "    '../../species-list/species-list.tsv',\n",
    "    dtype=object\n",
    ")"
   ]
  },
  {
   "cell_type": "code",
   "execution_count": 3,
   "metadata": {
    "collapsed": true
   },
   "outputs": [],
   "source": [
    "def update_record(index, new_values_dict, data):\n",
    "    new_values_df = pd.DataFrame(data = new_values_dict, index = index)\n",
    "    data.update(new_values_df)"
   ]
  },
  {
   "cell_type": "markdown",
   "metadata": {},
   "source": [
    "The manual matches are discussed here: https://github.com/inbo/alien-species-checklist/issues/66"
   ]
  },
  {
   "cell_type": "markdown",
   "metadata": {},
   "source": [
    "## Update species"
   ]
  },
  {
   "cell_type": "markdown",
   "metadata": {},
   "source": [
    "### Baccharis halimifolia\n",
    "\n",
    "Considered to be http://www.gbif.org/species/3129663"
   ]
  },
  {
   "cell_type": "code",
   "execution_count": 4,
   "metadata": {
    "collapsed": true
   },
   "outputs": [],
   "source": [
    "scientificName = 'Baccharis halimifolia'\n",
    "id = '3129663'"
   ]
  },
  {
   "cell_type": "code",
   "execution_count": 5,
   "metadata": {
    "collapsed": false,
    "scrolled": false
   },
   "outputs": [
    {
     "data": {
      "text/html": [
       "<div>\n",
       "<table border=\"1\" class=\"dataframe\">\n",
       "  <thead>\n",
       "    <tr style=\"text-align: right;\">\n",
       "      <th></th>\n",
       "      <th>name</th>\n",
       "      <th>kingdom</th>\n",
       "      <th>euConcernStatus</th>\n",
       "      <th>gbifapi_usageKey</th>\n",
       "      <th>gbifapi_scientificName</th>\n",
       "      <th>gbifapi_canonicalName</th>\n",
       "      <th>gbifapi_status</th>\n",
       "      <th>gbifapi_rank</th>\n",
       "      <th>gbifapi_matchType</th>\n",
       "      <th>gbifapi_confidence</th>\n",
       "      <th>gbifapi_acceptedKey</th>\n",
       "      <th>gbifapi_acceptedScientificName</th>\n",
       "      <th>nbnTaxonID</th>\n",
       "      <th>NBN_scientificName</th>\n",
       "    </tr>\n",
       "  </thead>\n",
       "  <tbody>\n",
       "    <tr>\n",
       "      <th>6</th>\n",
       "      <td>Baccharis halimifolia</td>\n",
       "      <td>Plantae</td>\n",
       "      <td>listed</td>\n",
       "      <td>NaN</td>\n",
       "      <td>NaN</td>\n",
       "      <td>NaN</td>\n",
       "      <td>NaN</td>\n",
       "      <td>NaN</td>\n",
       "      <td>NaN</td>\n",
       "      <td>NaN</td>\n",
       "      <td>NaN</td>\n",
       "      <td>NaN</td>\n",
       "      <td>NaN</td>\n",
       "      <td>NaN</td>\n",
       "    </tr>\n",
       "  </tbody>\n",
       "</table>\n",
       "</div>"
      ],
      "text/plain": [
       "                    name  kingdom euConcernStatus gbifapi_usageKey  \\\n",
       "6  Baccharis halimifolia  Plantae          listed              NaN   \n",
       "\n",
       "  gbifapi_scientificName gbifapi_canonicalName gbifapi_status gbifapi_rank  \\\n",
       "6                    NaN                   NaN            NaN          NaN   \n",
       "\n",
       "  gbifapi_matchType gbifapi_confidence gbifapi_acceptedKey  \\\n",
       "6               NaN                NaN                 NaN   \n",
       "\n",
       "  gbifapi_acceptedScientificName nbnTaxonID NBN_scientificName  \n",
       "6                            NaN        NaN                NaN  "
      ]
     },
     "execution_count": 5,
     "metadata": {},
     "output_type": "execute_result"
    }
   ],
   "source": [
    "data[data['name'] == scientificName]"
   ]
  },
  {
   "cell_type": "code",
   "execution_count": 6,
   "metadata": {
    "collapsed": false
   },
   "outputs": [],
   "source": [
    "new_record = {\n",
    "    'gbifapi_usageKey': id,\n",
    "    'gbifapi_scientificName': 'Baccharis halimifolia L.',\n",
    "    'gbifapi_canonicalName': 'Baccharis halimifolia',\n",
    "    'gbifapi_status': 'ACCEPTED',\n",
    "    'gbifapi_rank': 'SPECIES',\n",
    "    'gbifapi_matchType': 'MANUAL',\n",
    "    'gbifapi_acceptedKey': id,\n",
    "    'gbifapi_acceptedScientificName': 'Baccharis halimifolia L.'\n",
    "}"
   ]
  },
  {
   "cell_type": "code",
   "execution_count": 7,
   "metadata": {
    "collapsed": false
   },
   "outputs": [],
   "source": [
    "update_record(data[data['name'] == scientificName].index, new_record, data)"
   ]
  },
  {
   "cell_type": "code",
   "execution_count": 8,
   "metadata": {
    "collapsed": false
   },
   "outputs": [
    {
     "data": {
      "text/html": [
       "<div>\n",
       "<table border=\"1\" class=\"dataframe\">\n",
       "  <thead>\n",
       "    <tr style=\"text-align: right;\">\n",
       "      <th></th>\n",
       "      <th>name</th>\n",
       "      <th>kingdom</th>\n",
       "      <th>euConcernStatus</th>\n",
       "      <th>gbifapi_usageKey</th>\n",
       "      <th>gbifapi_scientificName</th>\n",
       "      <th>gbifapi_canonicalName</th>\n",
       "      <th>gbifapi_status</th>\n",
       "      <th>gbifapi_rank</th>\n",
       "      <th>gbifapi_matchType</th>\n",
       "      <th>gbifapi_confidence</th>\n",
       "      <th>gbifapi_acceptedKey</th>\n",
       "      <th>gbifapi_acceptedScientificName</th>\n",
       "      <th>nbnTaxonID</th>\n",
       "      <th>NBN_scientificName</th>\n",
       "    </tr>\n",
       "  </thead>\n",
       "  <tbody>\n",
       "    <tr>\n",
       "      <th>6</th>\n",
       "      <td>Baccharis halimifolia</td>\n",
       "      <td>Plantae</td>\n",
       "      <td>listed</td>\n",
       "      <td>3129663</td>\n",
       "      <td>Baccharis halimifolia L.</td>\n",
       "      <td>Baccharis halimifolia</td>\n",
       "      <td>ACCEPTED</td>\n",
       "      <td>SPECIES</td>\n",
       "      <td>MANUAL</td>\n",
       "      <td>NaN</td>\n",
       "      <td>3129663</td>\n",
       "      <td>Baccharis halimifolia L.</td>\n",
       "      <td>NaN</td>\n",
       "      <td>NaN</td>\n",
       "    </tr>\n",
       "  </tbody>\n",
       "</table>\n",
       "</div>"
      ],
      "text/plain": [
       "                    name  kingdom euConcernStatus gbifapi_usageKey  \\\n",
       "6  Baccharis halimifolia  Plantae          listed          3129663   \n",
       "\n",
       "     gbifapi_scientificName  gbifapi_canonicalName gbifapi_status  \\\n",
       "6  Baccharis halimifolia L.  Baccharis halimifolia       ACCEPTED   \n",
       "\n",
       "  gbifapi_rank gbifapi_matchType gbifapi_confidence gbifapi_acceptedKey  \\\n",
       "6      SPECIES            MANUAL                NaN             3129663   \n",
       "\n",
       "  gbifapi_acceptedScientificName nbnTaxonID NBN_scientificName  \n",
       "6       Baccharis halimifolia L.        NaN                NaN  "
      ]
     },
     "execution_count": 8,
     "metadata": {},
     "output_type": "execute_result"
    }
   ],
   "source": [
    "data[data['name'] == scientificName]"
   ]
  },
  {
   "cell_type": "markdown",
   "metadata": {},
   "source": [
    "### Parthenium hysterophorus\n",
    "\n",
    "Considered to be http://www.gbif.org/species/3086784"
   ]
  },
  {
   "cell_type": "code",
   "execution_count": 9,
   "metadata": {
    "collapsed": false,
    "scrolled": false
   },
   "outputs": [],
   "source": [
    "scientificName = 'Parthenium hysterophorus'\n",
    "id = '3086784'"
   ]
  },
  {
   "cell_type": "code",
   "execution_count": 10,
   "metadata": {
    "collapsed": false
   },
   "outputs": [
    {
     "data": {
      "text/html": [
       "<div>\n",
       "<table border=\"1\" class=\"dataframe\">\n",
       "  <thead>\n",
       "    <tr style=\"text-align: right;\">\n",
       "      <th></th>\n",
       "      <th>name</th>\n",
       "      <th>kingdom</th>\n",
       "      <th>euConcernStatus</th>\n",
       "      <th>gbifapi_usageKey</th>\n",
       "      <th>gbifapi_scientificName</th>\n",
       "      <th>gbifapi_canonicalName</th>\n",
       "      <th>gbifapi_status</th>\n",
       "      <th>gbifapi_rank</th>\n",
       "      <th>gbifapi_matchType</th>\n",
       "      <th>gbifapi_confidence</th>\n",
       "      <th>gbifapi_acceptedKey</th>\n",
       "      <th>gbifapi_acceptedScientificName</th>\n",
       "      <th>nbnTaxonID</th>\n",
       "      <th>NBN_scientificName</th>\n",
       "    </tr>\n",
       "  </thead>\n",
       "  <tbody>\n",
       "    <tr>\n",
       "      <th>120</th>\n",
       "      <td>Parthenium hysterophorus</td>\n",
       "      <td>Plantae</td>\n",
       "      <td>listed</td>\n",
       "      <td>NaN</td>\n",
       "      <td>NaN</td>\n",
       "      <td>NaN</td>\n",
       "      <td>NaN</td>\n",
       "      <td>NaN</td>\n",
       "      <td>NaN</td>\n",
       "      <td>NaN</td>\n",
       "      <td>NaN</td>\n",
       "      <td>NaN</td>\n",
       "      <td>NaN</td>\n",
       "      <td>NaN</td>\n",
       "    </tr>\n",
       "  </tbody>\n",
       "</table>\n",
       "</div>"
      ],
      "text/plain": [
       "                         name  kingdom euConcernStatus gbifapi_usageKey  \\\n",
       "120  Parthenium hysterophorus  Plantae          listed              NaN   \n",
       "\n",
       "    gbifapi_scientificName gbifapi_canonicalName gbifapi_status gbifapi_rank  \\\n",
       "120                    NaN                   NaN            NaN          NaN   \n",
       "\n",
       "    gbifapi_matchType gbifapi_confidence gbifapi_acceptedKey  \\\n",
       "120               NaN                NaN                 NaN   \n",
       "\n",
       "    gbifapi_acceptedScientificName nbnTaxonID NBN_scientificName  \n",
       "120                            NaN        NaN                NaN  "
      ]
     },
     "execution_count": 10,
     "metadata": {},
     "output_type": "execute_result"
    }
   ],
   "source": [
    "data[data['name'] == scientificName]"
   ]
  },
  {
   "cell_type": "code",
   "execution_count": 11,
   "metadata": {
    "collapsed": true
   },
   "outputs": [],
   "source": [
    "new_record = {\n",
    "    'gbifapi_usageKey': id,\n",
    "    'gbifapi_scientificName': 'Parthenium hysterophorus L.',\n",
    "    'gbifapi_canonicalName': 'Parthenium hysterophorus',\n",
    "    'gbifapi_status': 'DOUBTFUL',\n",
    "    'gbifapi_rank': 'SPECIES',\n",
    "    'gbifapi_matchType': 'MANUAL',\n",
    "    'gbifapi_acceptedKey': id,\n",
    "    'gbifapi_acceptedScientificName': 'Parthenium hysterophorus L.'\n",
    "}"
   ]
  },
  {
   "cell_type": "code",
   "execution_count": 12,
   "metadata": {
    "collapsed": true
   },
   "outputs": [],
   "source": [
    "update_record(data[data['name'] == scientificName].index, new_record, data)"
   ]
  },
  {
   "cell_type": "code",
   "execution_count": 13,
   "metadata": {
    "collapsed": false
   },
   "outputs": [
    {
     "data": {
      "text/html": [
       "<div>\n",
       "<table border=\"1\" class=\"dataframe\">\n",
       "  <thead>\n",
       "    <tr style=\"text-align: right;\">\n",
       "      <th></th>\n",
       "      <th>name</th>\n",
       "      <th>kingdom</th>\n",
       "      <th>euConcernStatus</th>\n",
       "      <th>gbifapi_usageKey</th>\n",
       "      <th>gbifapi_scientificName</th>\n",
       "      <th>gbifapi_canonicalName</th>\n",
       "      <th>gbifapi_status</th>\n",
       "      <th>gbifapi_rank</th>\n",
       "      <th>gbifapi_matchType</th>\n",
       "      <th>gbifapi_confidence</th>\n",
       "      <th>gbifapi_acceptedKey</th>\n",
       "      <th>gbifapi_acceptedScientificName</th>\n",
       "      <th>nbnTaxonID</th>\n",
       "      <th>NBN_scientificName</th>\n",
       "    </tr>\n",
       "  </thead>\n",
       "  <tbody>\n",
       "    <tr>\n",
       "      <th>120</th>\n",
       "      <td>Parthenium hysterophorus</td>\n",
       "      <td>Plantae</td>\n",
       "      <td>listed</td>\n",
       "      <td>3086784</td>\n",
       "      <td>Parthenium hysterophorus L.</td>\n",
       "      <td>Parthenium hysterophorus</td>\n",
       "      <td>DOUBTFUL</td>\n",
       "      <td>SPECIES</td>\n",
       "      <td>MANUAL</td>\n",
       "      <td>NaN</td>\n",
       "      <td>3086784</td>\n",
       "      <td>Parthenium hysterophorus L.</td>\n",
       "      <td>NaN</td>\n",
       "      <td>NaN</td>\n",
       "    </tr>\n",
       "  </tbody>\n",
       "</table>\n",
       "</div>"
      ],
      "text/plain": [
       "                         name  kingdom euConcernStatus gbifapi_usageKey  \\\n",
       "120  Parthenium hysterophorus  Plantae          listed          3086784   \n",
       "\n",
       "          gbifapi_scientificName     gbifapi_canonicalName gbifapi_status  \\\n",
       "120  Parthenium hysterophorus L.  Parthenium hysterophorus       DOUBTFUL   \n",
       "\n",
       "    gbifapi_rank gbifapi_matchType gbifapi_confidence gbifapi_acceptedKey  \\\n",
       "120      SPECIES            MANUAL                NaN             3086784   \n",
       "\n",
       "    gbifapi_acceptedScientificName nbnTaxonID NBN_scientificName  \n",
       "120    Parthenium hysterophorus L.        NaN                NaN  "
      ]
     },
     "execution_count": 13,
     "metadata": {},
     "output_type": "execute_result"
    }
   ],
   "source": [
    "data[data['name'] == scientificName]"
   ]
  },
  {
   "cell_type": "markdown",
   "metadata": {},
   "source": [
    "### Cotoneaster integrifolius\n",
    "\n",
    "Considered to be http://www.gbif.org/species/3026105"
   ]
  },
  {
   "cell_type": "code",
   "execution_count": 14,
   "metadata": {
    "collapsed": false,
    "scrolled": false
   },
   "outputs": [],
   "source": [
    "scientificName = 'Cotoneaster integrifolius'\n",
    "id = '3026105'"
   ]
  },
  {
   "cell_type": "code",
   "execution_count": 15,
   "metadata": {
    "collapsed": false
   },
   "outputs": [
    {
     "data": {
      "text/html": [
       "<div>\n",
       "<table border=\"1\" class=\"dataframe\">\n",
       "  <thead>\n",
       "    <tr style=\"text-align: right;\">\n",
       "      <th></th>\n",
       "      <th>name</th>\n",
       "      <th>kingdom</th>\n",
       "      <th>euConcernStatus</th>\n",
       "      <th>gbifapi_usageKey</th>\n",
       "      <th>gbifapi_scientificName</th>\n",
       "      <th>gbifapi_canonicalName</th>\n",
       "      <th>gbifapi_status</th>\n",
       "      <th>gbifapi_rank</th>\n",
       "      <th>gbifapi_matchType</th>\n",
       "      <th>gbifapi_confidence</th>\n",
       "      <th>gbifapi_acceptedKey</th>\n",
       "      <th>gbifapi_acceptedScientificName</th>\n",
       "      <th>nbnTaxonID</th>\n",
       "      <th>NBN_scientificName</th>\n",
       "    </tr>\n",
       "  </thead>\n",
       "  <tbody>\n",
       "    <tr>\n",
       "      <th>29</th>\n",
       "      <td>Cotoneaster integrifolius</td>\n",
       "      <td>Plantae</td>\n",
       "      <td>NaN</td>\n",
       "      <td>NaN</td>\n",
       "      <td>NaN</td>\n",
       "      <td>NaN</td>\n",
       "      <td>NaN</td>\n",
       "      <td>NaN</td>\n",
       "      <td>NaN</td>\n",
       "      <td>NaN</td>\n",
       "      <td>NaN</td>\n",
       "      <td>NaN</td>\n",
       "      <td>NaN</td>\n",
       "      <td>NaN</td>\n",
       "    </tr>\n",
       "  </tbody>\n",
       "</table>\n",
       "</div>"
      ],
      "text/plain": [
       "                         name  kingdom euConcernStatus gbifapi_usageKey  \\\n",
       "29  Cotoneaster integrifolius  Plantae             NaN              NaN   \n",
       "\n",
       "   gbifapi_scientificName gbifapi_canonicalName gbifapi_status gbifapi_rank  \\\n",
       "29                    NaN                   NaN            NaN          NaN   \n",
       "\n",
       "   gbifapi_matchType gbifapi_confidence gbifapi_acceptedKey  \\\n",
       "29               NaN                NaN                 NaN   \n",
       "\n",
       "   gbifapi_acceptedScientificName nbnTaxonID NBN_scientificName  \n",
       "29                            NaN        NaN                NaN  "
      ]
     },
     "execution_count": 15,
     "metadata": {},
     "output_type": "execute_result"
    }
   ],
   "source": [
    "data[data['name'] == scientificName]"
   ]
  },
  {
   "cell_type": "code",
   "execution_count": 16,
   "metadata": {
    "collapsed": true
   },
   "outputs": [],
   "source": [
    "new_record = {\n",
    "    'gbifapi_usageKey': id,\n",
    "    'gbifapi_scientificName': 'Cotoneaster integrifolius (Roxb.) Klotz',\n",
    "    'gbifapi_canonicalName': 'Cotoneaster integrifolius',\n",
    "    'gbifapi_status': 'SYNONYM',\n",
    "    'gbifapi_rank': 'SPECIES',\n",
    "    'gbifapi_matchType': 'MANUAL',\n",
    "    'gbifapi_acceptedKey': '8422000',\n",
    "    'gbifapi_acceptedScientificName': 'Cotoneaster microphylla var. thymifolius (Baker) Koehne'\n",
    "}"
   ]
  },
  {
   "cell_type": "code",
   "execution_count": 17,
   "metadata": {
    "collapsed": true
   },
   "outputs": [],
   "source": [
    "update_record(data[data['name'] == scientificName].index, new_record, data)"
   ]
  },
  {
   "cell_type": "code",
   "execution_count": 18,
   "metadata": {
    "collapsed": false
   },
   "outputs": [
    {
     "data": {
      "text/html": [
       "<div>\n",
       "<table border=\"1\" class=\"dataframe\">\n",
       "  <thead>\n",
       "    <tr style=\"text-align: right;\">\n",
       "      <th></th>\n",
       "      <th>name</th>\n",
       "      <th>kingdom</th>\n",
       "      <th>euConcernStatus</th>\n",
       "      <th>gbifapi_usageKey</th>\n",
       "      <th>gbifapi_scientificName</th>\n",
       "      <th>gbifapi_canonicalName</th>\n",
       "      <th>gbifapi_status</th>\n",
       "      <th>gbifapi_rank</th>\n",
       "      <th>gbifapi_matchType</th>\n",
       "      <th>gbifapi_confidence</th>\n",
       "      <th>gbifapi_acceptedKey</th>\n",
       "      <th>gbifapi_acceptedScientificName</th>\n",
       "      <th>nbnTaxonID</th>\n",
       "      <th>NBN_scientificName</th>\n",
       "    </tr>\n",
       "  </thead>\n",
       "  <tbody>\n",
       "    <tr>\n",
       "      <th>29</th>\n",
       "      <td>Cotoneaster integrifolius</td>\n",
       "      <td>Plantae</td>\n",
       "      <td>NaN</td>\n",
       "      <td>3026105</td>\n",
       "      <td>Cotoneaster integrifolius (Roxb.) Klotz</td>\n",
       "      <td>Cotoneaster integrifolius</td>\n",
       "      <td>SYNONYM</td>\n",
       "      <td>SPECIES</td>\n",
       "      <td>MANUAL</td>\n",
       "      <td>NaN</td>\n",
       "      <td>8422000</td>\n",
       "      <td>Cotoneaster microphylla var. thymifolius (Bake...</td>\n",
       "      <td>NaN</td>\n",
       "      <td>NaN</td>\n",
       "    </tr>\n",
       "  </tbody>\n",
       "</table>\n",
       "</div>"
      ],
      "text/plain": [
       "                         name  kingdom euConcernStatus gbifapi_usageKey  \\\n",
       "29  Cotoneaster integrifolius  Plantae             NaN          3026105   \n",
       "\n",
       "                     gbifapi_scientificName      gbifapi_canonicalName  \\\n",
       "29  Cotoneaster integrifolius (Roxb.) Klotz  Cotoneaster integrifolius   \n",
       "\n",
       "   gbifapi_status gbifapi_rank gbifapi_matchType gbifapi_confidence  \\\n",
       "29        SYNONYM      SPECIES            MANUAL                NaN   \n",
       "\n",
       "   gbifapi_acceptedKey                     gbifapi_acceptedScientificName  \\\n",
       "29             8422000  Cotoneaster microphylla var. thymifolius (Bake...   \n",
       "\n",
       "   nbnTaxonID NBN_scientificName  \n",
       "29        NaN                NaN  "
      ]
     },
     "execution_count": 18,
     "metadata": {},
     "output_type": "execute_result"
    }
   ],
   "source": [
    "data[data['name'] == scientificName]"
   ]
  },
  {
   "cell_type": "markdown",
   "metadata": {},
   "source": [
    "## Update species-list.tsv"
   ]
  },
  {
   "cell_type": "code",
   "execution_count": 19,
   "metadata": {
    "collapsed": true
   },
   "outputs": [],
   "source": [
    "data.to_csv(\n",
    "    '../../species-list/species-list.tsv',\n",
    "    sep= '\\t',\n",
    "    index = False\n",
    ")"
   ]
  }
 ],
 "metadata": {
  "kernelspec": {
   "display_name": "Python 3",
   "language": "python",
   "name": "python3"
  },
  "language_info": {
   "codemirror_mode": {
    "name": "ipython",
    "version": 3
   },
   "file_extension": ".py",
   "mimetype": "text/x-python",
   "name": "python",
   "nbconvert_exporter": "python",
   "pygments_lexer": "ipython3",
   "version": "3.5.1"
  }
 },
 "nbformat": 4,
 "nbformat_minor": 0
}
