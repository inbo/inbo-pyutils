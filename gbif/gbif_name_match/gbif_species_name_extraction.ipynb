{
 "cells": [
  {
   "cell_type": "markdown",
   "metadata": {},
   "source": [
    "# GBIF API request for species naming explanation"
   ]
  },
  {
   "cell_type": "code",
   "execution_count": 1,
   "metadata": {
    "collapsed": false
   },
   "outputs": [],
   "source": [
    "import json\n",
    "import requests\n",
    "\n",
    "import pandas as pd"
   ]
  },
  {
   "cell_type": "markdown",
   "metadata": {},
   "source": [
    "### Introduction: example request for info"
   ]
  },
  {
   "cell_type": "markdown",
   "metadata": {},
   "source": [
    "The requirements are discussed in the following comment:\n",
    "https://github.com/LifeWatchINBO/invasive-t0-occurrences/issues/6 and an example is included. \n",
    "\n",
    "Let us test the example by making a request:"
   ]
  },
  {
   "cell_type": "code",
   "execution_count": 9,
   "metadata": {
    "collapsed": false
   },
   "outputs": [],
   "source": [
    "temp = requests.get(\"http://api.gbif.org/v1/species/match?verbose=false&kingdom=Plantae&name=Heracleum%20mantegazziaum&strict=false\")"
   ]
  },
  {
   "cell_type": "code",
   "execution_count": 10,
   "metadata": {
    "collapsed": false
   },
   "outputs": [
    {
     "data": {
      "text/plain": [
       "{'canonicalName': 'Heracleum mantegazzianum',\n",
       " 'class': 'Magnoliopsida',\n",
       " 'classKey': 220,\n",
       " 'confidence': 96,\n",
       " 'family': 'Apiaceae',\n",
       " 'familyKey': 6720,\n",
       " 'genus': 'Heracleum',\n",
       " 'genusKey': 3034824,\n",
       " 'kingdom': 'Plantae',\n",
       " 'kingdomKey': 6,\n",
       " 'matchType': 'FUZZY',\n",
       " 'order': 'Apiales',\n",
       " 'orderKey': 1351,\n",
       " 'phylum': 'Tracheophyta',\n",
       " 'phylumKey': 7707728,\n",
       " 'rank': 'SPECIES',\n",
       " 'scientificName': 'Heracleum mantegazzianum Sommier & Levier',\n",
       " 'species': 'Heracleum mantegazzianum',\n",
       " 'speciesKey': 3034825,\n",
       " 'status': 'ACCEPTED',\n",
       " 'synonym': False,\n",
       " 'usageKey': 3034825}"
      ]
     },
     "execution_count": 10,
     "metadata": {},
     "output_type": "execute_result"
    }
   ],
   "source": [
    "temp.json()"
   ]
  },
  {
   "cell_type": "markdown",
   "metadata": {},
   "source": [
    "### Development of the building blocks of our small application"
   ]
  },
  {
   "cell_type": "markdown",
   "metadata": {},
   "source": [
    "Two important functions are available to extract the information:\n",
    "* A function that can do a request with the given species/kingdom combination: `extract_gbif_species_names_info`\n",
    "* A function that can iteratively do this for every specie in the provided list on https://github.com/LifeWatchINBO/invasive-t0-occurrences/blob/master/species-list/species-list.tsv `extract_species_information`"
   ]
  },
  {
   "cell_type": "markdown",
   "metadata": {},
   "source": [
    "Importing them makes it available:"
   ]
  },
  {
   "cell_type": "code",
   "execution_count": 39,
   "metadata": {
    "collapsed": false
   },
   "outputs": [],
   "source": [
    "from gbif_species_name_match import (extract_gbif_species_names_info, \n",
    "                                     extract_species_information,\n",
    "                                     extract_gbif_accepted_key)"
   ]
  },
  {
   "cell_type": "markdown",
   "metadata": {},
   "source": [
    "### Extract info from GBIF about provided species"
   ]
  },
  {
   "cell_type": "markdown",
   "metadata": {},
   "source": [
    "`extract_gbif_species_names_info` provides the funcionality to request species info from the GBIF API. It can be used as python function or from the command line:"
   ]
  },
  {
   "cell_type": "markdown",
   "metadata": {
    "collapsed": true
   },
   "source": [
    "#### Python function:"
   ]
  },
  {
   "cell_type": "code",
   "execution_count": 28,
   "metadata": {
    "collapsed": false
   },
   "outputs": [
    {
     "name": "stdout",
     "output_type": "stream",
     "text": [
      "name,kingdom,euConcernStatus\r\n",
      "Alopochen aegyptiaca,Animalia,under consideration\r\n",
      "Cotoneaster ganghobaensis,Plantae,\r\n",
      "Cotoneaster hylmoei,Plantae,\r\n",
      "Cotoneaster x suecicus,Plantae,\r\n",
      "Euthamia graminifolia,Plantae,under preparation\r\n"
     ]
    }
   ],
   "source": [
    "!cat sample.tsv"
   ]
  },
  {
   "cell_type": "code",
   "execution_count": 33,
   "metadata": {
    "collapsed": false
   },
   "outputs": [
    {
     "name": "stdout",
     "output_type": "stream",
     "text": [
      "Using columns name and kingdom for API request.\n"
     ]
    }
   ],
   "source": [
    "updated_tsv = extract_species_information(\"sample.csv\", \n",
    "                                          output=None,                              \n",
    "                                          api_terms=[\"usageKey\", \n",
    "                                                     \"scientificName\", \n",
    "                                                     \"canonicalName\",\n",
    "                                                     \"status\", \n",
    "                                                     \"rank\", \n",
    "                                                     \"matchType\", \n",
    "                                                     \"confidence\"],\n",
    "                                         )"
   ]
  },
  {
   "cell_type": "code",
   "execution_count": 34,
   "metadata": {
    "collapsed": false
   },
   "outputs": [
    {
     "data": {
      "text/html": [
       "<div>\n",
       "<table border=\"1\" class=\"dataframe\">\n",
       "  <thead>\n",
       "    <tr style=\"text-align: right;\">\n",
       "      <th></th>\n",
       "      <th>name</th>\n",
       "      <th>kingdom</th>\n",
       "      <th>euConcernStatus</th>\n",
       "      <th>gbifapi_usageKey</th>\n",
       "      <th>gbifapi_scientificName</th>\n",
       "      <th>gbifapi_canonicalName</th>\n",
       "      <th>gbifapi_status</th>\n",
       "      <th>gbifapi_rank</th>\n",
       "      <th>gbifapi_matchType</th>\n",
       "      <th>gbifapi_confidence</th>\n",
       "      <th>gbifapi_acceptedKey</th>\n",
       "      <th>gbifapi_acceptedScientificName</th>\n",
       "    </tr>\n",
       "  </thead>\n",
       "  <tbody>\n",
       "    <tr>\n",
       "      <th>0</th>\n",
       "      <td>Alopochen aegyptiaca</td>\n",
       "      <td>Animalia</td>\n",
       "      <td>under consideration</td>\n",
       "      <td>2498252</td>\n",
       "      <td>Alopochen aegyptiaca (Linnaeus, 1766)</td>\n",
       "      <td>Alopochen aegyptiaca</td>\n",
       "      <td>ACCEPTED</td>\n",
       "      <td>SPECIES</td>\n",
       "      <td>EXACT</td>\n",
       "      <td>100</td>\n",
       "      <td>2498252</td>\n",
       "      <td>Alopochen aegyptiaca (Linnaeus, 1766)</td>\n",
       "    </tr>\n",
       "    <tr>\n",
       "      <th>1</th>\n",
       "      <td>Cotoneaster ganghobaensis</td>\n",
       "      <td>Plantae</td>\n",
       "      <td>NaN</td>\n",
       "      <td>3025989</td>\n",
       "      <td>Cotoneaster ganghobaensis J. Fryer &amp; B. Hylmö</td>\n",
       "      <td>Cotoneaster ganghobaensis</td>\n",
       "      <td>SYNONYM</td>\n",
       "      <td>SPECIES</td>\n",
       "      <td>EXACT</td>\n",
       "      <td>100</td>\n",
       "      <td>3026007</td>\n",
       "      <td>Cotoneaster lambertii G. Klotz</td>\n",
       "    </tr>\n",
       "    <tr>\n",
       "      <th>2</th>\n",
       "      <td>Cotoneaster hylmoei</td>\n",
       "      <td>Plantae</td>\n",
       "      <td>NaN</td>\n",
       "      <td>3025758</td>\n",
       "      <td>Cotoneaster hylmoei K.E. Flinck &amp; J. Fryer</td>\n",
       "      <td>Cotoneaster hylmoei</td>\n",
       "      <td>SYNONYM</td>\n",
       "      <td>SPECIES</td>\n",
       "      <td>EXACT</td>\n",
       "      <td>100</td>\n",
       "      <td>3026076</td>\n",
       "      <td>Cotoneaster salicifolius var. rugosus (E. Prit...</td>\n",
       "    </tr>\n",
       "    <tr>\n",
       "      <th>3</th>\n",
       "      <td>Cotoneaster x suecicus</td>\n",
       "      <td>Plantae</td>\n",
       "      <td>NaN</td>\n",
       "      <td>3026040</td>\n",
       "      <td>Cotoneaster ×suecicus G. Klotz</td>\n",
       "      <td>Cotoneaster suecicus</td>\n",
       "      <td>ACCEPTED</td>\n",
       "      <td>SPECIES</td>\n",
       "      <td>EXACT</td>\n",
       "      <td>100</td>\n",
       "      <td>3026040</td>\n",
       "      <td>Cotoneaster ×suecicus G. Klotz</td>\n",
       "    </tr>\n",
       "    <tr>\n",
       "      <th>4</th>\n",
       "      <td>Euthamia graminifolia</td>\n",
       "      <td>Plantae</td>\n",
       "      <td>under preparation</td>\n",
       "      <td>3092782</td>\n",
       "      <td>Euthamia graminifolia (L.) Nutt.</td>\n",
       "      <td>Euthamia graminifolia</td>\n",
       "      <td>DOUBTFUL</td>\n",
       "      <td>SPECIES</td>\n",
       "      <td>EXACT</td>\n",
       "      <td>99</td>\n",
       "      <td>3092782</td>\n",
       "      <td>Euthamia graminifolia (L.) Nutt.</td>\n",
       "    </tr>\n",
       "  </tbody>\n",
       "</table>\n",
       "</div>"
      ],
      "text/plain": [
       "                        name   kingdom      euConcernStatus gbifapi_usageKey  \\\n",
       "0       Alopochen aegyptiaca  Animalia  under consideration          2498252   \n",
       "1  Cotoneaster ganghobaensis   Plantae                  NaN          3025989   \n",
       "2        Cotoneaster hylmoei   Plantae                  NaN          3025758   \n",
       "3     Cotoneaster x suecicus   Plantae                  NaN          3026040   \n",
       "4      Euthamia graminifolia   Plantae    under preparation          3092782   \n",
       "\n",
       "                          gbifapi_scientificName      gbifapi_canonicalName  \\\n",
       "0          Alopochen aegyptiaca (Linnaeus, 1766)       Alopochen aegyptiaca   \n",
       "1  Cotoneaster ganghobaensis J. Fryer & B. Hylmö  Cotoneaster ganghobaensis   \n",
       "2     Cotoneaster hylmoei K.E. Flinck & J. Fryer        Cotoneaster hylmoei   \n",
       "3                 Cotoneaster ×suecicus G. Klotz       Cotoneaster suecicus   \n",
       "4               Euthamia graminifolia (L.) Nutt.      Euthamia graminifolia   \n",
       "\n",
       "  gbifapi_status gbifapi_rank gbifapi_matchType gbifapi_confidence  \\\n",
       "0       ACCEPTED      SPECIES             EXACT                100   \n",
       "1        SYNONYM      SPECIES             EXACT                100   \n",
       "2        SYNONYM      SPECIES             EXACT                100   \n",
       "3       ACCEPTED      SPECIES             EXACT                100   \n",
       "4       DOUBTFUL      SPECIES             EXACT                 99   \n",
       "\n",
       "  gbifapi_acceptedKey                     gbifapi_acceptedScientificName  \n",
       "0             2498252              Alopochen aegyptiaca (Linnaeus, 1766)  \n",
       "1             3026007                     Cotoneaster lambertii G. Klotz  \n",
       "2             3026076  Cotoneaster salicifolius var. rugosus (E. Prit...  \n",
       "3             3026040                     Cotoneaster ×suecicus G. Klotz  \n",
       "4             3092782                   Euthamia graminifolia (L.) Nutt.  "
      ]
     },
     "execution_count": 34,
     "metadata": {},
     "output_type": "execute_result"
    }
   ],
   "source": [
    "updated_tsv.head()"
   ]
  },
  {
   "cell_type": "markdown",
   "metadata": {},
   "source": [
    "The available options are:\n",
    "* output : if None, nothing is written to output, pandas DataFrame is returnes; if string, the output is written to tsv file\n",
    "* api_terms : Either a list of existing terms or just provide 'all' if interested in all the information "
   ]
  },
  {
   "cell_type": "code",
   "execution_count": 36,
   "metadata": {
    "collapsed": false
   },
   "outputs": [
    {
     "name": "stdout",
     "output_type": "stream",
     "text": [
      "Using columns name and kingdom for API request.\n"
     ]
    },
    {
     "data": {
      "text/html": [
       "<div>\n",
       "<table border=\"1\" class=\"dataframe\">\n",
       "  <thead>\n",
       "    <tr style=\"text-align: right;\">\n",
       "      <th></th>\n",
       "      <th>name</th>\n",
       "      <th>kingdom</th>\n",
       "      <th>euConcernStatus</th>\n",
       "      <th>gbifapi_acceptedKey</th>\n",
       "      <th>gbifapi_acceptedScientificName</th>\n",
       "      <th>gbifapi_canonicalName</th>\n",
       "      <th>gbifapi_class</th>\n",
       "      <th>gbifapi_classKey</th>\n",
       "      <th>gbifapi_confidence</th>\n",
       "      <th>gbifapi_family</th>\n",
       "      <th>...</th>\n",
       "      <th>gbifapi_orderKey</th>\n",
       "      <th>gbifapi_phylum</th>\n",
       "      <th>gbifapi_phylumKey</th>\n",
       "      <th>gbifapi_rank</th>\n",
       "      <th>gbifapi_scientificName</th>\n",
       "      <th>gbifapi_species</th>\n",
       "      <th>gbifapi_speciesKey</th>\n",
       "      <th>gbifapi_status</th>\n",
       "      <th>gbifapi_synonym</th>\n",
       "      <th>gbifapi_usageKey</th>\n",
       "    </tr>\n",
       "  </thead>\n",
       "  <tbody>\n",
       "    <tr>\n",
       "      <th>0</th>\n",
       "      <td>Alopochen aegyptiaca</td>\n",
       "      <td>Animalia</td>\n",
       "      <td>under consideration</td>\n",
       "      <td>2498252</td>\n",
       "      <td>Alopochen aegyptiaca (Linnaeus, 1766)</td>\n",
       "      <td>Alopochen aegyptiaca</td>\n",
       "      <td>Aves</td>\n",
       "      <td>212</td>\n",
       "      <td>100</td>\n",
       "      <td>Anatidae</td>\n",
       "      <td>...</td>\n",
       "      <td>1108</td>\n",
       "      <td>Chordata</td>\n",
       "      <td>44</td>\n",
       "      <td>SPECIES</td>\n",
       "      <td>Alopochen aegyptiaca (Linnaeus, 1766)</td>\n",
       "      <td>Alopochen aegyptiaca</td>\n",
       "      <td>2498252</td>\n",
       "      <td>ACCEPTED</td>\n",
       "      <td>False</td>\n",
       "      <td>2498252</td>\n",
       "    </tr>\n",
       "    <tr>\n",
       "      <th>1</th>\n",
       "      <td>Cotoneaster ganghobaensis</td>\n",
       "      <td>Plantae</td>\n",
       "      <td>NaN</td>\n",
       "      <td>3026007</td>\n",
       "      <td>Cotoneaster lambertii G. Klotz</td>\n",
       "      <td>Cotoneaster ganghobaensis</td>\n",
       "      <td>Magnoliopsida</td>\n",
       "      <td>220</td>\n",
       "      <td>100</td>\n",
       "      <td>Rosaceae</td>\n",
       "      <td>...</td>\n",
       "      <td>691</td>\n",
       "      <td>Tracheophyta</td>\n",
       "      <td>7707728</td>\n",
       "      <td>SPECIES</td>\n",
       "      <td>Cotoneaster ganghobaensis J. Fryer &amp; B. Hylmö</td>\n",
       "      <td>Cotoneaster lambertii</td>\n",
       "      <td>3026007</td>\n",
       "      <td>SYNONYM</td>\n",
       "      <td>True</td>\n",
       "      <td>3025989</td>\n",
       "    </tr>\n",
       "    <tr>\n",
       "      <th>2</th>\n",
       "      <td>Cotoneaster hylmoei</td>\n",
       "      <td>Plantae</td>\n",
       "      <td>NaN</td>\n",
       "      <td>3026076</td>\n",
       "      <td>Cotoneaster salicifolius var. rugosus (E. Prit...</td>\n",
       "      <td>Cotoneaster hylmoei</td>\n",
       "      <td>Magnoliopsida</td>\n",
       "      <td>220</td>\n",
       "      <td>100</td>\n",
       "      <td>Rosaceae</td>\n",
       "      <td>...</td>\n",
       "      <td>691</td>\n",
       "      <td>Tracheophyta</td>\n",
       "      <td>7707728</td>\n",
       "      <td>SPECIES</td>\n",
       "      <td>Cotoneaster hylmoei K.E. Flinck &amp; J. Fryer</td>\n",
       "      <td>Cotoneaster salicifolius</td>\n",
       "      <td>3026074</td>\n",
       "      <td>SYNONYM</td>\n",
       "      <td>True</td>\n",
       "      <td>3025758</td>\n",
       "    </tr>\n",
       "    <tr>\n",
       "      <th>3</th>\n",
       "      <td>Cotoneaster x suecicus</td>\n",
       "      <td>Plantae</td>\n",
       "      <td>NaN</td>\n",
       "      <td>3026040</td>\n",
       "      <td>Cotoneaster ×suecicus G. Klotz</td>\n",
       "      <td>Cotoneaster suecicus</td>\n",
       "      <td>Magnoliopsida</td>\n",
       "      <td>220</td>\n",
       "      <td>100</td>\n",
       "      <td>Rosaceae</td>\n",
       "      <td>...</td>\n",
       "      <td>691</td>\n",
       "      <td>Tracheophyta</td>\n",
       "      <td>7707728</td>\n",
       "      <td>SPECIES</td>\n",
       "      <td>Cotoneaster ×suecicus G. Klotz</td>\n",
       "      <td>Cotoneaster suecicus</td>\n",
       "      <td>3026040</td>\n",
       "      <td>ACCEPTED</td>\n",
       "      <td>False</td>\n",
       "      <td>3026040</td>\n",
       "    </tr>\n",
       "    <tr>\n",
       "      <th>4</th>\n",
       "      <td>Euthamia graminifolia</td>\n",
       "      <td>Plantae</td>\n",
       "      <td>under preparation</td>\n",
       "      <td>3092782</td>\n",
       "      <td>Euthamia graminifolia (L.) Nutt.</td>\n",
       "      <td>Euthamia graminifolia</td>\n",
       "      <td>Magnoliopsida</td>\n",
       "      <td>220</td>\n",
       "      <td>99</td>\n",
       "      <td>Asteraceae</td>\n",
       "      <td>...</td>\n",
       "      <td>414</td>\n",
       "      <td>Tracheophyta</td>\n",
       "      <td>7707728</td>\n",
       "      <td>SPECIES</td>\n",
       "      <td>Euthamia graminifolia (L.) Nutt.</td>\n",
       "      <td>Euthamia graminifolia</td>\n",
       "      <td>3092782</td>\n",
       "      <td>DOUBTFUL</td>\n",
       "      <td>False</td>\n",
       "      <td>3092782</td>\n",
       "    </tr>\n",
       "  </tbody>\n",
       "</table>\n",
       "<p>5 rows × 28 columns</p>\n",
       "</div>"
      ],
      "text/plain": [
       "                        name   kingdom      euConcernStatus  \\\n",
       "0       Alopochen aegyptiaca  Animalia  under consideration   \n",
       "1  Cotoneaster ganghobaensis   Plantae                  NaN   \n",
       "2        Cotoneaster hylmoei   Plantae                  NaN   \n",
       "3     Cotoneaster x suecicus   Plantae                  NaN   \n",
       "4      Euthamia graminifolia   Plantae    under preparation   \n",
       "\n",
       "  gbifapi_acceptedKey                     gbifapi_acceptedScientificName  \\\n",
       "0             2498252              Alopochen aegyptiaca (Linnaeus, 1766)   \n",
       "1             3026007                     Cotoneaster lambertii G. Klotz   \n",
       "2             3026076  Cotoneaster salicifolius var. rugosus (E. Prit...   \n",
       "3             3026040                     Cotoneaster ×suecicus G. Klotz   \n",
       "4             3092782                   Euthamia graminifolia (L.) Nutt.   \n",
       "\n",
       "       gbifapi_canonicalName  gbifapi_class gbifapi_classKey  \\\n",
       "0       Alopochen aegyptiaca           Aves              212   \n",
       "1  Cotoneaster ganghobaensis  Magnoliopsida              220   \n",
       "2        Cotoneaster hylmoei  Magnoliopsida              220   \n",
       "3       Cotoneaster suecicus  Magnoliopsida              220   \n",
       "4      Euthamia graminifolia  Magnoliopsida              220   \n",
       "\n",
       "  gbifapi_confidence gbifapi_family       ...        gbifapi_orderKey  \\\n",
       "0                100       Anatidae       ...                    1108   \n",
       "1                100       Rosaceae       ...                     691   \n",
       "2                100       Rosaceae       ...                     691   \n",
       "3                100       Rosaceae       ...                     691   \n",
       "4                 99     Asteraceae       ...                     414   \n",
       "\n",
       "  gbifapi_phylum gbifapi_phylumKey gbifapi_rank  \\\n",
       "0       Chordata                44      SPECIES   \n",
       "1   Tracheophyta           7707728      SPECIES   \n",
       "2   Tracheophyta           7707728      SPECIES   \n",
       "3   Tracheophyta           7707728      SPECIES   \n",
       "4   Tracheophyta           7707728      SPECIES   \n",
       "\n",
       "                          gbifapi_scientificName           gbifapi_species  \\\n",
       "0          Alopochen aegyptiaca (Linnaeus, 1766)      Alopochen aegyptiaca   \n",
       "1  Cotoneaster ganghobaensis J. Fryer & B. Hylmö     Cotoneaster lambertii   \n",
       "2     Cotoneaster hylmoei K.E. Flinck & J. Fryer  Cotoneaster salicifolius   \n",
       "3                 Cotoneaster ×suecicus G. Klotz      Cotoneaster suecicus   \n",
       "4               Euthamia graminifolia (L.) Nutt.     Euthamia graminifolia   \n",
       "\n",
       "  gbifapi_speciesKey gbifapi_status gbifapi_synonym gbifapi_usageKey  \n",
       "0            2498252       ACCEPTED           False          2498252  \n",
       "1            3026007        SYNONYM            True          3025989  \n",
       "2            3026074        SYNONYM            True          3025758  \n",
       "3            3026040       ACCEPTED           False          3026040  \n",
       "4            3092782       DOUBTFUL           False          3092782  \n",
       "\n",
       "[5 rows x 28 columns]"
      ]
     },
     "execution_count": 36,
     "metadata": {},
     "output_type": "execute_result"
    }
   ],
   "source": [
    "extract_species_information(\"sample.csv\", output=None, api_terms=\"all\")"
   ]
  },
  {
   "cell_type": "markdown",
   "metadata": {},
   "source": [
    "#### Command line"
   ]
  },
  {
   "cell_type": "markdown",
   "metadata": {
    "collapsed": true
   },
   "source": [
    "When working in the command line, the function will take the first argument as input file and the last argument as file to write it to, both combined with the relative path:\n",
    "\n",
    "```bash\n",
    "python gbif_species_name_extraction.py sample.csv sample_dump.csv\n",
    "```\n",
    "\n",
    "The terms added to the tsv file are the default list as follows:\n",
    "\n",
    "```python\n",
    "[\"usageKey\", \"scientificName\", \"canonicalName\", \"status\", \"rank\", \"matchType\", \"confidence\"]\n",
    "\n",
    "```"
   ]
  },
  {
   "cell_type": "markdown",
   "metadata": {},
   "source": [
    "### Extract info of individual species"
   ]
  },
  {
   "cell_type": "markdown",
   "metadata": {},
   "source": [
    "The `extract_gbif_species_names_info` function is useful for a request of a single species/kingdom combination:"
   ]
  },
  {
   "cell_type": "code",
   "execution_count": 37,
   "metadata": {
    "collapsed": false
   },
   "outputs": [
    {
     "data": {
      "text/plain": [
       "{'canonicalName': 'Dinebra panicea brachiata',\n",
       " 'class': 'Liliopsida',\n",
       " 'classKey': 196,\n",
       " 'confidence': 100,\n",
       " 'family': 'Poaceae',\n",
       " 'familyKey': 3073,\n",
       " 'genus': 'Leptochloa',\n",
       " 'genusKey': 2703864,\n",
       " 'kingdom': 'Plantae',\n",
       " 'kingdomKey': 6,\n",
       " 'matchType': 'EXACT',\n",
       " 'order': 'Poales',\n",
       " 'orderKey': 1369,\n",
       " 'phylum': 'Tracheophyta',\n",
       " 'phylumKey': 7707728,\n",
       " 'rank': 'VARIETY',\n",
       " 'scientificName': 'Dinebra panicea var. brachiata (Steud.) P.M.Peterson & N.Snow',\n",
       " 'species': 'Leptochloa panicea',\n",
       " 'speciesKey': 2703872,\n",
       " 'status': 'SYNONYM',\n",
       " 'synonym': True,\n",
       " 'usageKey': 8306067}"
      ]
     },
     "execution_count": 37,
     "metadata": {},
     "output_type": "execute_result"
    }
   ],
   "source": [
    "extract_gbif_species_names_info(\"Dinebra panicea (Retz.) P.M. Peterson & N. Snow var. brachiata (Steud.) P.M. Peterson & N. Snow\", kingdom=\"Plantae\")"
   ]
  },
  {
   "cell_type": "markdown",
   "metadata": {
    "collapsed": true
   },
   "source": [
    "The `extract_gbif_accepted_key` fucntion is useful to get the acceptedKey corresponding to any usage key of GBIF:"
   ]
  },
  {
   "cell_type": "code",
   "execution_count": 40,
   "metadata": {
    "collapsed": false
   },
   "outputs": [
    {
     "data": {
      "text/plain": [
       "(3026076,\n",
       " 'Cotoneaster salicifolius var. rugosus (E. Pritz.) Rehd. & E.H. Wilson')"
      ]
     },
     "execution_count": 40,
     "metadata": {},
     "output_type": "execute_result"
    }
   ],
   "source": [
    "extract_gbif_accepted_key(3025758)"
   ]
  },
  {
   "cell_type": "code",
   "execution_count": null,
   "metadata": {
    "collapsed": true
   },
   "outputs": [],
   "source": []
  }
 ],
 "metadata": {
  "kernelspec": {
   "display_name": "Python 3",
   "language": "python",
   "name": "python3"
  },
  "language_info": {
   "codemirror_mode": {
    "name": "ipython",
    "version": 3
   },
   "file_extension": ".py",
   "mimetype": "text/x-python",
   "name": "python",
   "nbconvert_exporter": "python",
   "pygments_lexer": "ipython3",
   "version": "3.5.1"
  },
  "widgets": {
   "state": {},
   "version": "1.1.2"
  }
 },
 "nbformat": 4,
 "nbformat_minor": 0
}
